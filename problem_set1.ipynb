{
    "cells": [
        {
            "cell_type": "markdown",
            "source": [
                "# Macroeconomics III: Problem Set 1\n",
                "\n",
                "Student: Rafael F. Bressan"
            ],
            "metadata": {}
        },
        {
            "cell_type": "markdown",
            "source": [
                "# 1 No Economics\n",
                "\n",
                "## 1. **Solving Nonlinear Equations - Bisection Method.** Consider the function:\n",
                "\n",
                "$$b(x) = e^x − e^{2.2087}$$\n",
                "\n",
                "Starting from the interval $x \\in [0, 4]$, find $x^∗$ such that $b(x^∗) = 0$ using the bisection method."
            ],
            "metadata": {}
        },
        {
            "cell_type": "code",
            "execution_count": null,
            "source": [
                "import numpy as np\n",
                "import matplotlib.pyplot as plt\n",
                "plt.rcParams[\"figure.figsize\"] = (10, 6)  #set default figure size\n",
                "from scipy import interpolate\n",
                "%matplotlib inline"
            ],
            "outputs": [],
            "metadata": {}
        },
        {
            "cell_type": "code",
            "execution_count": null,
            "source": [
                "def f(x):\n",
                "    return np.exp(x) - np.exp(2.2087)"
            ],
            "outputs": [],
            "metadata": {}
        },
        {
            "cell_type": "code",
            "execution_count": null,
            "source": [
                "def bisection(func, a, b, tol = 1e-8):\n",
                "    if func(a)*func(b)>0:\n",
                "        print('Conditions for the Intermidiate Value Theorem do not hold')\n",
                "    else:\n",
                "        # First middle point\n",
                "        c = (a+b)/2\n",
                "        error = abs(func(c))\n",
                "        # ~ print(error) \n",
                "        # bisection loop\n",
                "        while error > tol:\n",
                "            if func(c)*func(a) < 0:\n",
                "                b = c\n",
                "            else:\n",
                "                a = c\n",
                "            c = (a+b)/2\n",
                "            error = abs(func(c))\n",
                "            # ~ print(error)\n",
                "\n",
                "    return c"
            ],
            "outputs": [],
            "metadata": {}
        },
        {
            "cell_type": "code",
            "execution_count": null,
            "source": [
                "root = bisection(f, 0, 4)\n",
                "print(f\"Root of the function: {root}.\")"
            ],
            "outputs": [],
            "metadata": {}
        },
        {
            "cell_type": "markdown",
            "source": [
                "## 2. **Solving Nonlinear Equations - Newton’s Method.** Consider the function:\n",
                "$$d(x) = x^{−5} − x^{−3} − c.$$\n",
                "\n",
                "(a) Set $c = 1$ and plot $d$ on $x \\in [0.6, 10]$. Find $x^∗$ such that $d(x^∗) = 0$ using Newton’s\n",
                "method.\n"
            ],
            "metadata": {}
        },
        {
            "cell_type": "code",
            "execution_count": null,
            "source": [
                "def d(x, c):\n",
                "    return x**(-5)-x**(-3)-c"
            ],
            "outputs": [],
            "metadata": {}
        },
        {
            "cell_type": "code",
            "execution_count": null,
            "source": [
                "\n",
                "xg=np.linspace(0.6, 10, 100)\n",
                "fig, ax = plt.subplots()\n",
                "ax.plot(xg, d(xg, 1), label = \"d(x)\")\n",
                "ax.axhline(y=0, color='black', lw=0.5)\n",
                "ax.legend()"
            ],
            "outputs": [],
            "metadata": {}
        },
        {
            "cell_type": "code",
            "execution_count": null,
            "source": [
                "def newton(x0, f, J, tol=1e-8, maxit=100):\n",
                "    error = abs(f(x0))\n",
                "    xs = x0\n",
                "    i = 0\n",
                "    while error > tol:\n",
                "        xs1 = xs - f(xs)/(J(xs) + tol)\n",
                "        #Somamos um numero pequeno para evitar que haja divisões por zero\n",
                "        error = abs(f(xs1))\n",
                "        xs = xs1\n",
                "        i += 1\n",
                "        if i == maxit:\n",
                "            warning = 'The algorithm did not converge in the first ' + str(maxit) + ' iterations.'\n",
                "            return warning\n",
                "            break\n",
                "    return xs1"
            ],
            "outputs": [],
            "metadata": {}
        },
        {
            "cell_type": "code",
            "execution_count": null,
            "source": [
                "\n",
                "# Define the Jacobian (derivative)\n",
                "def dd(x):\n",
                "    return -5*x**(-6)+3*x**(-4)\n",
                "\n",
                "# Encapsulate the value of c=1\n",
                "def d1(x):\n",
                "    return d(x, 1)"
            ],
            "outputs": [],
            "metadata": {}
        },
        {
            "cell_type": "code",
            "execution_count": null,
            "source": [
                "root=newton(0.65, d1, dd)\n",
                "print(f\"Root of the function: {root}.\")"
            ],
            "outputs": [],
            "metadata": {}
        },
        {
            "cell_type": "markdown",
            "source": [
                "\n",
                "(b) Now construct an equidistant grid for $c$ containing 10 nodes between 1 and 10,\n",
                "and for each value of c on the grid find $x^∗$."
            ],
            "metadata": {}
        },
        {
            "cell_type": "code",
            "execution_count": null,
            "source": [
                "c=np.linspace(1, 10, 10)\n",
                "root=np.zeros(10)\n",
                "for i in range(len(c)):\n",
                "    def dc(x):\n",
                "        return d(x, c[i])\n",
                "    \n",
                "    root[i]=newton(0.8, dc, dd)\n",
                "    print(f\"Root for c={c[i]}: {root[i]}\")"
            ],
            "outputs": [],
            "metadata": {}
        },
        {
            "cell_type": "markdown",
            "source": [
                "\n",
                "(c) Construct a new equidistant grid for $c$ containing 1000 nodes between 1 and 10,\n",
                "and plot your solution for each value on this grid using a spline."
            ],
            "metadata": {}
        },
        {
            "cell_type": "code",
            "execution_count": null,
            "source": [
                "\n",
                "# B-Spline cubic\n",
                "# could use interpolate.iterp1d\n",
                "sp=interpolate.splrep(c, root)\n",
                "fine_c=np.linspace(1, 10, 1000)\n",
                "sp_fine=interpolate.splev(fine_c, sp)\n",
                "\n",
                "fig, ax = plt.subplots()\n",
                "ax.scatter(c, root, c='green')\n",
                "ax.plot(fine_c, sp_fine)\n",
                "ax.set_xlabel('c')\n",
                "ax.set_ylabel('$x^*$')\n",
                "ax.set_xticks(c)"
            ],
            "outputs": [],
            "metadata": {}
        },
        {
            "cell_type": "markdown",
            "source": [
                "(d) Relabel your solution $x^∗$ from part (b) $x(c)$. Find the inverse function $c(x)$,\n",
                "and plot it on an equidistant grid of 1000 nodes on $x \\in [0.6, 10]$ using a spline\n",
                "approximation."
            ],
            "metadata": {}
        },
        {
            "cell_type": "code",
            "execution_count": null,
            "source": [
                "# Invert the interpolation\n",
                "spc = interpolate.splrep(sorted(root), list(reversed(c)), s = 0)\n",
                "fine_x=np.linspace(0.6, 10, 1000)\n",
                "# B-Spline cubic\n",
                "spc_fine=interpolate.splev(fine_x, spc)\n",
                "\n",
                "fig, ax = plt.subplots()\n",
                "ax.scatter(root, c, color='green')\n",
                "ax.plot(fine_x, spc_fine)\n",
                "ax.set_xlabel('x')\n",
                "ax.set_ylabel('c')"
            ],
            "outputs": [],
            "metadata": {}
        },
        {
            "cell_type": "markdown",
            "source": [
                "\n",
                "(e) Now find the solution to:\n",
                "0 = c(x) + x."
            ],
            "metadata": {}
        },
        {
            "cell_type": "code",
            "execution_count": null,
            "source": [
                "# Let g(x) := c(x) + x\n",
                "g = c + root # Numerical points for g(x)\n",
                "# plt.scatter(root, g)\n",
                "# Interpolate it over a very fine grid\n",
                "spg = interpolate.splrep(sorted(root), list(reversed(g)), s = 0)\n",
                "fine_x2 = np.arange(0.6, 1, 1e-6)\n",
                "spg_fine = interpolate.splev(fine_x2, spg)\n",
                "plt.plot(fine_x2, spg_fine)\n",
                "plt.grid(axis='y')"
            ],
            "outputs": [],
            "metadata": {}
        },
        {
            "cell_type": "code",
            "execution_count": null,
            "source": [
                "# roots = np.array([])\n",
                "g_min = abs(spg_fine).argmin() # Index for the min abs(g(x))\n",
                "# If the minimum value of abs(g(x)) is close enough to zero then x is the root\n",
                "if spg_fine[g_min] < 1e-4:\n",
                "    g_root = fine_x2[g_min]\n",
                "    print(f\"The root for g(x) is: {g_root}\")\n",
                "else:\n",
                "    print(\"g(x) has no root in the interval\")"
            ],
            "outputs": [],
            "metadata": {}
        },
        {
            "cell_type": "code",
            "execution_count": null,
            "source": [
                "# We could also implement a modified bisection method!\n",
                "def m_bisection(func, tol = 1e-4, maxit = 100):\n",
                "    i = 0\n",
                "    j = len(func) - 1\n",
                "    itr = 0\n",
                "\n",
                "    if func[i]*func[j] > 0:\n",
                "        print('Conditions for the Intermidiate Value Theorem do not hold')\n",
                "    else:\n",
                "        # First middle point\n",
                "        k = (i+j)//2 # floor division to avoid floating points\n",
                "        error = abs(func[k])\n",
                "        # bisection loop\n",
                "        while error > tol:\n",
                "            if func[k]*func[i] < 0:\n",
                "                j = k\n",
                "            else:\n",
                "                i = k\n",
                "            itr +=1\n",
                "            # print(f\"Iteration {itr}: {i}, {j}, {k}\")\n",
                "            if itr >= maxit:\n",
                "                break\n",
                "            k = (i+j)//2\n",
                "            error = abs(func[k])\n",
                "            # ~ print(error)\n",
                "    return k"
            ],
            "outputs": [],
            "metadata": {}
        },
        {
            "cell_type": "code",
            "execution_count": null,
            "source": [
                "kg = m_bisection(spg_fine)\n",
                "print(f\"The root for g(x) is: {fine_x2[kg]}\")"
            ],
            "outputs": [],
            "metadata": {}
        },
        {
            "cell_type": "markdown",
            "source": [
                "## 3. **Approximation Methods: Finite Element Methods.** Consider the function $h(x)$ on the domain $x \\in[-2,2]$ :\n",
                "$$\n",
                "h(x)=\\left\\{\\begin{array}{lc}\n",
                "(x-0.5)^{2} & \\text { for } 0 \\leq x \\leq 2 \\\\\n",
                "(x+0.5)^{2} & \\text { for }-2 \\leq x<0\n",
                "\\end{array}\\right.\n",
                "$$"
            ],
            "metadata": {}
        },
        {
            "cell_type": "markdown",
            "source": [
                "(a) Approximate $h(x)$ with a cubic spline, using $n=5$ equally spaced nodes. Plot the function along with your approximation and calculate the root mean squared error of your approximation over the fine grid, with interval $0.0001$."
            ],
            "metadata": {}
        },
        {
            "cell_type": "code",
            "execution_count": null,
            "source": [
                "def h_scalar(x):\n",
                "    if x >= -2 and x < 0:\n",
                "        return (x+0.5)**2\n",
                "    elif x >= 0 and x <= 2:\n",
                "        return (x-0.5)**2\n",
                "    else:\n",
                "        return np.nan\n",
                "\n",
                "# Vectorize the function\n",
                "h=np.vectorize(h_scalar)"
            ],
            "outputs": [],
            "metadata": {}
        },
        {
            "cell_type": "code",
            "execution_count": null,
            "source": [
                "n=np.linspace(-2, 2, 5)\n",
                "x=np.arange(-2, 2, 0.0001)\n",
                "# B-Spline cubic\n",
                "sp=interpolate.splrep(n, h(n))\n",
                "sp_eval=interpolate.splev(x, sp)\n",
                "# Plot the functions\n",
                "fig, ax=plt.subplots(figsize=(10,6))\n",
                "ax.plot(x, h(x), color='green', label='True Function')\n",
                "ax.plot(x, sp_eval, color='red', label='Approximation')\n",
                "ax.legend()"
            ],
            "outputs": [],
            "metadata": {}
        },
        {
            "cell_type": "markdown",
            "source": [
                "The **root mean squared error** (RMSE) is computed as follows:\n",
                "$$\n",
                "RMSE=\\sqrt{\\frac{1}{n}\\sum_{i=1}^n(x_i - y_i)^2}\n",
                "$$\n",
                "\n",
                "for two vectors $x$ and $y$."
            ],
            "metadata": {}
        },
        {
            "cell_type": "code",
            "execution_count": null,
            "source": [
                "def rmse(x, y):\n",
                "    return np.sqrt(np.mean((x-y)**2))\n",
                "\n",
                "rmserr=rmse(h(x), sp_eval)\n",
                "print(f\"The RMSE is: {rmserr}\")"
            ],
            "outputs": [],
            "metadata": {}
        },
        {
            "cell_type": "markdown",
            "source": [
                "\n",
                "(b) Approximate $h(x)$ with a cubic spline, using $n=10$ equally spaced nodes. Plot this new approximation along with both the actual function and your approximation from (a) and calculate the root mean squared error of your approximation over the fine grid, with interval $0.0001$. Explain the reasons for the differences in your answers."
            ],
            "metadata": {}
        },
        {
            "cell_type": "code",
            "execution_count": null,
            "source": [
                "n10=np.linspace(-2, 2, 10)\n",
                "# B-Spline cubic\n",
                "sp10=interpolate.splrep(n10, h(n10))\n",
                "sp10_eval=interpolate.splev(x, sp10)\n",
                "# Plot the functions\n",
                "fig, ax=plt.subplots(figsize=(10,6))\n",
                "ax.plot(x, h(x), color='green', label='True Function')\n",
                "ax.plot(x, sp_eval, color='red', label='Approximation n=5')\n",
                "ax.plot(x, sp10_eval, color='blue', label='Approximation n=10')\n",
                "ax.legend()"
            ],
            "outputs": [],
            "metadata": {}
        },
        {
            "cell_type": "code",
            "execution_count": null,
            "source": [
                "rmserr10=rmse(h(x), sp10_eval)\n",
                "print(f\"The RMSE is: {rmserr10}\")"
            ],
            "outputs": [],
            "metadata": {}
        },
        {
            "cell_type": "markdown",
            "source": [
                "The higher the number of nodes, more reference knots we have to compute the spline approximation. These knots (they are at the true function value) limit the range the approximation can differ from the true function, thus, improving the results. "
            ],
            "metadata": {}
        },
        {
            "cell_type": "markdown",
            "source": [
                "\n",
                "## 4. In this question, you will use a Monte Carlo procedure to estimate the value of $\\pi$. Pick a square with a perimeter of $8 r$ and inscribe a circumference with a $2 r$ diameter on it. We are able to estimate $\\pi$ by randomly drawing points inside the square and counting how many of them lie inside the circle.[^1]\n",
                "\n",
                "[^1]: To visualise the method, you can check this YouTube video [https://www.youtube.com/watch?v=ELetCV_wX_c](https://www.youtube.com/watch?v=ELetCV_wX_c).\n",
                "\n",
                "(a) Describe in detail the algorithm you intend to use to estimate $\\pi$."
            ],
            "metadata": {}
        },
        {
            "cell_type": "markdown",
            "source": [
                "I will anchor the bottom-left corner of the square at the origin, such that the square is the cartesian product $(0, 2r)\\times(0, 2r)$. The circle will be centered at $(r, r)$ and will have radius $r$.\n",
                "\n",
                "Then I will randomly draw two independent sequences $x, y \\in [0, 2r]$ to form the square point $(x, y)$. This point will lie inside the circle if its distance to the circle's center, $(r, r)$, is lower than or equal to $r$. The proportion of points inside the circle will approximate the ratio of areas between the circle and the square, $R=\\frac{\\pi r^2}{4 r^2}=\\pi/4$. Therefore, my approximation to $\\pi$ will be: $\\pi\\approx 4R$."
            ],
            "metadata": {}
        },
        {
            "cell_type": "markdown",
            "source": [
                "\n",
                "(b) Plot the square, the inscribed circumference and a random draw of 100 points. What is the value of your estimated $\\pi$ with this 100 points."
            ],
            "metadata": {}
        },
        {
            "cell_type": "code",
            "execution_count": null,
            "source": [
                "\n",
                "class pi_approx():\n",
                "    \n",
                "    def __init__(self, radius=1, n_points=100, seed=1234) -> None:\n",
                "        self.r = radius\n",
                "        self.n = n_points\n",
                "        self.seed = seed\n",
                "        self.pi = np.nan\n",
                "        self.x = np.zeros(n_points)\n",
                "        self.y = np.zeros(n_points)\n",
                "    \n",
                "    def approximate(self):\n",
                "        # set seed\n",
                "        rng=np.random.default_rng(self.seed)\n",
                "        self.x=rng.uniform(0, 2*self.r, self.n)\n",
                "        self.y=rng.uniform(0, 2*self.r, self.n)\n",
                "        point=np.array(list(zip(self.x, self.y)))\n",
                "        center=np.array((self.r, self.r))\n",
                "        # Euclidean distance of points from center\n",
                "        dist=np.linalg.norm(point-center, axis=1)\n",
                "        self.pi=4*np.sum(np.less_equal(dist, self.r))/self.n\n",
                "        # print(f\"Approximate Pi: {self.pi}\")\n",
                "    \n",
                "    def get_pi(self):\n",
                "        return self.pi\n",
                "    \n",
                "    def plot(self):\n",
                "        fig,ax=plt.subplots(figsize=(10,6))\n",
                "        ax.hlines(y=0, xmin=0, xmax=2*self.r)\n",
                "        ax.hlines(y=2*self.r, xmin=0, xmax=2*self.r)\n",
                "        ax.vlines(x=0, ymin=0, ymax=2*self.r)\n",
                "        ax.vlines(x=2*self.r, ymin=0, ymax=2*self.r)\n",
                "        theta=np.linspace(0, 2*np.pi, 200)\n",
                "        xc=self.r+self.r*np.cos(theta)\n",
                "        yc=self.r+self.r*np.sin(theta)\n",
                "        ax.plot(xc, yc, color='green')\n",
                "        ax.scatter(self.x, self.y, color='black')\n",
                "        ax.set_aspect(1)\n",
                "        ax.set_title(f\"{self.n} points randomly drawn\")"
            ],
            "outputs": [],
            "metadata": {}
        },
        {
            "cell_type": "code",
            "execution_count": null,
            "source": [
                "pi_ap = pi_approx()\n",
                "pi_ap.approximate()\n",
                "print(f\"Approximate Pi: {pi_ap.get_pi()}\")"
            ],
            "outputs": [],
            "metadata": {}
        },
        {
            "cell_type": "code",
            "execution_count": null,
            "source": [
                "pi_ap.plot()"
            ],
            "outputs": [],
            "metadata": {}
        },
        {
            "cell_type": "markdown",
            "source": [
                "\n",
                "\n",
                "(c) Replicate your algorithm 20 times, using different amounts of random draws $(n=5000,10000,15000, \\ldots, 100000)$. Plot the estimates of $\\pi$ in the vertical axis as a function of the number of random draws $(n)$ in the horizontal axis."
            ],
            "metadata": {}
        },
        {
            "cell_type": "code",
            "execution_count": null,
            "source": [
                "def pi_d(n_points):\n",
                "    pid = pi_approx(n_points=n_points)\n",
                "    pid.approximate()\n",
                "    return pid.get_pi()"
            ],
            "outputs": [],
            "metadata": {}
        },
        {
            "cell_type": "code",
            "execution_count": null,
            "source": [
                "points = np.arange(5000, 100001, 5000)\n",
                "pi_f = np.vectorize(pi_d)\n",
                "pi_vec = pi_f(points)\n",
                "# Plot\n",
                "plt.scatter(points, pi_vec, label = 'Estimations')\n",
                "plt.axhline(np.pi, color='red', label = 'True Pi')\n",
                "plt.legend()"
            ],
            "outputs": [],
            "metadata": {}
        },
        {
            "cell_type": "markdown",
            "source": [
                "# 2 Economics\n",
                "\n",
                "## 5. **Two-period model.** Consider the following two-period $(t=0,1)$ standard model economy. There is a continuum of agents of measure $1 .$ Each agent is endowed with one unit of time in each period, which can be used for leisure $l$ or hours worked $h$. Preferences are over consumption $c$ and leisure $l$ and are represented by\n",
                "$$\n",
                "U=\\sum_{t=0}^{1} \\beta^{t}\\left(u\\left(c_{t}\\right)+\\gamma v\\left(l_{t}\\right)\\right), \\gamma>0 \\text { and } \\beta \\in(0,1)\n",
                "$$\n",
                "and $u(c)=\\frac{c^{1-\\sigma}-1}{1-\\sigma}$ and $v(l)=\\frac{l^{1-\\sigma}-1}{1-\\sigma}$ with $\\sigma>0 .$ On the production side, there is a continuum of firms of measure one, each with access to a technology to produce the consumption good:\n",
                "$$\n",
                "Y_{t}=A_{t} L_{t}^{\\alpha}, A_{t}>0 \\text { and } \\alpha \\in(0,1)\n",
                "$$\n",
                "where $Y_{t}$ is output, $L_{t}$ denotes labor input and $A_{t}$ is a productivity factor. Each household is entitled to an equal share of dividends of the firms. Suppose that there is an asset market that agents can trade one-period bonds, such that budget constraints can be written as (I should not have written them because this is part of an exercise of thinking about writing your own economy)\n",
                "$$\n",
                "c_{0}+a_{1}=w_{0} h_{0}+\\pi_{0}\n",
                "$$\n",
                "and\n",
                "$$\n",
                "c_{1}=w_{1} h_{1}+(1+r) a_{1}+\\pi_{1}\n",
                "$$\n",
                "$\\pi_{t} \\mathrm{~s}$ are profits and they are taken as given by households. Carefully address the following questions.\n",
                "\n",
                "(a) Define a competitive equilibrium for this economy. Be precise about the problem of each agent, each firm and market clearing conditions."
            ],
            "metadata": {}
        },
        {
            "cell_type": "markdown",
            "source": [
                "There are three requirements for a competitive equilibrium, corresponding to: 1) households maximize utility; 2) firms maximize their profit; and that “markets clear” at the equilibrium price. \n",
                "\n",
                "1. Households Problem\n",
                "\n",
                "$$\n",
                "\\begin{align*}\n",
                "    \\max_{c_0,c_1,h_0,h_1,a_1}&U = u(c_0) + \\gamma v(1-h_0) + \\beta u(c_1) + \\beta \\gamma v(1-h_1)\\tag{HP}\\\\\n",
                "    s.t\\quad &c_0+a_1 = w_0h_0+\\pi_0\\\\\n",
                "    &c_1 = w_1h_1+\\pi_1+(1+r)a_1\\\\\n",
                "    &l_0+h_0=1\\\\\n",
                "    &l_1+h_1=1\n",
                "\\end{align*} \n",
                "$$\n",
                "\n",
                "2. Firms Problem\n",
                "\n",
                "$$\n",
                "\\begin{align*}\n",
                "    \\max_{L_t}\\quad &\\pi_t = p_tA_tL_t^\\alpha - w_tL_t\\quad t=\\{0,1\\}\\tag{FP}\n",
                "\\end{align*}\n",
                "$$\n",
                "\n",
                "3. Market Clearing\n",
                "\n",
                "Total consumption plus savings must equal total production plus interest at a given period\n",
                "\n",
                "3.1 $c_0+a_1=Y_0$\n",
                "\n",
                "3.2 $c_1=(1+r)a_1+Y_1$\n",
                "\n",
                "and labor supply matches demand\n",
                "\n",
                "3.3 $h_t=L_t$\n",
                "\n",
                "where $c_t$ denotes consumption at period $t$ from all households, which has a measure of 1 and $Y_t$ denotes total production of the final good from firms, which also has a measure of 1."
            ],
            "metadata": {}
        },
        {
            "cell_type": "markdown",
            "source": [
                "(b) Derive the first-order conditions of the problem of each agent and each firm and go as far as possible in writing the market clearing equilibrium conditions."
            ],
            "metadata": {}
        },
        {
            "cell_type": "markdown",
            "source": [
                "The First Order Conditions for HP is:\n",
                "$$\n",
                "\\begin{align*}\n",
                "    &\\mathcal{L} = u(c_0) + \\gamma v(1-h_0) + \\beta u(c_1) + \\beta\\gamma v(1-h_1) + \\lambda_0 [w_0 h_0 + \\pi_0 - c_0 - a_1] + \\lambda_1[w_1 h_1 + \\pi_1 + (1+r)a_1 - c_1]\\\\\n",
                "    &c_0: u'(c_0) - \\lambda_0 = 0\\\\\n",
                "    &c_1: \\beta u'(c_1) - \\lambda_1= 0\\\\\n",
                "    &h_0: -\\gamma v'(1-h_0) + \\lambda_0 w_0 = 0\\\\\n",
                "    &h_1: -\\beta\\gamma v'(1-h_1) + \\lambda_1 w_1 = 0\\\\\n",
                "    &a_1: -\\lambda_0 + \\lambda_1(1+r) = 0\n",
                "\\end{align*}\n",
                "$$"
            ],
            "metadata": {}
        },
        {
            "cell_type": "markdown",
            "source": [
                "Solving those equations we arrive at the Euler equation and the intertemporal labor supply substitution that characterizes the problem.\n",
                "\n",
                "$$\n",
                "\\begin{equation}\n",
                "\\left. \\begin{aligned}\n",
                "u'(c_0)=\\gamma\\frac{v'(1-h_0)}{w_0}\\\\\n",
                "u'(c_1)=\\gamma\\frac{v'(1-h_1)}{w_1}\n",
                "\\end{aligned}\n",
                "\\right\\rbrace \\implies u'(c_0)=\\beta(1+r)u'(c_1)\\qquad\\text{Euler equation}\n",
                "\\end{equation}\n",
                "$$\n",
                "\n",
                "$$\n",
                "\\begin{equation}\n",
                "v'(1-h_0) w_1 = \\beta(1+r) v'(1-h_1)w_0 \\qquad\\text{intertemporal labor supply substitution}\n",
                "\\end{equation}\n",
                "$$\n",
                "\n",
                "This system could be solved by writing all endogenous variables, $c_1$, $h_0$, $h_1$ and $a_1$ in terms of $c_0$, then using the first constraint equation, $c_0=w_0h_0+\\pi_0-a_1$ we can find $c_0(\\beta, r, w_0, w_1)$ and recursively substitute to find all other endogenous variables."
            ],
            "metadata": {}
        },
        {
            "cell_type": "markdown",
            "source": [
                "The First Order Condition for FP is:\n",
                "\n",
                "$$\n",
                "\\begin{equation}\n",
                "\\frac{w_t}{p_t} = \\alpha A_t L_t^{\\alpha-1}  \\quad t=\\{0,1\\}\n",
                "\\end{equation}\n",
                "$$\n",
                "\n",
                "Here we can see the FP is static and we are assuming firms are price takers at any given period. Moreover, since there is only one good in this economy it will be the numeraire, hence $p_t=1, \\forall t$. Therefore, real wages are given by the marginal productivity of labor."
            ],
            "metadata": {}
        },
        {
            "cell_type": "markdown",
            "source": [
                "Finally, market clearing implies:\n",
                "$$\n",
                "\\begin{align}\n",
                "    &h_t=L_t\\\\\n",
                "    &c_0+a_1=A_0 L_0^\\alpha\\\\\n",
                "    &c_1=(1+r)a_1 + A_1 L_1^\\alpha\\\\\n",
                "\\end{align}\n",
                "$$"
            ],
            "metadata": {}
        },
        {
            "cell_type": "markdown",
            "source": [
                "(c) Now, let $A_{0}=1, A_{1}=1, \\alpha=2 / 3, \\sigma=2, \\beta=0.98^{25}$ (subjective discount rate of $2 \\%$ per year, but a model period is 25 years) and $\\gamma=1 .$ Find all allocations (consumption, labor, leisure and assets) and prices $\\left(w_{0}, w_{1}\\right.$ and $\\left.r\\right)$ for this economy. You probably need to do this numerically - explain how you did it."
            ],
            "metadata": {}
        },
        {
            "cell_type": "markdown",
            "source": [
                "I started by setting up all equations from (1) to (6) in a total of 9 non-linear equations the equilibrium must satisfy. I treated the **interest rate, $r$, as exogenous**, thus, I have 9 endogenous variables and the same number of equations to solve the system. The endogenous variables are: $c_0, c_1, h_0, h_1, a_1, w_0, w_1, \\pi_0, \\pi_1$, while the exogenous parameters are: $\\alpha, \\beta, \\gamma, \\sigma, r, A_0, A_1$."
            ],
            "metadata": {}
        },
        {
            "cell_type": "markdown",
            "source": [
                "The 9 equations the economy must satisfy are:\n",
                "\n",
                "$$\n",
                "\\begin{align}\n",
                "c_0&=w_0h_0+\\pi_0-a_1\\\\\n",
                "c_1&=[(1+r)\\beta]^{1/\\sigma}c_0\\\\\n",
                "h_0&=1-(\\gamma/w_0)^{1/\\sigma}c_0\\\\\n",
                "h_1&=1-(\\gamma/w_1)^{1/\\sigma}c_1\\\\\n",
                "a1&=(c1-w_1h_1-\\pi_1)/(1+r)\\\\\n",
                "w_0&=\\alpha A_0 h_0^{\\alpha-1}\\\\\n",
                "w_1&=\\alpha A_1 h_1^{\\alpha-1}\\\\\n",
                "\\pi_0&=(1-\\alpha)A_0h_0^\\alpha\\\\\n",
                "\\pi_1&=(1-\\alpha)A_1h_1^\\alpha\n",
                "\\end{align}\n",
                "$$"
            ],
            "metadata": {}
        },
        {
            "cell_type": "code",
            "execution_count": null,
            "source": [
                "from scipy.optimize import root"
            ],
            "outputs": [],
            "metadata": {}
        },
        {
            "cell_type": "code",
            "execution_count": null,
            "source": [
                "class twop_economy():\n",
                "    \n",
                "    def __init__(self, A0, A1, alpha, sigma, beta, gamma, r, tol=1e-4) -> None:\n",
                "        self.A0, self.A1, self.alpha, self.sigma, self.beta, self.gamma, self.r = A0, A1, alpha, sigma, beta, gamma, r\n",
                "        self.tol = tol\n",
                "        self.eq = None # Equilibrium values\n",
                "    \n",
                "    def u(self, c):\n",
                "        return (c**(1-self.sigma)-1)/(1-self.sigma)\n",
                "    \n",
                "    def v(self, l):\n",
                "        return (l**(1-self.sigma)-1)/(1-self.sigma)\n",
                "    \n",
                "    def du(self, c):\n",
                "        return c**(-self.sigma)\n",
                "    \n",
                "    def dv(self, l):\n",
                "        return l**(-self.sigma)\n",
                "    \n",
                "    def solve_ss(self, x0) -> None:\n",
                "        \n",
                "        def obj_fun(x):\n",
                "            F = np.empty(9)\n",
                "            c0, c1, h0, h1, a1, w0, w1, pi0, pi1 = x\n",
                "            # Solving the system of nonlinear equations\n",
                "            F = np.array([\n",
                "                        #################################################\n",
                "                        # Using one equation for each endogenous variable\n",
                "                        c0 - (w0*h0+pi0-a1),\n",
                "                        c1 - (((1+self.r)*self.beta)**(1/self.sigma)*c0),\n",
                "                        h0 - (1-(self.gamma/w0)**(1/self.sigma)*c0),\n",
                "                        h1 - (1-(self.gamma/w1)**(1/self.sigma)*c1),\n",
                "                        a1 - (c1-w1*h1-pi1)/(1+self.r),\n",
                "                        w0 - (self.alpha*self.A0*(h0)**(self.alpha-1)),\n",
                "                        w1 - (self.alpha*self.A1*(h1)**(self.alpha-1)),\n",
                "                        pi0 - ((1-self.alpha)*self.A0*(h0)**self.alpha),\n",
                "                        pi1 - ((1-self.alpha)*self.A1*(h1)**self.alpha)\n",
                "                        ])\n",
                "            return F\n",
                "        \n",
                "        self.eq = root(obj_fun, x0, method='hybr')\n",
                "    \n",
                "    def check_constraints(self) -> None:\n",
                "        c0, c1, h0, h1, a1, w0, w1, pi0, pi1 = self.eq.x\n",
                "        print(\"Checking Equilibrium!\")\n",
                "        print(f\"Euler equation: {abs(self.du(c0)-(1+self.r)*self.beta*self.du(c1)) < self.tol}\")\n",
                "        print(f\"Budget constraint t0: {abs(c0+a1-w0*h0-pi0 < self.tol)}\")\n",
                "        print(f\"Budget constraint t1: {abs(c1-w1*h1-(1+self.r)*a1 - pi1 < self.tol)}\")"
            ],
            "outputs": [],
            "metadata": {}
        },
        {
            "cell_type": "code",
            "execution_count": null,
            "source": [
                "parameters = {'A0':1, 'A1':1, 'alpha': 2/3, 'sigma': 2, 'beta': 0.98**25, 'gamma': 1, 'r': 1.05**25-1}\n",
                "econ = twop_economy(**parameters)\n",
                "# Order for x0: c0, c1, h0, h1, a1, w0, w1, pi0, pi1\n",
                "x0 = np.array([0.5, 0.9, 0.5, 0.5, 0.2, 0.9, 0.9, 0.5, 0.5])\n",
                "x0a = np.array([0.5, 0.9, 0.3, 0.6, 0.1, 0.3, 0.6, 0.35, 0.25])\n",
                "econ.solve_ss(x0)\n",
                "print(f\"Root finding successfull? {econ.eq.success}\")\n",
                "result = dict(zip([\"c0\", \"c1\", \"h0\", \"h1\", \"a1\", \"w0\", \"w1\", \"pi0\", \"pi1\"], econ.eq.x))\n",
                "print(\"\\n\")\n",
                "print(result)\n",
                "# Checking constraints\n",
                "econ.check_constraints()\n",
                "# New initial guess\n",
                "econ.solve_ss(x0a)\n",
                "resulta = dict(zip([\"c0\", \"c1\", \"h0\", \"h1\", \"a1\", \"w0\", \"w1\", \"pi0\", \"pi1\"], econ.eq.x))\n",
                "print(\"\\n\")\n",
                "print(resulta)\n",
                "# Checking constraints\n",
                "econ.check_constraints()"
            ],
            "outputs": [],
            "metadata": {}
        },
        {
            "cell_type": "markdown",
            "source": [
                "(d) Let $A_{0}$ decrease from 1 to $0.90$ and keep the value of all other parameters as before. Redo all your calculations and comment on your results."
            ],
            "metadata": {}
        },
        {
            "cell_type": "code",
            "execution_count": null,
            "source": [
                "parameters[\"A0\"] = 0.9\n",
                "econd = twop_economy(**parameters)\n",
                "econd.solve_ss(x0)\n",
                "resultd = dict(zip([\"c0\", \"c1\", \"h0\", \"h1\", \"a1\", \"w0\", \"w1\", \"pi0\", \"pi1\"], econd.eq.x))\n",
                "print(resultd)"
            ],
            "outputs": [],
            "metadata": {}
        },
        {
            "cell_type": "markdown",
            "source": [
                "The wage in $t=0$ drops, since productivity is lower. This in turn raises the labor supply in order to compensate consumption, although it does not compensate completely. Savings are also reduced. In period $t=1$, wage and consumption are reduced, eventhough labor supply and profit are higher."
            ],
            "metadata": {}
        },
        {
            "cell_type": "markdown",
            "source": [
                "(e) Let $A_1$ decrease from 1 to 0.90 and keep the value of all other parameters as before. Redo all your calculations and comment on your results."
            ],
            "metadata": {}
        },
        {
            "cell_type": "code",
            "execution_count": null,
            "source": [
                "parameters[\"A1\"] = 0.9\n",
                "econe = twop_economy(**parameters)\n",
                "econe.solve_ss(x0)\n",
                "resulte = dict(zip([\"c0\", \"c1\", \"h0\", \"h1\", \"a1\", \"w0\", \"w1\", \"pi0\", \"pi1\"], econe.eq.x))\n",
                "print(resulte)"
            ],
            "outputs": [],
            "metadata": {}
        },
        {
            "cell_type": "markdown",
            "source": [
                "The reduction in productivity has similar results as before, but now the effects are more pronounced in period $t=1$. "
            ],
            "metadata": {}
        },
        {
            "cell_type": "markdown",
            "source": [
                "(f) Now, let $\\sigma = 1.5$ and then redo (c)-(e). Comment on your results."
            ],
            "metadata": {}
        },
        {
            "cell_type": "code",
            "execution_count": null,
            "source": [
                "parameters = {'A0':1, 'A1':1, 'alpha': 2/3, 'sigma': 1.5, 'beta': 0.98**25, 'gamma': 1, 'r': 1.03**25-1}\n",
                "# c\n",
                "econfc = twop_economy(**parameters)\n",
                "econfc.solve_ss(x0)\n",
                "resultfc = dict(zip([\"c0\", \"c1\", \"h0\", \"h1\", \"a1\", \"w0\", \"w1\", \"pi0\", \"pi1\"], econfc.eq.x))\n",
                "# d\n",
                "parameters[\"A0\"] = 0.9\n",
                "econfd = twop_economy(**parameters)\n",
                "econfd.solve_ss(x0)\n",
                "resultfd = dict(zip([\"c0\", \"c1\", \"h0\", \"h1\", \"a1\", \"w0\", \"w1\", \"pi0\", \"pi1\"], econfd.eq.x))\n",
                "# e\n",
                "parameters[\"A1\"] = 0.9\n",
                "econfe = twop_economy(**parameters)\n",
                "econfe.solve_ss(x0)\n",
                "resultfe = dict(zip([\"c0\", \"c1\", \"h0\", \"h1\", \"a1\", \"w0\", \"w1\", \"pi0\", \"pi1\"], econfe.eq.x))\n",
                "\n",
                "print(f\"Economy from item c: {resultfc}\\n\")\n",
                "print(f\"Economy from item d: {resultfd}\\n\")\n",
                "print(f\"Economy from item e: {resultfe}\\n\")"
            ],
            "outputs": [],
            "metadata": {}
        },
        {
            "cell_type": "markdown",
            "source": [
                "Now we have increased the risk aversion of consumption (and leisure), thus our agent now prefers a higher level of consumption smoothness. This fact can be seen in our results since the difference in consumptions are much lower now."
            ],
            "metadata": {}
        },
        {
            "cell_type": "markdown",
            "source": [
                "## 6. **Growth Model.** Consider the following growth model with taxes.\n",
                "Households. There is a continuum of identical households with measure one. Each household has $N_{t}$ members, which grows at rate $\\eta$. The representative household owns the initial capital stock, $k_{0}$, and each household member has a unit of productive time in each period. Let $h_{t}$ and $l_{t}$ be hours worked and leisure by each household member, respectively, such that $h_{t}+l_{t}=1$. Preferences of the representative household is given by the following utility function:\n",
                "$$\n",
                "U=\\sum_{t=0}^{\\infty} \\beta^{t} N_{t}\\left[\\ln \\left(c_{t}\\right)+\\theta \\ln \\left(l_{t}\\right)\\right]\n",
                "$$\n",
                "The evolution of capital stock is:\n",
                "$$\n",
                "k_{t+1}=(1-\\delta) k_{t}+x_{t}, \\delta \\in(0,1)\n",
                "$$\n",
                "where $x_{t}$ is investment at $t$.\n",
                "(Important: Note the difference between the household and a household member You can think about this as a dynasty such that there is perfect altruism towards future generations) Production Sector. There is a continuum of measure one of identical firms. Let $A_{t}$ be a productivity factor which evolves according to $A_{t+1}=(1+\\gamma) A_{t} .$ Let $K_{t}$ be the capital stock, and $H_{t}$ be the total hours employed in the production of good $Y_{t}$ by the representative firm. The technology is given by\n",
                "$$\n",
                "Y_{t}=K_{t}^{\\alpha}\\left(A_{t} H_{t}\\right)^{1-\\alpha}\n",
                "$$\n",
                "The representative firm rents capital and labor from households.\n",
                "Government Sector. There is a government which finances $G_{t}$ expenditures through taxes on consumption, $\\tau^{c}$, labor income, $\\tau^{h}$, and capital income, $\\tau^{k}$. Suppose that in every period the government balances its budget, such that\n",
                "$$\n",
                "G_{t}=\\tau^{c} N_{t} c_{t}+\\tau^{h} w_{t} N_{t} h_{t}+\\tau^{k} r_{t} k_{t}\n",
                "$$\n",
                "Resource Constraint:\n",
                "$$\n",
                "Y_{t}=N_{t} c_{t}+x_{t}+G_{t}\n",
                "$$\n",
                "(Comment: Think about a continuous measure one of households. This implies that each household is very tiny. Since they are identical, this implies that you can solve the problem of a household who represents the others. Finally, the average of the economy is similar to the aggregate)\n",
                "\n",
                "(a) Define a competitive equilibrium for this economy and write down the equations that describe the equilibrium of the system. (This is the most important part of the problem. You can look at your macro text book)\n"
            ],
            "metadata": {}
        },
        {
            "cell_type": "markdown",
            "source": [
                "The household's problem, after some rearrangement, will be:\n",
                "$$\n",
                "    \\begin{align*}\n",
                "        \\max_{\\{c_t,h_t,k_{t+1}\\}_{t=0}^\\infty}\\quad &U=\\sum_{t=0}^{\\infty}\\beta^{t}N_t[ln(c_t) + \\theta ln(l_t)]\\tag{HP}\\\\\n",
                "        s.t.\\quad & (1+\\tau^c)c_tN_t+k_{t+1}=(1-\\delta)k_t+(1-\\tau^h)N_t w_t h_t+(1-\\tau^k)r_t k_t\n",
                "    \\end{align*}\n",
                "$$"
            ],
            "metadata": {}
        },
        {
            "cell_type": "markdown",
            "source": [
                "which yield the following first order conditions:\n",
                "$$\n",
                "\\begin{align*}\n",
                "        (c_t):&\\frac{1}{c_t} = \\lambda_t(1+\\tau^c)\\\\\n",
                "        (l_t):& \\theta\\frac{1}{1-h_t} = \\lambda_t(1-\\tau^h)w_t\\\\\n",
                "        (k_{t+1}):& \\lambda_t = \\lambda_{t+1}\\beta\\left[(1-\\tau^k)r_{t+1} + (1-\\delta)\\right]\n",
                "\\end{align*}\n",
                "$$"
            ],
            "metadata": {}
        },
        {
            "cell_type": "markdown",
            "source": [
                "Which yield the equations:\n",
                "\n",
                "$$\n",
                "\\begin{align}\n",
                "\\frac{c_{t+1}}{c_t}&=\\beta\\left[(1-\\delta)+(1-\\tau^k)r_{t+1} \\right]\\qquad&\\text{Euler equation}\\\\\n",
                "(1-h_{t})&=\\frac{\\theta(1+\\tau^c)}{(1-\\tau^h)}\\frac{c_t}{w_t}\\qquad&\\text{labor-leisure tradeoff}\\\\\n",
                "k_{t+1}&=\\left[(1-\\delta)+(1-\\tau^k)r_t \\right]k_t+(1-\\tau^h)N_t h_t w_t -(1+\\tau^c)N_t c_t\n",
                "\\end{align}\n",
                "$$"
            ],
            "metadata": {}
        },
        {
            "cell_type": "markdown",
            "source": [
                "The firm's problem is:\n",
                "\n",
                "$$\n",
                "\\begin{align*}\n",
                "        \\max_{K_t,H_t}\\quad&\\Pi_t = K_{t}^{\\alpha}(A_tH_t)^{1-\\alpha} - w_tH_t - r_tK_t\\tag{FP}\\\\\n",
                "    \\end{align*}\n",
                "$$"
            ],
            "metadata": {}
        },
        {
            "cell_type": "markdown",
            "source": [
                "and the FOC are:\n",
                "\n",
                "$$\n",
                "\\begin{align}\n",
                "    (H_t): &w_t = (1-\\alpha)K_t^\\alpha (A_tH_t)^{-\\alpha}A_t\\\\\n",
                "    (K_t): &r_t = \\alpha K_t^{\\alpha -1}(A_tH_t)^{1-\\alpha}\n",
                "\\end{align}\n",
                "$$\n",
                "\n",
                "which combined result in the famigerated **zero-profit condition** of competitive markets with constant returns to scale production function.\n",
                "\n",
                "$$w_t H_t + r_t K_t = Y_t \\implies \\Pi_t=0$$"
            ],
            "metadata": {}
        },
        {
            "cell_type": "markdown",
            "source": [
                "While the market clearing conditions are:\n",
                "\n",
                "$$\n",
                "\\begin{align*}\n",
                "        &Y_t = k_{t+1} -(1-\\delta)k_t + (1+\\tau^{c}) N_{t} c_{t}+\\tau^{h} w_{t} N_{t} h_{t}+\\tau^{k} r_{t} k_{t}\\\\\n",
                "        &K_t=k_t\\\\\n",
                "        &H_t=h_tN_t\n",
                "    \\end{align*}\n",
                "$$"
            ],
            "metadata": {}
        },
        {
            "cell_type": "markdown",
            "source": [
                "(b) What are the variables growth rate along the balanced growth path equilibrium? (hint: Assume that taxes are constant and that $G$ grows at the same rate of $Y$ such that the \"government size\", $G / Y$, is also constant.)"
            ],
            "metadata": {}
        },
        {
            "cell_type": "markdown",
            "source": [
                "The literature uses the term “balanced growth path” to denote a situation where all endogenous variables grow at constant (but possibly different) rates. From HP foc's (1) and (3) we have that $c_{t+1}/c_t=\\beta\\left[(1-\\tau^k)r_{t+1}+(1-\\delta)\\right]$, so in the balanced growth path $r_t$ must be constant. But the interest rate is determined from FP:\n",
                "\n",
                "$$\n",
                "\\begin{align*}\n",
                "r_t &= \\alpha K_t^{\\alpha -1}(A_tH_t)^{1-\\alpha}\\\\\n",
                "&=\\alpha\\left(\\frac{K_t}{A_t H_t}\\right)^{\\alpha-1}\\\\\n",
                "&=\\alpha\\tilde{k}_t^{\\alpha-1}\n",
                "\\end{align*}\n",
                "$$\n",
                "\n",
                "Therefore, in the balanced growth path $r_t$ is constant and this implies $K_t$ and $A_t H_t$ grow at the same rate. Since $A_tH_t$ grow at rates exogenously given, $(1+\\gamma)(1+\\eta)$ this is the growth rate of $K_t$. Moreover, redefining the production function as $\\tilde{y}_t:=\\tilde{k}_t^{\\alpha}$, zero growth for $\\tilde{k}_t$ implies $Y_t$ also grows at $(1+\\gamma)(1+\\eta)$ rate.\n",
                "\n",
                "Capital motion can be written as: $K_{t+1}=(1-\\delta)K_t+x_t$ giving result to $x_t/K_t = (1+\\gamma)(1+\\eta)-(1-\\delta)$ and x_t must also grows at rate $(1+\\gamma)(1+\\eta)$. Now we are left to uncover the individual consumption growth rate. Notice the investment is given by:\n",
                "\n",
                "$$\n",
                "\\begin{align*}\n",
                "x_t &= Y_t - N_tc_t-G_t\\\\\n",
                "\\frac{x_t}{Y_t} &= 1-N_tc_t - \\frac{G_t}{Y_t} \n",
                "\\end{align*}\n",
                "$$\n",
                "\n",
                "but since both $x_t$ and $Y_t$ grow at the same rate, their ratio is constant and so should be the term $N_tc_t/Y_t$ which finally implies $c_t$ grows at rate $1+\\gamma$.\n",
                "\n",
                "Hence our results are: capital stock, output and (level of) investment grow at rates $(1+\\gamma)(1+\\eta)$ (technology plus population), while individual consumption grows at technology rate."
            ],
            "metadata": {}
        },
        {
            "cell_type": "markdown",
            "source": [
                "(c) Write down the equivalent stationary system. (You have to transform your variable such that they are stationary in the long-run)"
            ],
            "metadata": {}
        },
        {
            "cell_type": "markdown",
            "source": [
                "We chose the following transformations: \n",
                "\n",
                "$$\n",
                "\\begin{align*}\n",
                "\\tilde{k}_t &:= \\frac{K_t}{A_t H_t}\\\\\n",
                "\\tilde{c}_t &:= \\frac{c_t}{A_t}\\\\\n",
                "\\tilde{w}_t &:= \\frac{w_t}{A_t}\n",
                "\\end{align*}\n",
                "$$\n",
                "\n",
                "then our five equations to solve the system can be rewritten as:\n",
                "\n",
                "$$\n",
                "\\begin{align}\n",
                "\\frac{\\tilde{c}_{t+1}}{\\tilde{c}_t}&=\\frac{\\beta}{1+\\gamma}\\left[(1-\\delta)+(1-\\tau^k)r_{t+1} \\right]\\\\\n",
                "(1-h_{t})&=\\frac{\\theta (1+\\tau^c)}{(1-\\tau^h)}\\frac{\\tilde{c}_t}{\\tilde{w}_t}\\\\\n",
                "g_{\\gamma\\eta}\\tilde{k}_{t+1}&=\\left[(1-\\delta)+(1-\\tau^k)r_t \\right]\\tilde{k}_t+(1-\\tau^h)\\tilde{w}_t -(1+\\tau^c)\\tilde{c}_t/h_t\\\\\n",
                "\\tilde{w}_t &= (1-\\alpha)\\tilde{k}_t^\\alpha\\\\\n",
                "r_t &= \\alpha \\tilde{k}_t^{\\alpha -1}\n",
                "\\end{align}\n",
                "$$\n",
                "where $g_{\\gamma\\eta}:=(1+\\gamma)(1+\\eta)$"
            ],
            "metadata": {}
        },
        {
            "cell_type": "markdown",
            "source": [
                "(d) Now suppose that $\\beta=0.98, \\delta=0.08, \\gamma=0.015, \\alpha=0.4, \\theta=2, \\tau^{c}=0.15$\n",
                "$\\tau^{h}=0.25, \\tau^{k}=0.15 .$ Write down a program that solves the transitional dynamics of the equilibrium system by using one of the methods of solving a system of nonlinear equations (e.g., Newton, Secant or fsolve). Assume that $K_{0}=0.8 K_{S S}$"
            ],
            "metadata": {}
        },
        {
            "cell_type": "markdown",
            "source": [
                "First notice we need to compute $\\tilde{k}_{ss}$ from the above system of equations. Making the appropriate computations, the steady-state effective capital is the solution of the following system:\n",
                "\n",
                "$$\n",
                "\\begin{align}\n",
                "r_{ss}&=\\frac{1}{(1-\\tau^k)}\\left[\\frac{1+\\gamma}{\\beta}-(1-\\delta) \\right]\\qquad\\text{depends only on parameters}\\\\\n",
                "\\tilde{w}_{ss}&=(1-\\alpha)\\left(\\frac{r_{ss}}{\\alpha} \\right)^{-\\alpha/(1-\\alpha)}\\\\\n",
                "\\tilde{k}_{ss}&=\\left(\\frac{r_{ss}}{\\alpha}\\right)^{1/(\\alpha - 1)}\\\\\n",
                "\\tilde{c}_{ss}/h_{ss}&=\\frac{\\left[(1-\\delta)-g_{\\gamma\\eta}+(1-\\tau^k)r_{ss}\\right]\\tilde{k}_{ss}+(1-\\tau^h)\\tilde{w}_{ss}}{1+\\tau^c}\\\\\n",
                "h_{ss}&=\\left[\\frac{\\theta(1+\\tau^c)}{(1-\\tau^h)\\tilde{w}_{ss}}\\frac{\\tilde{c}_{ss}}{h_{ss}} \\right]^{-1}\\\\\n",
                "\\end{align}\n",
                "$$"
            ],
            "metadata": {}
        },
        {
            "cell_type": "code",
            "execution_count": null,
            "source": [
                "class growth_economy():\n",
                "    \n",
                "    def __init__(self, alpha, beta, gamma, delta, theta, eta, tauc, tauh, tauk) -> None:\n",
                "        self.alpha, self.beta, self.gamma, self.delta, self.theta, self.eta, self.tauc, self.tauh, self.tauk = alpha, beta, gamma, delta, theta, eta, tauc, tauh, tauk\n",
                "        self.gyn = (1+self.gamma)*(1+self.eta)\n",
                "        self.eq = None # Steady-state equilibrium values\n",
                "        self.dyn = None # Dynamics results\n",
                "        self.rss = None\n",
                "        self.wss = None\n",
                "        self.hss = None\n",
                "        self.css = None\n",
                "        self.kss = None\n",
                "        \n",
                "    def get_ss(self):\n",
                "        ss = {'hss': self.hss, 'css': self.css, 'kss': self.kss, 'rss': self.rss, \n",
                "              'wss': self.wss, 'gss': self.gss, 'yss': self.yss, 'iss': self.iss}\n",
                "        return ss\n",
                "        \n",
                "    def solve_ss(self) -> None:\n",
                "        self.rss = (1-self.tauk)**(-1)*((1+self.gamma)/self.beta -(1-self.delta))\n",
                "        self.wss = (1-self.alpha)*(self.rss/self.alpha)**(-self.alpha/(1-self.alpha))\n",
                "        self.kss = (self.rss/self.alpha)**(1/(self.alpha - 1))\n",
                "        chss = (1+self.tauc)**(-1)*(((1-self.delta)-self.gyn+(1-self.tauk)*self.rss)*self.kss+(1-self.tauh)*self.wss)\n",
                "        self.hss = (self.theta*(1+self.tauc)*chss/((1-self.tauh)*self.wss)+1)**(-1)\n",
                "        self.css = chss*self.hss\n",
                "        self.gss = self.tauc*chss+self.tauh*self.wss+self.tauk*self.rss*self.kss\n",
                "        self.yss = self.kss**self.alpha\n",
                "        self.iss = self.yss-chss-self.gss\n",
                "        \n",
                "    # Dynamics here is not working properly    \n",
                "    def solve_dyn(self, h0, k0, T) -> None:\n",
                "        r0 = self.alpha*(k0)**(self.alpha-1)\n",
                "        w0 = (1-self.alpha)*(k0)**(self.alpha)\n",
                "        c0 = (1-self.tauh)*w0*(1-h0)/(self.theta*(1+self.tauc))\n",
                "        # print(f\"{r0}, {w0}, {c0}\")\n",
                "        r_vec = np.linspace(r0, self.rss, T+2)\n",
                "        w_vec = np.linspace(w0, self.wss, T+2)\n",
                "        h_vec = np.linspace(h0, self.hss, T+2)\n",
                "        c_vec = np.linspace(c0, self.css, T+2)\n",
                "        k_vec = np.linspace(k0, self.kss, T+2)\n",
                "        # Initial guess for solver\n",
                "        x0_vec = np.concatenate((r_vec, w_vec, h_vec, c_vec, k_vec))\n",
                "        # print(f\"{x0_vec.shape}\")\n",
                "        \n",
                "        def obj_fun(x, T):\n",
                "            # print(f\"{x.shape}\\n\")\n",
                "            r = x[:(T+2)]\n",
                "            w = x[(T+2):2*(T+2)]\n",
                "            h = x[2*(T+2):3*(T+2)]\n",
                "            c = x[3*(T+2):4*(T+2)]\n",
                "            k = x[4*(T+2):5*(T+2)]\n",
                "            fr = np.zeros(len(r))\n",
                "            fw = np.zeros(len(w))\n",
                "            fh = np.zeros(len(h))\n",
                "            fc = np.zeros(len(c))\n",
                "            fk = np.zeros(len(k))\n",
                "             \n",
                "            for t in range(1, T+1):\n",
                "                fr[t] = r[t] - self.alpha*(k[t])**(self.alpha - 1)\n",
                "                fw[t] = w[t] - (1-self.alpha)*(k[t])**(self.alpha)\n",
                "                fh[t] = 1 - h[t] - ((self.theta*(1+self.tauc))/(1-self.tauh))*(c[t]/w[t])\n",
                "                fc[t] = c[t] - (self.beta/(1+self.gamma))*((1-self.delta)+(1-self.tauk)*r[t])*c[t-1]\n",
                "                fk[t] = self.gyn*k[t] - (((1-self.delta)+(1-self.tauk)*r[t-1])*k[t-1]+(1-self.tauh)*w[t-1]-(1+self.tauc)*c[t-1]/h[t-1])\n",
                "            \n",
                "            return np.concatenate((fr, fw, fh, fc, fk))\n",
                "        \n",
                "        self.dyn = root(obj_fun, x0_vec, method='hybr', args=(T))\n",
                "        self.dyn.T = T\n",
                "        \n",
                "    def get_dyn(self):\n",
                "        x = self.dyn.x\n",
                "        T = self.dyn.T\n",
                "        r = x[:(T+2)]\n",
                "        w = x[(T+2):2*(T+2)]\n",
                "        h = x[2*(T+2):3*(T+2)]\n",
                "        c = x[3*(T+2):4*(T+2)]\n",
                "        k = x[4*(T+2):5*(T+2)]\n",
                "        dyn = {'r': r, 'w': w, 'h': h, 'c': c, 'k': k}\n",
                "        return dyn\n",
                "        "
            ],
            "outputs": [],
            "metadata": {}
        },
        {
            "cell_type": "code",
            "execution_count": null,
            "source": [
                "# Parameters\n",
                "param = {'alpha': 0.4, 'beta': 0.98, 'gamma': 0.015, 'delta': 0.08, 'theta': 2, 'eta': 0, 'tauc': 0.15, 'tauh': 0.25, 'tauk': 0.15}\n",
                "g_econ = growth_economy(**param)\n",
                "# Initial guess\n",
                "g_econ.solve_ss()\n",
                "ss1 = g_econ.get_ss()"
            ],
            "outputs": [],
            "metadata": {}
        },
        {
            "cell_type": "code",
            "execution_count": null,
            "source": [
                "# SS values here are compatible with k = K/AN transformation!\n",
                "print(f\"kss: {ss1['kss']*ss1['hss']}\\n gss: {ss1['gss']*ss1['hss']}\\n yss: {ss1['yss']*ss1['hss']}\\n iss: {ss1['iss']*ss1['hss']}\")"
            ],
            "outputs": [],
            "metadata": {}
        },
        {
            "cell_type": "markdown",
            "source": [
                "Unfortunately, the dynamics part of this problem is hard to solve with the above transformation. Therefore, I opt to transform the variables according to the following rule, now on:\n",
                "\n",
                "$\\tilde{k}:=k/AN$, the same transformation (dividing by $AN$) for $\\tilde{g}$, $\\tilde{y}$ and $\\tilde{x}$, while keeping $\\tilde{c}=c/A$ and $\\tilde{w}=w/A$."
            ],
            "metadata": {}
        },
        {
            "cell_type": "code",
            "execution_count": null,
            "source": [
                "\n",
                "\n",
                "class growth2():\n",
                "    \n",
                "    def __init__(self, beta, delta, gamma, eta, alpha, theta, tauc, tauh, tauk):\n",
                "        self.beta, self.delta, self.gamma, self.eta, self.alpha, self.theta, self.tauc, self.tauh, self.tauk = \\\n",
                "        beta, delta, gamma, eta, alpha, theta, tauc, tauh, tauk\n",
                "        \n",
                "        self.k0 = None\n",
                "        self.h0 = None\n",
                "        self.gyn = (1+self.gamma)*(1+self.eta)\n",
                "        self.eq = None # Steady-state equilibrium values\n",
                "        self.dyn = None # Dynamics results\n",
                "        self.rss = None\n",
                "        self.wss = None\n",
                "        self.hss = None\n",
                "        self.css = None\n",
                "        self.kss = None\n",
                "        self.yss = None\n",
                "        self.iss = None\n",
                "        self.gss = None\n",
                "  \n",
                "    # Solve for Steady State variables\n",
                "    def solve_ss(self) -> None:\n",
                "        #h*/k*\n",
                "        h_div_k = (((1+self.gamma)/(self.beta) + self.delta - 1)/((1 - self.tauk)*self.alpha))**(1/(1-self.alpha))\n",
                "        #h_ss\n",
                "        h_ss = 1 + (self.theta/((1- self.tauh)*(1-self.alpha)))*((1-self.delta)*(h_div_k)**(self.alpha -1 ) - \\\n",
                "        (1+ self.eta)*(1+self.gamma)*(h_div_k)**(self.alpha-1) + (1 - self.tauk)*self.alpha + (1-self.alpha)*(1-self.tauh)) \n",
                "        h_ss = h_ss**(-1)\n",
                "        #k_ss\n",
                "        k_ss = h_ss/h_div_k \n",
                "        #c_ss\n",
                "        c_ss = ((1- h_ss)*(1-self.tauh)*(1-self.alpha)*(h_div_k)**(-self.alpha))/(self.theta*(1+self.tauc))\n",
                "        #y_ss\n",
                "        y_ss = k_ss**(self.alpha)*h_ss**(1-self.alpha)     \n",
                "        #i_ss\n",
                "        i_ss = k_ss*((1+self.eta)*(1+self.gamma) - (1-self.delta))\n",
                "        #g_ss\n",
                "        g_ss = self.tauc*c_ss + self.tauh*(1-self.alpha)*y_ss + self.tauk*self.alpha*y_ss\n",
                "        # r_ss\n",
                "        self.rss = (1-self.tauk)**(-1)*((1+self.gamma)/self.beta -(1-self.delta))\n",
                "        # wss\n",
                "        self.wss = (1-self.alpha)*(self.rss/self.alpha)**(-self.alpha/(1-self.alpha))\n",
                "        self.hss, self.kss, self.css, self.yss, self.iss, self.gss = h_ss, k_ss, c_ss, y_ss, i_ss, g_ss\n",
                "    \n",
                "    # Return the SS\n",
                "    def get_ss(self):\n",
                "        ss = {'hss': self.hss, 'css': self.css, 'kss': self.kss, 'rss': self.rss, 'wss': self.wss, \n",
                "              'gss': self.gss, 'yss': self.yss, 'iss': self.iss}\n",
                "        return ss\n",
                "    \n",
                "    def obj_tauh(self, th, tk, g_old):\n",
                "        #h*/k*\n",
                "        h_div_k = (((1+self.gamma)/(self.beta) + self.delta - 1)/((1 - tk)*self.alpha))**(1/(1-self.alpha))\n",
                "        #h_ss\n",
                "        h_ss = 1 + (self.theta/((1- th)*(1-self.alpha)))*((1-self.delta)*(h_div_k)**(self.alpha -1 ) - \\\n",
                "        (1+ self.eta)*(1+self.gamma)*(h_div_k)**(self.alpha-1) + (1 - tk)*self.alpha + (1-self.alpha)*(1-th)) \n",
                "        h_ss = h_ss**(-1)\n",
                "        #k_ss\n",
                "        k_ss = h_ss/h_div_k \n",
                "        #c_ss\n",
                "        c_ss = ((1- h_ss)*(1-th)*(1-self.alpha)*(h_div_k)**(-self.alpha))/(self.theta*(1+self.tauc))\n",
                "        #y_ss\n",
                "        y_ss = k_ss**(self.alpha)*h_ss**(1-self.alpha)     \n",
                "        #i_ss\n",
                "        # i_ss = k_ss*((1+self.eta)*(1+self.gamma) - (1-self.delta))\n",
                "        #g_ss\n",
                "        g_ss = self.tauc*c_ss + th*(1-self.alpha)*y_ss + tk*self.alpha*y_ss\n",
                "        # r = ((1+self.gamma)/self.beta)-(1-self.delta)*(1-tk)**(-1)\n",
                "        # kh = (r/self.alpha)**(1/(self.alpha-1))\n",
                "        # w = (1-self.alpha)*kh**self.alpha\n",
                "        # gh = (self.tauc/(1+self.tauc))*(kh**self.alpha+self.tauc**(-1)*(th*w+tk*r*kh)-(self.gyn-(1-self.delta))*kh)\n",
                "        # ch = (1/self.tauc)*(gh-th*w-tk*r*kh)\n",
                "        # h = ((self.theta*(1+self.tauc)*ch)/((1-th)*w)+1)**(-1)\n",
                "        # g = gh*h\n",
                "        return g_old - g_ss\n",
                "\n",
                "    def get_new_tau(self, tk, gold):\n",
                "        sol = root(self.obj_tauh, self.tauh, args=(tk, gold), method='hybr')\n",
                "        return sol\n",
                "        \n",
                "    #Equações de Movimento para valores de k_t, k_t+1 e h_t+1.\n",
                "    def eq_transition(self, k_t, k_t_1, h_t, h_t_1):\n",
                "        output = np.empty(2)\n",
                "        output[0] = ((1-h_t_1)/(1-h_t))*((k_t_1/h_t_1)**(self.alpha))*((k_t/h_t)**(-self.alpha)) \\\n",
                "        - (self.beta/(1+self.gamma))*(1 - self.delta + (1-self.tauk)*self.alpha*(h_t_1/k_t_1)**(1-self.alpha))\n",
                "        output[1] = ((1-h_t)*(1-self.tauh)*(1-self.alpha)/self.theta)*(k_t/h_t)**self.alpha + (1+ self.eta)*(1+ self.gamma)*k_t_1 \\\n",
                "        -(1- self.delta + (1-self.tauk)*self.alpha*(h_t/k_t)**(1-self.alpha))*k_t - (1-self.tauh)*(1-self.alpha)*k_t**(self.alpha)*h_t**(1-self.alpha)\n",
                "        return(output)\n",
                "        \n",
                "    def obj_fun(self, x):\n",
                "        # x is an array of dimension 2*T+2. First T elements correspond to k, the following to h\n",
                "        T = int((len(x)-2)/2)\n",
                "        # k = x[:T]\n",
                "        # print(f\"{k}\")\n",
                "        # h = x[T:2*T+2]\n",
                "        # fk = np.zeros(len(k))\n",
                "        # fh = np.zeros(len(h))\n",
                "        out = np.empty(len(x))\n",
                "        for t in range(T+1):\n",
                "            if t == 0:\n",
                "                trans = self.eq_transition(self.k0, x[t], x[t+T], x[t+T+1])\n",
                "                out[t] = trans[0]\n",
                "                out[t+T+1] = trans[1]\n",
                "                # fk[t] = self.eq_transition(self.k0, k[t], self.h0, h[t])[0]\n",
                "                # fh[t] = self.eq_transition(self.k0, k[t], self.h0, h[t])[1]\n",
                "            elif t == T:\n",
                "                trans = self.eq_transition(x[t-1], self.kss, x[t+T], x[t+T+1])\n",
                "                out[t] = trans[0]\n",
                "                out[t+T+1] = trans[1]\n",
                "                # fk[t] = self.eq_transition(k[t-1], self.kss, h[t-1], self.hss)[0]\n",
                "                # fh[t] = self.eq_transition(k[t-1], self.kss, h[t-1], self.hss)[1]\n",
                "            else:\n",
                "                trans = self.eq_transition(x[t-1], x[t], x[t+T], x[t+T+1])\n",
                "                out[t] = trans[0]\n",
                "                out[t+T+1] = trans[1]\n",
                "                # fk[t] = self.eq_transition(k[t-1], k[t], h[t-1], h[t])[0]\n",
                "                # fh[t] = self.eq_transition(k[t-1], k[t], h[t-1], h[t])[1]\n",
                "        # out is an array of objective values. We will solve then for zeros\n",
                "        return(out)\n",
                "        # return np.concatenate((fk, fh))\n",
                "    \n",
                "    #given paths for capital and hours worked, returns path of consumption per \n",
                "    #units of effective labour\n",
                "    def gen_consumption_path(self, k,h):\n",
                "        return ((1-h)*(1-self.tauh)*(1-self.alpha)*(k/h)**self.alpha)/(self.theta*(1+self.tauc))\n",
                "    \n",
                "    #given paths for capital and hours worked, returns path of output per units \n",
                "    #of effective labour\n",
                "    def gen_output_path(self, k, h):\n",
                "        return k**(self.alpha)*h**(1-self.alpha)\n",
                "    \n",
                "    #given path for capital, returns path of investment per units of effective \n",
                "    #labour. Last period investment \n",
                "    #is set to steady state value\n",
                "    def gen_investment_path(self, k):\n",
                "        i = k[1:len(k)]*(1+self.eta)*(1+self.gamma) - (1-self.delta)*k[0:len(k)-1] \n",
                "        i_ss = self.iss\n",
                "        i = np.concatenate((i,[i_ss]))\n",
                "        return i\n",
                "    \n",
                "    #given path for capital and hours worked, returns path of government \n",
                "    #spending per units of effective labour. \n",
                "    def gen_government_path(self, k_path, h_path):\n",
                "        return self.tauc*self.gen_consumption_path(k_path, h_path) + self.tauh*(1-self.alpha)*self.gen_output_path(k_path, h_path) \\\n",
                "        + self.tauk*self.alpha*self.gen_output_path(k_path, h_path)\n",
                "    \n",
                "    def gen_wage_path(self, k_path, h_path):\n",
                "        return (1-self.alpha)*(k_path/h_path)**self.alpha\n",
                "    #solves model for T periods, where T+1 is steady state and t=0 is staring period\n",
                "    #initial guess for k is a linear interpolation from k_0 to k_{steady\\_state}\n",
                "    #initial guess for h is constant at steady state\n",
                "    #returns paths of the following variables, in the following order: h, k, c, y, i\n",
                "    def solve_dyn(self, k0, T) -> None:\n",
                "        self.solve_ss()\n",
                "        # k_ss = self.kss\n",
                "        # h_ss = self.hss\n",
                "        self.k0 = k0\n",
                "        # self.h0 = self.hss\n",
                "        guess_k = np.linspace(self.k0, self.kss, T+2)[1:-1] # Only the middle T guesses\n",
                "        guess_h = np.repeat(self.hss, T+2)\n",
                "        guess = np.concatenate((guess_k, guess_h))\n",
                "        \n",
                "        self.dyn = root(self.obj_fun, guess, method = 'hybr')\n",
                "        \n",
                "        k_path = np.concatenate(([self.k0], self.dyn.x[0:T], [self.kss]))\n",
                "        h_path = self.dyn.x[T:]\n",
                "        c_path = self.gen_consumption_path(k_path, h_path)\n",
                "        y_path = self.gen_output_path(k_path, h_path)\n",
                "        i_path = self.gen_investment_path(k_path)\n",
                "        g_path = self.gen_government_path(k_path, h_path)\n",
                "        w_path = self.gen_wage_path(k_path, h_path)\n",
                "        # return [h_path,k_path,c_path, y_path, i_path, g_path]\n",
                "        self.dyn.paths = {'kt': k_path, 'ht': h_path, 'ct': c_path, 'yt': y_path, 'it': i_path, \n",
                "                          'gt': g_path, 'wt': w_path}\n",
                "    \n",
                "    def get_dyn(self):\n",
                "        return self.dyn.paths"
            ],
            "outputs": [],
            "metadata": {}
        },
        {
            "cell_type": "code",
            "execution_count": null,
            "source": [
                "# Parameters\n",
                "param = {'alpha': 0.4, 'beta': 0.98, 'gamma': 0.015, 'delta': 0.08, 'theta': 2, 'eta': 0, 'tauc': 0.15, 'tauh': 0.25, 'tauk': 0.15}\n",
                "econ2 = growth2(**param)\n",
                "econ2.solve_ss()\n",
                "kss = econ2.get_ss()['kss']\n",
                "T = 75\n",
                "econ2.solve_dyn(0.8*kss, T)\n",
                "paths = econ2.get_dyn()\n",
                "ss2 = econ2.get_ss()\n",
                "ss2"
            ],
            "outputs": [],
            "metadata": {}
        },
        {
            "cell_type": "code",
            "execution_count": null,
            "source": [
                "fig, ax = plt.subplots(nrows=2, ncols=2, sharex=True, figsize=(10, 10))\n",
                "ax[0,0].plot(paths['ct'])\n",
                "ax[0,0].set_title('$c_t$')\n",
                "ax[0,1].plot(paths['it'])\n",
                "ax[0,1].set_title('$i_t$')\n",
                "ax[1,0].plot(paths['ht'])\n",
                "ax[1,0].set_title('$h_t$')\n",
                "ax[1,1].plot(paths['yt'])\n",
                "ax[1,1].set_title('$y_t$')"
            ],
            "outputs": [],
            "metadata": {}
        },
        {
            "cell_type": "markdown",
            "source": [
                "(e) Plot the dynamics of per capita, consumption, investment, labor and output per capita."
            ],
            "metadata": {}
        },
        {
            "cell_type": "code",
            "execution_count": null,
            "source": [
                "t = np.linspace(0, T+1, T+2)\n",
                "A = 1*(1+econ2.gamma)**t\n",
                "pc = dict()\n",
                "for key in paths:\n",
                "    pc[key] = paths[key]*A\n",
                "\n",
                "fig, ax = plt.subplots(nrows=2, ncols=2, sharex=True, figsize=(10, 10))\n",
                "ax[0,0].plot(pc['ct'])\n",
                "ax[0,0].set_title('$c_t$')\n",
                "ax[0,1].plot(pc['it'])\n",
                "ax[0,1].set_title('$i_t$')\n",
                "ax[1,0].plot(pc['ht'])\n",
                "ax[1,0].set_title('$h_t$')\n",
                "ax[1,1].plot(pc['yt'])\n",
                "ax[1,1].set_title('$y_t$')"
            ],
            "outputs": [],
            "metadata": {}
        },
        {
            "cell_type": "markdown",
            "source": [
                "(f) Now let's study the following tax reform: Suppose that the government reduces the tax on capital income from $0.15$ to $0.10$ and the government increases the $\\operatorname{tax}$ on labor income in order to finance the same level of spending (i.e. in the long run the tax reform is revenue neutral). Write a program to implement this tax reform. Assume that prior the reform the initial capital stock is in the steady-state. Show the dynamics and analyze this reform. Use economic arguments to interpret your results."
            ],
            "metadata": {}
        },
        {
            "cell_type": "code",
            "execution_count": null,
            "source": [
                "new_tk = 0.1\n",
                "g_old = ss2['gss']\n",
                "new_th = econ2.get_new_tau(new_tk, g_old).x[0]\n",
                "new_th"
            ],
            "outputs": [],
            "metadata": {}
        },
        {
            "cell_type": "code",
            "execution_count": null,
            "source": [
                "param3 = param\n",
                "param3['tauk'] = new_tk\n",
                "param3['tauh'] = new_th\n",
                "econ3 = growth2(**param3)\n",
                "econ3.solve_ss()\n",
                "econ3.solve_dyn(kss, T)\n",
                "paths3 = econ3.get_dyn()\n",
                "ss3 = econ3.get_ss()\n",
                "ss3"
            ],
            "outputs": [],
            "metadata": {}
        },
        {
            "cell_type": "code",
            "execution_count": null,
            "source": [
                "full_paths = dict()\n",
                "for key in paths:\n",
                "    full_paths[key] = np.concatenate((paths[key][-10:], paths3[key]))\n",
                "\n",
                "fig, ax = plt.subplots(nrows=2, ncols=3, sharex=True, figsize=(15, 10))\n",
                "ax[0,0].plot(full_paths['ct'])\n",
                "ax[0,0].set_title('$c_t$')\n",
                "ax[0,1].plot(full_paths['it'])\n",
                "ax[0,1].set_title('$i_t$')\n",
                "ax[0,2].plot(full_paths['kt'])\n",
                "ax[0,2].set_title('$k_t$')\n",
                "ax[1,0].plot(full_paths['ht'])\n",
                "ax[1,0].set_title('$h_t$')\n",
                "ax[1,1].plot(full_paths['yt'])\n",
                "ax[1,1].set_title('$y_t$')\n",
                "ax[1,2].plot(full_paths['wt'])\n",
                "ax[1,2].set_title('$w_t$')"
            ],
            "outputs": [],
            "metadata": {}
        },
        {
            "cell_type": "markdown",
            "source": [
                "(g) Calculate the long run welfare implications of this tax reform in terms of consumption:\n",
                "$$\n",
                "\\left[\\ln \\left((1+\\omega) c^{\\text {new }}\\right)+\\gamma \\ln \\left(l^{\\text {new }}\\right)\\right]-\\left[\\ln \\left(c^{\\text {old }}\\right)+\\gamma \\ln \\left(l^{\\text {old }}\\right)\\right]\n",
                "$$\n",
                "$\\omega$ is the percentage of consumption that the household must be compensated (or pay) to accept this tax reform. How about the transitional dynamics? (Related to this exercise see Cavalcanti (2008). \"Tributos sobre a Folha ou sobre o Faturamento? Efeitos Quantitativos Para o Brasil\" RBE.)"
            ],
            "metadata": {}
        },
        {
            "cell_type": "markdown",
            "source": [
                "The long run difference in welfare can be analytically computed as:\n",
                "\n",
                "$$\n",
                "\\begin{equation}\n",
                "1+\\omega_{lr} = \\frac{c^{old}(1-h^{old})^\\gamma}{c^{new}(1-h^{new})^\\gamma}\n",
                "\\end{equation}\n",
                "$$\n",
                "\n",
                "The **total** change in welfare, including the transitional dynamics is given by:\n",
                "\n",
                "$$\n",
                "\\begin{equation*}\n",
                "\\sum_{t=0}^T\\beta^t\\left[\\ln((1+\\omega)c_t)+\\gamma\\ln(1-h_t)\\right] + \\frac{1}{1-\\beta}\\left[\\ln((1+\\omega)c^{new})+\\gamma\\ln(1-h^{new})\\right]=\\frac{1}{1-\\beta}\\left[\\ln((1+\\omega)c^{old})+\\gamma\\ln(1-h^{old})\\right]\n",
                "\\end{equation*}\n",
                "$$\n",
                "\n",
                "which can be decomposed into:\n",
                "\n",
                "$$\n",
                "\\begin{equation}\n",
                "\\ln(1+\\omega)BT = \\frac{1}{1-\\beta}\\ln(1+\\omega_{lr})- \\sum_{t=0}^T\\beta^t\\left[\\ln(c_t)+\\gamma\\ln(1-h_t)\\right]\n",
                "\\end{equation}\n",
                "$$\n",
                "\n",
                "where $BT := \\frac{1}{1-\\beta}+\\sum_{t=0}^T\\beta^t$.\n"
            ],
            "metadata": {}
        },
        {
            "cell_type": "markdown",
            "source": [],
            "metadata": {}
        },
        {
            "cell_type": "code",
            "execution_count": null,
            "source": [
                "omegalr = (ss2['css']*(1-ss2['hss'])**param['gamma'])/(ss3['css']*(1-ss3['hss'])**param3['gamma']) -1\n",
                "omegalr"
            ],
            "outputs": [],
            "metadata": {}
        },
        {
            "cell_type": "code",
            "execution_count": null,
            "source": [
                "def omega_obj(omega, beta, gamma, T):\n",
                "    t = np.arange(0, T+1)\n",
                "    BT = 1/(1-beta)+np.sum(beta**t)\n",
                "    sum_dyn = np.sum(beta**t*(np.log(paths3['ct'][:T+1])+gamma*np.log(1-paths3['ht'][:T+1])))\n",
                "\n",
                "    return np.log(1+omega)*BT - (1/(1-beta))*np.log(1+omegalr) + sum_dyn\n",
                "\n",
                "omega_sol = root(omega_obj, -0.01, args = (param['beta'], param['gamma'], T), method='hybr')"
            ],
            "outputs": [],
            "metadata": {}
        },
        {
            "cell_type": "code",
            "execution_count": null,
            "source": [
                "omega_sol.x[0]"
            ],
            "outputs": [],
            "metadata": {}
        },
        {
            "cell_type": "markdown",
            "source": [
                "If we take into account only the long run results, the individual would be **willing to pay** approximately 1.2% of her final consumption in order to implement this reform (as expressed by a negative $\\omega_{lr}$). On the other hand, when dynamics are included, the individual would be opposed to this reform. The transitional dynamics imposes a great deal of pain in the form of higher levels of work hours and lower consumption that it is not worth the beneficial long run effect. "
            ],
            "metadata": {}
        }
    ],
    "metadata": {
        "orig_nbformat": 4,
        "language_info": {
            "name": "python",
            "version": "3.9.6",
            "mimetype": "text/x-python",
            "codemirror_mode": {
                "name": "ipython",
                "version": 3
            },
            "pygments_lexer": "ipython3",
            "nbconvert_exporter": "python",
            "file_extension": ".py"
        },
        "kernelspec": {
            "name": "python3",
            "display_name": "Python 3.9.6 64-bit ('macro3': conda)"
        },
        "interpreter": {
            "hash": "5269626eba0645a58271900a4a4adb7b95cd8d0957f8ef63693b10e38aacf359"
        }
    },
    "nbformat": 4,
    "nbformat_minor": 2
}