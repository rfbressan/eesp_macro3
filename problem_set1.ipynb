{
    "cells": [
        {
            "cell_type": "markdown",
            "source": [
                "# Macroeconomics III: Problem Set 1\n",
                "\n",
                "Student: Rafael F. Bressan"
            ],
            "metadata": {}
        },
        {
            "cell_type": "markdown",
            "source": [
                "# 1 No Economics\n",
                "\n",
                "## 1. **Solving Nonlinear Equations - Bisection Method.** Consider the function:\n",
                "\n",
                "$$b(x) = e^x − e^{2.2087}$$\n",
                "\n",
                "Starting from the interval $x \\in [0, 4]$, find $x^∗$ such that $b(x^∗) = 0$ using the bisection method."
            ],
            "metadata": {}
        },
        {
            "cell_type": "code",
            "execution_count": 2,
            "source": [
                "import numpy as np\n",
                "import matplotlib.pyplot as plt\n",
                "plt.rcParams[\"figure.figsize\"] = (10, 6)  #set default figure size\n",
                "from scipy import interpolate\n",
                "%matplotlib inline"
            ],
            "outputs": [],
            "metadata": {}
        },
        {
            "cell_type": "code",
            "execution_count": null,
            "source": [
                "def f(x):\n",
                "    return np.exp(x) - np.exp(2.2087)"
            ],
            "outputs": [],
            "metadata": {}
        },
        {
            "cell_type": "code",
            "execution_count": null,
            "source": [
                "def bisection(func, a, b, tol = 1e-8):\n",
                "    if func(a)*func(b)>0:\n",
                "        print('Conditions for the Intermidiate Value Theorem do not hold')\n",
                "    else:\n",
                "        # First middle point\n",
                "        c = (a+b)/2\n",
                "        error = abs(func(c))\n",
                "        # ~ print(error) \n",
                "        # bisection loop\n",
                "        while error > tol:\n",
                "            if func(c)*func(a) < 0:\n",
                "                b = c\n",
                "            else:\n",
                "                a = c\n",
                "            c = (a+b)/2\n",
                "            error = abs(func(c))\n",
                "            # ~ print(error)\n",
                "\n",
                "    return c"
            ],
            "outputs": [],
            "metadata": {}
        },
        {
            "cell_type": "code",
            "execution_count": null,
            "source": [
                "root = bisection(f, 0, 4)\n",
                "print(f\"Root of the function: {root}.\")"
            ],
            "outputs": [],
            "metadata": {}
        },
        {
            "cell_type": "markdown",
            "source": [
                "## 2. **Solving Nonlinear Equations - Newton’s Method.** Consider the function:\n",
                "$$d(x) = x^{−5} − x^{−3} − c.$$\n",
                "\n",
                "(a) Set $c = 1$ and plot $d$ on $x \\in [0.6, 10]$. Find $x^∗$ such that $d(x^∗) = 0$ using Newton’s\n",
                "method.\n"
            ],
            "metadata": {}
        },
        {
            "cell_type": "code",
            "execution_count": null,
            "source": [
                "def d(x, c):\n",
                "    return x**(-5)-x**(-3)-c"
            ],
            "outputs": [],
            "metadata": {}
        },
        {
            "cell_type": "code",
            "execution_count": null,
            "source": [
                "\n",
                "xg=np.linspace(0.6, 10, 100)\n",
                "fig, ax = plt.subplots()\n",
                "ax.plot(xg, d(xg, 1), label = \"d(x)\")\n",
                "ax.axhline(y=0, color='black', lw=0.5)\n",
                "ax.legend()"
            ],
            "outputs": [],
            "metadata": {}
        },
        {
            "cell_type": "code",
            "execution_count": null,
            "source": [
                "def newton(x0, f, J, tol=1e-8, maxit=100):\n",
                "    error = abs(f(x0))\n",
                "    xs = x0\n",
                "    i = 0\n",
                "    while error > tol:\n",
                "        xs1 = xs - f(xs)/(J(xs) + tol)\n",
                "        #Somamos um numero pequeno para evitar que haja divisões por zero\n",
                "        error = abs(f(xs1))\n",
                "        xs = xs1\n",
                "        i += 1\n",
                "        if i == maxit:\n",
                "            warning = 'The algorithm did not converge in the first ' + str(maxit) + ' iterations.'\n",
                "            return warning\n",
                "            break\n",
                "    return xs1"
            ],
            "outputs": [],
            "metadata": {}
        },
        {
            "cell_type": "code",
            "execution_count": null,
            "source": [
                "\n",
                "# Define the Jacobian (derivative)\n",
                "def dd(x):\n",
                "    return -5*x**(-6)+3*x**(-4)\n",
                "\n",
                "# Encapsulate the value of c=1\n",
                "def d1(x):\n",
                "    return d(x, 1)"
            ],
            "outputs": [],
            "metadata": {}
        },
        {
            "cell_type": "code",
            "execution_count": null,
            "source": [
                "root=newton(0.65, d1, dd)\n",
                "print(f\"Root of the function: {root}.\")"
            ],
            "outputs": [],
            "metadata": {}
        },
        {
            "cell_type": "markdown",
            "source": [
                "\n",
                "(b) Now construct an equidistant grid for $c$ containing 10 nodes between 1 and 10,\n",
                "and for each value of c on the grid find $x^∗$."
            ],
            "metadata": {}
        },
        {
            "cell_type": "code",
            "execution_count": null,
            "source": [
                "c=np.linspace(1, 10, 10)\n",
                "root=np.zeros(10)\n",
                "for i in range(len(c)):\n",
                "    def dc(x):\n",
                "        return d(x, c[i])\n",
                "    \n",
                "    root[i]=newton(0.8, dc, dd)\n",
                "    print(f\"Root for c={c[i]}: {root[i]}\")"
            ],
            "outputs": [],
            "metadata": {}
        },
        {
            "cell_type": "markdown",
            "source": [
                "\n",
                "(c) Construct a new equidistant grid for $c$ containing 1000 nodes between 1 and 10,\n",
                "and plot your solution for each value on this grid using a spline."
            ],
            "metadata": {}
        },
        {
            "cell_type": "code",
            "execution_count": null,
            "source": [
                "\n",
                "# B-Spline cubic\n",
                "# could use interpolate.iterp1d\n",
                "sp=interpolate.splrep(c, root)\n",
                "fine_c=np.linspace(1, 10, 1000)\n",
                "sp_fine=interpolate.splev(fine_c, sp)\n",
                "\n",
                "fig, ax = plt.subplots()\n",
                "ax.scatter(c, root, c='green')\n",
                "ax.plot(fine_c, sp_fine)\n",
                "ax.set_xlabel('c')\n",
                "ax.set_ylabel('$x^*$')\n",
                "ax.set_xticks(c)"
            ],
            "outputs": [],
            "metadata": {}
        },
        {
            "cell_type": "markdown",
            "source": [
                "(d) Relabel your solution $x^∗$ from part (b) $x(c)$. Find the inverse function $c(x)$,\n",
                "and plot it on an equidistant grid of 1000 nodes on $x \\in [0.6, 10]$ using a spline\n",
                "approximation."
            ],
            "metadata": {}
        },
        {
            "cell_type": "code",
            "execution_count": null,
            "source": [
                "# Invert the interpolation\n",
                "spc = interpolate.splrep(sorted(root), list(reversed(c)), s = 0)\n",
                "fine_x=np.linspace(0.6, 10, 1000)\n",
                "# B-Spline cubic\n",
                "spc_fine=interpolate.splev(fine_x, spc)\n",
                "\n",
                "fig, ax = plt.subplots()\n",
                "ax.scatter(root, c, color='green')\n",
                "ax.plot(fine_x, spc_fine)\n",
                "ax.set_xlabel('x')\n",
                "ax.set_ylabel('c')"
            ],
            "outputs": [],
            "metadata": {}
        },
        {
            "cell_type": "markdown",
            "source": [
                "\n",
                "(e) Now find the solution to:\n",
                "0 = c(x) + x."
            ],
            "metadata": {}
        },
        {
            "cell_type": "code",
            "execution_count": null,
            "source": [
                "# Let g(x) := c(x) + x\n",
                "g = c + root # Numerical points for g(x)\n",
                "# plt.scatter(root, g)\n",
                "# Interpolate it over a very fine grid\n",
                "spg = interpolate.splrep(sorted(root), list(reversed(g)), s = 0)\n",
                "fine_x2 = np.arange(0.6, 1, 1e-6)\n",
                "spg_fine = interpolate.splev(fine_x2, spg)\n",
                "plt.plot(fine_x2, spg_fine)\n",
                "plt.grid(axis='y')"
            ],
            "outputs": [],
            "metadata": {}
        },
        {
            "cell_type": "code",
            "execution_count": null,
            "source": [
                "# roots = np.array([])\n",
                "g_min = abs(spg_fine).argmin() # Index for the min abs(g(x))\n",
                "# If the minimum value of abs(g(x)) is close enough to zero then x is the root\n",
                "if spg_fine[g_min] < 1e-4:\n",
                "    g_root = fine_x2[g_min]\n",
                "    print(f\"The root for g(x) is: {g_root}\")\n",
                "else:\n",
                "    print(\"g(x) has no root in the interval\")"
            ],
            "outputs": [],
            "metadata": {}
        },
        {
            "cell_type": "code",
            "execution_count": null,
            "source": [
                "# We could also implement a modified bisection method!\n",
                "def m_bisection(func, tol = 1e-4, maxit = 100):\n",
                "    i = 0\n",
                "    j = len(func) - 1\n",
                "    itr = 0\n",
                "\n",
                "    if func[i]*func[j] > 0:\n",
                "        print('Conditions for the Intermidiate Value Theorem do not hold')\n",
                "    else:\n",
                "        # First middle point\n",
                "        k = (i+j)//2 # floor division to avoid floating points\n",
                "        error = abs(func[k])\n",
                "        # bisection loop\n",
                "        while error > tol:\n",
                "            if func[k]*func[i] < 0:\n",
                "                j = k\n",
                "            else:\n",
                "                i = k\n",
                "            itr +=1\n",
                "            # print(f\"Iteration {itr}: {i}, {j}, {k}\")\n",
                "            if itr >= maxit:\n",
                "                break\n",
                "            k = (i+j)//2\n",
                "            error = abs(func[k])\n",
                "            # ~ print(error)\n",
                "    return k"
            ],
            "outputs": [],
            "metadata": {}
        },
        {
            "cell_type": "code",
            "execution_count": null,
            "source": [
                "kg = m_bisection(spg_fine)\n",
                "print(f\"The root for g(x) is: {fine_x2[kg]}\")"
            ],
            "outputs": [],
            "metadata": {}
        },
        {
            "cell_type": "markdown",
            "source": [
                "## 3. **Approximation Methods: Finite Element Methods.** Consider the function $h(x)$ on the domain $x \\in[-2,2]$ :\n",
                "$$\n",
                "h(x)=\\left\\{\\begin{array}{lc}\n",
                "(x-0.5)^{2} & \\text { for } 0 \\leq x \\leq 2 \\\\\n",
                "(x+0.5)^{2} & \\text { for }-2 \\leq x<0\n",
                "\\end{array}\\right.\n",
                "$$"
            ],
            "metadata": {}
        },
        {
            "cell_type": "markdown",
            "source": [
                "(a) Approximate $h(x)$ with a cubic spline, using $n=5$ equally spaced nodes. Plot the function along with your approximation and calculate the root mean squared error of your approximation over the fine grid, with interval $0.0001$."
            ],
            "metadata": {}
        },
        {
            "cell_type": "code",
            "execution_count": null,
            "source": [
                "def h_scalar(x):\n",
                "    if x >= -2 and x < 0:\n",
                "        return (x+0.5)**2\n",
                "    elif x >= 0 and x <= 2:\n",
                "        return (x-0.5)**2\n",
                "    else:\n",
                "        return np.nan\n",
                "\n",
                "# Vectorize the function\n",
                "h=np.vectorize(h_scalar)"
            ],
            "outputs": [],
            "metadata": {}
        },
        {
            "cell_type": "code",
            "execution_count": null,
            "source": [
                "n=np.linspace(-2, 2, 5)\n",
                "x=np.arange(-2, 2, 0.0001)\n",
                "# B-Spline cubic\n",
                "sp=interpolate.splrep(n, h(n))\n",
                "sp_eval=interpolate.splev(x, sp)\n",
                "# Plot the functions\n",
                "fig, ax=plt.subplots(figsize=(10,6))\n",
                "ax.plot(x, h(x), color='green', label='True Function')\n",
                "ax.plot(x, sp_eval, color='red', label='Approximation')\n",
                "ax.legend()"
            ],
            "outputs": [],
            "metadata": {}
        },
        {
            "cell_type": "markdown",
            "source": [
                "The **root mean squared error** (RMSE) is computed as follows:\n",
                "$$\n",
                "RMSE=\\sqrt{\\frac{1}{n}\\sum_{i=1}^n(x_i - y_i)^2}\n",
                "$$\n",
                "\n",
                "for two vectors $x$ and $y$."
            ],
            "metadata": {}
        },
        {
            "cell_type": "code",
            "execution_count": null,
            "source": [
                "def rmse(x, y):\n",
                "    return np.sqrt(np.mean((x-y)**2))\n",
                "\n",
                "rmserr=rmse(h(x), sp_eval)\n",
                "print(f\"The RMSE is: {rmserr}\")"
            ],
            "outputs": [],
            "metadata": {}
        },
        {
            "cell_type": "markdown",
            "source": [
                "\n",
                "(b) Approximate $h(x)$ with a cubic spline, using $n=10$ equally spaced nodes. Plot this new approximation along with both the actual function and your approximation from (a) and calculate the root mean squared error of your approximation over the fine grid, with interval $0.0001$. Explain the reasons for the differences in your answers."
            ],
            "metadata": {}
        },
        {
            "cell_type": "code",
            "execution_count": null,
            "source": [
                "n10=np.linspace(-2, 2, 10)\n",
                "# B-Spline cubic\n",
                "sp10=interpolate.splrep(n10, h(n10))\n",
                "sp10_eval=interpolate.splev(x, sp10)\n",
                "# Plot the functions\n",
                "fig, ax=plt.subplots(figsize=(10,6))\n",
                "ax.plot(x, h(x), color='green', label='True Function')\n",
                "ax.plot(x, sp_eval, color='red', label='Approximation n=5')\n",
                "ax.plot(x, sp10_eval, color='blue', label='Approximation n=10')\n",
                "ax.legend()"
            ],
            "outputs": [],
            "metadata": {}
        },
        {
            "cell_type": "code",
            "execution_count": null,
            "source": [
                "rmserr10=rmse(h(x), sp10_eval)\n",
                "print(f\"The RMSE is: {rmserr10}\")"
            ],
            "outputs": [],
            "metadata": {}
        },
        {
            "cell_type": "markdown",
            "source": [
                "The higher the number of nodes, more reference knots we have to compute the spline approximation. These knots (they are at the true function value) limit the range the approximation can differ from the true function, thus, improving the results. "
            ],
            "metadata": {}
        },
        {
            "cell_type": "markdown",
            "source": [
                "\n",
                "## 4. In this question, you will use a Monte Carlo procedure to estimate the value of $\\pi$. Pick a square with a perimeter of $8 r$ and inscribe a circumference with a $2 r$ diameter on it. We are able to estimate $\\pi$ by randomly drawing points inside the square and counting how many of them lie inside the circle.[^1]\n",
                "\n",
                "[^1]: To visualise the method, you can check this YouTube video [https://www.youtube.com/watch?v=ELetCV_wX_c](https://www.youtube.com/watch?v=ELetCV_wX_c).\n",
                "\n",
                "(a) Describe in detail the algorithm you intend to use to estimate $\\pi$."
            ],
            "metadata": {}
        },
        {
            "cell_type": "markdown",
            "source": [
                "I will anchor the bottom-left corner of the square at the origin, such that the square is the cartesian product $(0, 2r)\\times(0, 2r)$. The circle will be centered at $(r, r)$ and will have radius $r$.\n",
                "\n",
                "Then I will randomly draw two independent sequences $x, y \\in [0, 2r]$ to form the square point $(x, y)$. This point will lie inside the circle if its distance to the circle's center, $(r, r)$, is lower than or equal to $r$. The proportion of points inside the circle will approximate the ratio of areas between the circle and the square, $R=\\frac{\\pi r^2}{4 r^2}=\\pi/4$. Therefore, my approximation to $\\pi$ will be: $\\pi\\approx 4R$."
            ],
            "metadata": {}
        },
        {
            "cell_type": "markdown",
            "source": [
                "\n",
                "(b) Plot the square, the inscribed circumference and a random draw of 100 points. What is the value of your estimated $\\pi$ with this 100 points."
            ],
            "metadata": {}
        },
        {
            "cell_type": "code",
            "execution_count": null,
            "source": [
                "\n",
                "class pi_approx():\n",
                "    \n",
                "    def __init__(self, radius=1, n_points=100, seed=1234) -> None:\n",
                "        self.r = radius\n",
                "        self.n = n_points\n",
                "        self.seed = seed\n",
                "        self.pi = np.nan\n",
                "        self.x = np.zeros(n_points)\n",
                "        self.y = np.zeros(n_points)\n",
                "    \n",
                "    def approximate(self):\n",
                "        # set seed\n",
                "        rng=np.random.default_rng(self.seed)\n",
                "        self.x=rng.uniform(0, 2*self.r, self.n)\n",
                "        self.y=rng.uniform(0, 2*self.r, self.n)\n",
                "        point=np.array(list(zip(self.x, self.y)))\n",
                "        center=np.array((self.r, self.r))\n",
                "        # Euclidean distance of points from center\n",
                "        dist=np.linalg.norm(point-center, axis=1)\n",
                "        self.pi=4*np.sum(np.less_equal(dist, self.r))/self.n\n",
                "        # print(f\"Approximate Pi: {self.pi}\")\n",
                "    \n",
                "    def get_pi(self):\n",
                "        return self.pi\n",
                "    \n",
                "    def plot(self):\n",
                "        fig,ax=plt.subplots(figsize=(10,6))\n",
                "        ax.hlines(y=0, xmin=0, xmax=2*self.r)\n",
                "        ax.hlines(y=2*self.r, xmin=0, xmax=2*self.r)\n",
                "        ax.vlines(x=0, ymin=0, ymax=2*self.r)\n",
                "        ax.vlines(x=2*self.r, ymin=0, ymax=2*self.r)\n",
                "        theta=np.linspace(0, 2*np.pi, 200)\n",
                "        xc=self.r+self.r*np.cos(theta)\n",
                "        yc=self.r+self.r*np.sin(theta)\n",
                "        ax.plot(xc, yc, color='green')\n",
                "        ax.scatter(self.x, self.y, color='black')\n",
                "        ax.set_aspect(1)\n",
                "        ax.set_title(f\"{self.n} points randomly drawn\")"
            ],
            "outputs": [],
            "metadata": {}
        },
        {
            "cell_type": "code",
            "execution_count": null,
            "source": [
                "pi_ap = pi_approx()\n",
                "pi_ap.approximate()\n",
                "print(f\"Approximate Pi: {pi_ap.get_pi()}\")"
            ],
            "outputs": [],
            "metadata": {}
        },
        {
            "cell_type": "code",
            "execution_count": null,
            "source": [
                "pi_ap.plot()"
            ],
            "outputs": [],
            "metadata": {}
        },
        {
            "cell_type": "markdown",
            "source": [
                "\n",
                "\n",
                "(c) Replicate your algorithm 20 times, using different amounts of random draws $(n=5000,10000,15000, \\ldots, 100000)$. Plot the estimates of $\\pi$ in the vertical axis as a function of the number of random draws $(n)$ in the horizontal axis."
            ],
            "metadata": {}
        },
        {
            "cell_type": "code",
            "execution_count": null,
            "source": [
                "def pi_d(n_points):\n",
                "    pid = pi_approx(n_points=n_points)\n",
                "    pid.approximate()\n",
                "    return pid.get_pi()"
            ],
            "outputs": [],
            "metadata": {}
        },
        {
            "cell_type": "code",
            "execution_count": null,
            "source": [
                "points = np.arange(5000, 100001, 5000)\n",
                "pi_f = np.vectorize(pi_d)\n",
                "pi_vec = pi_f(points)\n",
                "# Plot\n",
                "plt.scatter(points, pi_vec, label = 'Estimations')\n",
                "plt.axhline(np.pi, color='red', label = 'True Pi')\n",
                "plt.legend()"
            ],
            "outputs": [],
            "metadata": {}
        },
        {
            "cell_type": "markdown",
            "source": [
                "# 2 Economics\n",
                "\n",
                "## 5. **Two-period model.** Consider the following two-period $(t=0,1)$ standard model economy. There is a continuum of agents of measure $1 .$ Each agent is endowed with one unit of time in each period, which can be used for leisure $l$ or hours worked $h$. Preferences are over consumption $c$ and leisure $l$ and are represented by\n",
                "$$\n",
                "U=\\sum_{t=0}^{1} \\beta^{t}\\left(u\\left(c_{t}\\right)+\\gamma v\\left(l_{t}\\right)\\right), \\gamma>0 \\text { and } \\beta \\in(0,1)\n",
                "$$\n",
                "and $u(c)=\\frac{c^{1-\\sigma}-1}{1-\\sigma}$ and $v(l)=\\frac{l^{1-\\sigma}-1}{1-\\sigma}$ with $\\sigma>0 .$ On the production side, there is a continuum of firms of measure one, each with access to a technology to produce the consumption good:\n",
                "$$\n",
                "Y_{t}=A_{t} L_{t}^{\\alpha}, A_{t}>0 \\text { and } \\alpha \\in(0,1)\n",
                "$$\n",
                "where $Y_{t}$ is output, $L_{t}$ denotes labor input and $A_{t}$ is a productivity factor. Each household is entitled to an equal share of dividends of the firms. Suppose that there is an asset market that agents can trade one-period bonds, such that budget constraints can be written as (I should not have written them because this is part of an exercise of thinking about writing your own economy)\n",
                "$$\n",
                "c_{0}+a_{1}=w_{0} h_{0}+\\pi_{0}\n",
                "$$\n",
                "and\n",
                "$$\n",
                "c_{1}=w_{1} h_{1}+(1+r) a_{1}+\\pi_{1}\n",
                "$$\n",
                "$\\pi_{t} \\mathrm{~s}$ are profits and they are taken as given by households. Carefully address the following questions.\n",
                "\n",
                "(a) Define a competitive equilibrium for this economy. Be precise about the problem of each agent, each firm and market clearing conditions."
            ],
            "metadata": {}
        },
        {
            "cell_type": "markdown",
            "source": [
                "There are three requirements for a competitive equilibrium, corresponding to: 1) households maximize utility; 2) firms maximize their profit; and that “markets clear” at the equilibrium price. \n",
                "\n",
                "1. Households Problem\n",
                "\n",
                "$$\n",
                "\\begin{align*}\n",
                "    \\max_{c_0,c_1,h_0,h_1,a_1}&U = u(c_0) + \\gamma v(1-h_0) + \\beta u(c_1) + \\beta \\gamma v(1-h_1)\\tag{HP}\\\\\n",
                "    s.t\\quad &c_0+a_1 = w_0h_0+\\pi_0\\\\\n",
                "    &c_1 = w_1h_1+\\pi_1+(1+r)a_1\\\\\n",
                "    &l_0+h_0=1\\\\\n",
                "    &l_1+h_1=1\n",
                "\\end{align*} \n",
                "$$\n",
                "\n",
                "2. Firms Problem\n",
                "\n",
                "$$\n",
                "\\begin{align*}\n",
                "    \\max_{L_t}\\quad &\\pi_t = p_tA_tL_t^\\alpha - w_tL_t\\quad t=\\{0,1\\}\\tag{FP}\n",
                "\\end{align*}\n",
                "$$\n",
                "\n",
                "3. Market Clearing\n",
                "\n",
                "Total consumption plus savings must equal total production plus interest at a given period\n",
                "\n",
                "3.1 $c_0+a_1=Y_0$\n",
                "\n",
                "3.2 $c_1=(1+r)a_1+Y_1$\n",
                "\n",
                "and labor supply matches demand\n",
                "\n",
                "3.3 $h_t=L_t$\n",
                "\n",
                "where $c_t$ denotes consumption at period $t$ from all households, which has a measure of 1 and $Y_t$ denotes total production of the final good from firms, which also has a measure of 1."
            ],
            "metadata": {}
        },
        {
            "cell_type": "markdown",
            "source": [
                "(b) Derive the first-order conditions of the problem of each agent and each firm and go as far as possible in writing the market clearing equilibrium conditions."
            ],
            "metadata": {}
        },
        {
            "cell_type": "markdown",
            "source": [
                "The First Order Conditions for HP is:\n",
                "$$\n",
                "\\begin{align*}\n",
                "    &\\mathcal{L} = u(c_0) + \\gamma v(1-h_0) + \\beta u(c_1) + \\beta\\gamma v(1-h_1) + \\lambda_0 [w_0 h_0 + \\pi_0 - c_0 - a_1] + \\lambda_1[w_1 h_1 + \\pi_1 + (1+r)a_1 - c_1]\\\\\n",
                "    &c_0: u'(c_0) - \\lambda_0 = 0\\\\\n",
                "    &c_1: \\beta u'(c_1) - \\lambda_1= 0\\\\\n",
                "    &h_0: -\\gamma v'(1-h_0) + \\lambda_0 w_0 = 0\\\\\n",
                "    &h_1: -\\beta\\gamma v'(1-h_1) + \\lambda_1 w_1 = 0\\\\\n",
                "    &a_1: -\\lambda_0 + \\lambda_1(1+r) = 0\n",
                "\\end{align*}\n",
                "$$"
            ],
            "metadata": {}
        },
        {
            "cell_type": "markdown",
            "source": [
                "Solving those equations we arrive at the Euler equation and the intertemporal labor supply substitution that characterizes the problem.\n",
                "\n",
                "$$\n",
                "\\begin{equation}\n",
                "\\left. \\begin{aligned}\n",
                "u'(c_0)=\\gamma\\frac{v'(1-h_0)}{w_0}\\\\\n",
                "u'(c_1)=\\gamma\\frac{v'(1-h_1)}{w_1}\n",
                "\\end{aligned}\n",
                "\\right\\rbrace \\implies u'(c_0)=\\beta(1+r)u'(c_1)\\qquad\\text{Euler equation}\n",
                "\\end{equation}\n",
                "$$\n",
                "\n",
                "$$\n",
                "\\begin{equation}\n",
                "v'(1-h_0) w_1 = \\beta(1+r) v'(1-h_1)w_0 \\qquad\\text{intertemporal labor supply substitution}\n",
                "\\end{equation}\n",
                "$$\n",
                "\n",
                "This system could be solved by writing all endogenous variables, $c_1$, $h_0$, $h_1$ and $a_1$ in terms of $c_0$, then using the first constraint equation, $c_0=w_0h_0+\\pi_0-a_1$ we can find $c_0(\\beta, r, w_0, w_1)$ and recursively substitute to find all other endogenous variables."
            ],
            "metadata": {}
        },
        {
            "cell_type": "markdown",
            "source": [
                "The First Order Condition for FP is:\n",
                "\n",
                "$$\n",
                "\\begin{equation}\n",
                "\\frac{w_t}{p_t} = \\alpha A_t L_t^{\\alpha-1}  \\quad t=\\{0,1\\}\n",
                "\\end{equation}\n",
                "$$\n",
                "\n",
                "Here we can see the FP is static and we are assuming firms are price takers at any given period. Moreover, since there is only one good in this economy it will be the numeraire, hence $p_t=1, \\forall t$. Therefore, real wages are given by the marginal productivity of labor."
            ],
            "metadata": {}
        },
        {
            "cell_type": "markdown",
            "source": [
                "Finally, market clearing implies:\n",
                "$$\n",
                "\\begin{align}\n",
                "    &h_t=L_t\\\\\n",
                "    &c_0+a_1=A_0 L_0^\\alpha\\\\\n",
                "    &c_1=(1+r)a_1 + A_1 L_1^\\alpha\\\\\n",
                "\\end{align}\n",
                "$$"
            ],
            "metadata": {}
        },
        {
            "cell_type": "markdown",
            "source": [
                "(c) Now, let $A_{0}=1, A_{1}=1, \\alpha=2 / 3, \\sigma=2, \\beta=0.98^{25}$ (subjective discount rate of $2 \\%$ per year, but a model period is 25 years) and $\\gamma=1 .$ Find all allocations (consumption, labor, leisure and assets) and prices $\\left(w_{0}, w_{1}\\right.$ and $\\left.r\\right)$ for this economy. You probably need to do this numerically - explain how you did it."
            ],
            "metadata": {}
        },
        {
            "cell_type": "markdown",
            "source": [
                "I started by setting up all equations from (1) to (6) in a total of 9 non-linear equations the equilibrium must satisfy. I treated the **interest rate, $r$, as exogenous**, thus, I have 9 endogenous variables and the same number of equations to solve the system. The endogenous variables are: $c_0, c_1, h_0, h_1, a_1, w_0, w_1, \\pi_0, \\pi_1$, while the exogenous parameters are: $\\alpha, \\beta, \\gamma, \\sigma, r, A_0, A_1$."
            ],
            "metadata": {}
        },
        {
            "cell_type": "markdown",
            "source": [
                "The 9 equations the economy must satisfy are:\n",
                "\n",
                "$$\n",
                "\\begin{align}\n",
                "c_0&=w_0h_0+\\pi_0-a_1\\\\\n",
                "c_1&=[(1+r)\\beta]^{1/\\sigma}c_0\\\\\n",
                "h_0&=1-(\\gamma/w_0)^{1/\\sigma}c_0\\\\\n",
                "h_1&=1-(\\gamma/w_1)^{1/\\sigma}c_1\\\\\n",
                "a1&=(c1-w_1h_1-\\pi_1)/(1+r)\\\\\n",
                "w_0&=\\alpha A_0 h_0^{\\alpha-1}\\\\\n",
                "w_1&=\\alpha A_1 h_1^{\\alpha-1}\\\\\n",
                "\\pi_0&=(1-\\alpha)A_0h_0^\\alpha\\\\\n",
                "\\pi_1&=(1-\\alpha)A_1h_1^\\alpha\n",
                "\\end{align}\n",
                "$$"
            ],
            "metadata": {}
        },
        {
            "cell_type": "code",
            "execution_count": 12,
            "source": [
                "from scipy.optimize import root"
            ],
            "outputs": [],
            "metadata": {}
        },
        {
            "cell_type": "code",
            "execution_count": null,
            "source": [
                "class twop_economy():\n",
                "    \n",
                "    def __init__(self, A0, A1, alpha, sigma, beta, gamma, r, tol=1e-4) -> None:\n",
                "        self.A0, self.A1, self.alpha, self.sigma, self.beta, self.gamma, self.r = A0, A1, alpha, sigma, beta, gamma, r\n",
                "        self.tol = tol\n",
                "        self.eq = None # Equilibrium values\n",
                "    \n",
                "    def u(self, c):\n",
                "        return (c**(1-self.sigma)-1)/(1-self.sigma)\n",
                "    \n",
                "    def v(self, l):\n",
                "        return (l**(1-self.sigma)-1)/(1-self.sigma)\n",
                "    \n",
                "    def du(self, c):\n",
                "        return c**(-self.sigma)\n",
                "    \n",
                "    def dv(self, l):\n",
                "        return l**(-self.sigma)\n",
                "    \n",
                "    def solve_ss(self, x0) -> None:\n",
                "        \n",
                "        def obj_fun(x):\n",
                "            F = np.empty(9)\n",
                "            c0, c1, h0, h1, a1, w0, w1, pi0, pi1 = x\n",
                "            # Solving the system of nonlinear equations\n",
                "            F = np.array([\n",
                "                        #################################################\n",
                "                        # Using one equation for each endogenous variable\n",
                "                        c0 - (w0*h0+pi0-a1),\n",
                "                        c1 - (((1+self.r)*self.beta)**(1/self.sigma)*c0),\n",
                "                        h0 - (1-(self.gamma/w0)**(1/self.sigma)*c0),\n",
                "                        h1 - (1-(self.gamma/w1)**(1/self.sigma)*c1),\n",
                "                        a1 - (c1-w1*h1-pi1)/(1+self.r),\n",
                "                        w0 - (self.alpha*self.A0*(h0)**(self.alpha-1)),\n",
                "                        w1 - (self.alpha*self.A1*(h1)**(self.alpha-1)),\n",
                "                        pi0 - ((1-self.alpha)*self.A0*(h0)**self.alpha),\n",
                "                        pi1 - ((1-self.alpha)*self.A1*(h1)**self.alpha)\n",
                "                        ])\n",
                "            return F\n",
                "        \n",
                "        self.eq = root(obj_fun, x0, method='hybr')\n",
                "    \n",
                "    def check_constraints(self) -> None:\n",
                "        c0, c1, h0, h1, a1, w0, w1, pi0, pi1 = self.eq.x\n",
                "        print(\"Checking Equilibrium!\")\n",
                "        print(f\"Euler equation: {abs(self.du(c0)-(1+self.r)*self.beta*self.du(c1)) < self.tol}\")\n",
                "        print(f\"Budget constraint t0: {abs(c0+a1-w0*h0-pi0 < self.tol)}\")\n",
                "        print(f\"Budget constraint t1: {abs(c1-w1*h1-(1+self.r)*a1 - pi1 < self.tol)}\")"
            ],
            "outputs": [],
            "metadata": {}
        },
        {
            "cell_type": "code",
            "execution_count": null,
            "source": [
                "parameters = {'A0':1, 'A1':1, 'alpha': 2/3, 'sigma': 2, 'beta': 0.98**25, 'gamma': 1, 'r': 1.05**25-1}\n",
                "econ = twop_economy(**parameters)\n",
                "# Order for x0: c0, c1, h0, h1, a1, w0, w1, pi0, pi1\n",
                "x0 = np.array([0.5, 0.9, 0.5, 0.5, 0.2, 0.9, 0.9, 0.5, 0.5])\n",
                "x0a = np.array([0.5, 0.9, 0.3, 0.6, 0.1, 0.3, 0.6, 0.35, 0.25])\n",
                "econ.solve_ss(x0)\n",
                "print(f\"Root finding successfull? {econ.eq.success}\")\n",
                "result = dict(zip([\"c0\", \"c1\", \"h0\", \"h1\", \"a1\", \"w0\", \"w1\", \"pi0\", \"pi1\"], econ.eq.x))\n",
                "print(\"\\n\")\n",
                "print(result)\n",
                "# Checking constraints\n",
                "econ.check_constraints()\n",
                "# New initial guess\n",
                "econ.solve_ss(x0a)\n",
                "resulta = dict(zip([\"c0\", \"c1\", \"h0\", \"h1\", \"a1\", \"w0\", \"w1\", \"pi0\", \"pi1\"], econ.eq.x))\n",
                "print(\"\\n\")\n",
                "print(resulta)\n",
                "# Checking constraints\n",
                "econ.check_constraints()"
            ],
            "outputs": [],
            "metadata": {}
        },
        {
            "cell_type": "markdown",
            "source": [
                "(d) Let $A_{0}$ decrease from 1 to $0.90$ and keep the value of all other parameters as before. Redo all your calculations and comment on your results."
            ],
            "metadata": {}
        },
        {
            "cell_type": "code",
            "execution_count": null,
            "source": [
                "parameters[\"A0\"] = 0.9\n",
                "econd = twop_economy(**parameters)\n",
                "econd.solve_ss(x0)\n",
                "resultd = dict(zip([\"c0\", \"c1\", \"h0\", \"h1\", \"a1\", \"w0\", \"w1\", \"pi0\", \"pi1\"], econd.eq.x))\n",
                "print(resultd)"
            ],
            "outputs": [],
            "metadata": {}
        },
        {
            "cell_type": "markdown",
            "source": [
                "(e) Let $A_1$ decrease from 1 to 0.90 and keep the value of all other parameters as before. Redo all your calculations and comment on your results."
            ],
            "metadata": {}
        },
        {
            "cell_type": "code",
            "execution_count": null,
            "source": [
                "parameters[\"A1\"] = 0.9\n",
                "econe = twop_economy(**parameters)\n",
                "econe.solve_ss(x0)\n",
                "resulte = dict(zip([\"c0\", \"c1\", \"h0\", \"h1\", \"a1\", \"w0\", \"w1\", \"pi0\", \"pi1\"], econe.eq.x))\n",
                "print(resulte)"
            ],
            "outputs": [],
            "metadata": {}
        },
        {
            "cell_type": "markdown",
            "source": [
                "(f) Now, let $\\sigma = 1.5$ and then redo (c)-(e). Comment on your results."
            ],
            "metadata": {}
        },
        {
            "cell_type": "code",
            "execution_count": null,
            "source": [
                "parameters = {'A0':1, 'A1':1, 'alpha': 2/3, 'sigma': 1.5, 'beta': 0.98**25, 'gamma': 1, 'r': 1.03**25-1}\n",
                "# c\n",
                "econfc = twop_economy(**parameters)\n",
                "econfc.solve_ss(x0)\n",
                "resultfc = dict(zip([\"c0\", \"c1\", \"h0\", \"h1\", \"a1\", \"w0\", \"w1\", \"pi0\", \"pi1\"], econfc.eq.x))\n",
                "# d\n",
                "parameters[\"A0\"] = 0.9\n",
                "econfd = twop_economy(**parameters)\n",
                "econfd.solve_ss(x0)\n",
                "resultfd = dict(zip([\"c0\", \"c1\", \"h0\", \"h1\", \"a1\", \"w0\", \"w1\", \"pi0\", \"pi1\"], econfd.eq.x))\n",
                "# e\n",
                "parameters[\"A1\"] = 0.9\n",
                "econfe = twop_economy(**parameters)\n",
                "econfe.solve_ss(x0)\n",
                "resultfe = dict(zip([\"c0\", \"c1\", \"h0\", \"h1\", \"a1\", \"w0\", \"w1\", \"pi0\", \"pi1\"], econfe.eq.x))\n",
                "\n",
                "print(f\"Economy from item c: {resultfc}\\n\")\n",
                "print(f\"Economy from item d: {resultfd}\\n\")\n",
                "print(f\"Economy from item e: {resultfe}\\n\")"
            ],
            "outputs": [],
            "metadata": {}
        },
        {
            "cell_type": "markdown",
            "source": [
                "## 6. **Growth Model.** Consider the following growth model with taxes.\n",
                "Households. There is a continuum of identical households with measure one. Each household has $N_{t}$ members, which grows at rate $\\eta$. The representative household owns the initial capital stock, $k_{0}$, and each household member has a unit of productive time in each period. Let $h_{t}$ and $l_{t}$ be hours worked and leisure by each household member, respectively, such that $h_{t}+l_{t}=1$. Preferences of the representative household is given by the following utility function:\n",
                "$$\n",
                "U=\\sum_{t=0}^{\\infty} \\beta^{t} N_{t}\\left[\\ln \\left(c_{t}\\right)+\\theta \\ln \\left(l_{t}\\right)\\right]\n",
                "$$\n",
                "The evolution of capital stock is:\n",
                "$$\n",
                "k_{t+1}=(1-\\delta) k_{t}+x_{t}, \\delta \\in(0,1)\n",
                "$$\n",
                "where $x_{t}$ is investment at $t$.\n",
                "(Important: Note the difference between the household and a household member You can think about this as a dynasty such that there is perfect altruism towards future generations) Production Sector. There is a continuum of measure one of identical firms. Let $A_{t}$ be a productivity factor which evolves according to $A_{t+1}=(1+\\gamma) A_{t} .$ Let $K_{t}$ be the capital stock, and $H_{t}$ be the total hours employed in the production of good $Y_{t}$ by the representative firm. The technology is given by\n",
                "$$\n",
                "Y_{t}=K_{t}^{\\alpha}\\left(A_{t} H_{t}\\right)^{1-\\alpha}\n",
                "$$\n",
                "The representative firm rents capital and labor from households.\n",
                "Government Sector. There is a government which finances $G_{t}$ expenditures through taxes on consumption, $\\tau^{c}$, labor income, $\\tau^{h}$, and capital income, $\\tau^{k}$. Suppose that in every period the government balances its budget, such that\n",
                "$$\n",
                "G_{t}=\\tau^{c} N_{t} c_{t}+\\tau^{h} w_{t} N_{t} h_{t}+\\tau^{k} r_{t} k_{t}\n",
                "$$\n",
                "Resource Constraint:\n",
                "$$\n",
                "Y_{t}=N_{t} c_{t}+x_{t}+G_{t}\n",
                "$$\n",
                "(Comment: Think about a continuous measure one of households. This implies that each household is very tiny. Since they are identical, this implies that you can solve the problem of a household who represents the others. Finally, the average of the economy is similar to the aggregate)\n",
                "\n",
                "(a) Define a competitive equilibrium for this economy and write down the equations that describe the equilibrium of the system. (This is the most important part of the problem. You can look at your macro text book)\n"
            ],
            "metadata": {}
        },
        {
            "cell_type": "markdown",
            "source": [
                "The household's problem, after some rearrangement, will be:\n",
                "$$\n",
                "    \\begin{align*}\n",
                "        \\max_{\\{c_t,h_t,k_{t+1}\\}_{t=0}^\\infty}\\quad &U=\\sum_{t=0}^{\\infty}\\beta^{t}N_t[ln(c_t) + \\theta ln(l_t)]\\tag{HP}\\\\\n",
                "        s.t.\\quad & (1+\\tau^c)c_tN_t+k_{t+1}=(1-\\delta)k_t+(1-\\tau^h)N_t w_t h_t+(1-\\tau^k)r_t k_t\n",
                "    \\end{align*}\n",
                "$$"
            ],
            "metadata": {}
        },
        {
            "cell_type": "markdown",
            "source": [
                "which yield the following first order conditions:\n",
                "$$\n",
                "\\begin{align*}\n",
                "        (c_t):&\\frac{1}{c_t} = \\lambda_t(1+\\tau^c)\\\\\n",
                "        (l_t):& \\theta\\frac{1}{1-h_t} = \\lambda_t(1-\\tau^h)w_t\\\\\n",
                "        (k_{t+1}):& \\lambda_t = \\lambda_{t+1}\\beta\\left[(1-\\tau^k)r_{t+1} + (1-\\delta)\\right]\n",
                "\\end{align*}\n",
                "$$"
            ],
            "metadata": {}
        },
        {
            "cell_type": "markdown",
            "source": [
                "Which yield the equations:\n",
                "\n",
                "$$\n",
                "\\begin{align}\n",
                "\\frac{c_{t+1}}{c_t}&=\\beta\\left[(1-\\delta)+(1-\\tau^k)r_{t+1} \\right]\\qquad&\\text{Euler equation}\\\\\n",
                "(1-h_{t})&=\\frac{\\theta(1+\\tau^c)}{(1-\\tau^h)}\\frac{c_t}{w_t}\\qquad&\\text{labor-leisure tradeoff}\\\\\n",
                "k_{t+1}&=\\left[(1-\\delta)+(1-\\tau^k)r_t \\right]k_t+(1-\\tau^h)N_t h_t w_t -(1+\\tau^c)N_t c_t\n",
                "\\end{align}\n",
                "$$"
            ],
            "metadata": {}
        },
        {
            "cell_type": "markdown",
            "source": [
                "The firm's problem is:\n",
                "\n",
                "$$\n",
                "\\begin{align*}\n",
                "        \\max_{K_t,H_t}\\quad&\\Pi_t = K_{t}^{\\alpha}(A_tH_t)^{1-\\alpha} - w_tH_t - r_tK_t\\tag{FP}\\\\\n",
                "    \\end{align*}\n",
                "$$"
            ],
            "metadata": {}
        },
        {
            "cell_type": "markdown",
            "source": [
                "and the FOC are:\n",
                "\n",
                "$$\n",
                "\\begin{align}\n",
                "    (H_t): &w_t = (1-\\alpha)K_t^\\alpha (A_tH_t)^{-\\alpha}A_t\\\\\n",
                "    (K_t): &r_t = \\alpha K_t^{\\alpha -1}(A_tH_t)^{1-\\alpha}\n",
                "\\end{align}\n",
                "$$\n",
                "\n",
                "which combined result in the famigerated **zero-profit condition** of competitive markets with constant returns to scale production function.\n",
                "\n",
                "$$w_t H_t + r_t K_t = Y_t \\implies \\Pi_t=0$$"
            ],
            "metadata": {}
        },
        {
            "cell_type": "markdown",
            "source": [
                "While the market clearing conditions are:\n",
                "\n",
                "$$\n",
                "\\begin{align*}\n",
                "        &Y_t = k_{t+1} -(1-\\delta)k_t + (1+\\tau^{c}) N_{t} c_{t}+\\tau^{h} w_{t} N_{t} h_{t}+\\tau^{k} r_{t} k_{t}\\\\\n",
                "        &K_t=k_t\\\\\n",
                "        &H_t=h_tN_t\n",
                "    \\end{align*}\n",
                "$$"
            ],
            "metadata": {}
        },
        {
            "cell_type": "markdown",
            "source": [
                "(b) What are the variables growth rate along the balanced growth path equilibrium? (hint: Assume that taxes are constant and that $G$ grows at the same rate of $Y$ such that the \"government size\", $G / Y$, is also constant.)"
            ],
            "metadata": {}
        },
        {
            "cell_type": "markdown",
            "source": [
                "The literature uses the term “balanced growth path” to denote a situation where all endogenous variables grow at constant (but possibly different) rates. From HP foc's (1) and (3) we have that $c_{t+1}/c_t=\\beta\\left[(1-\\tau^k)r_{t+1}+(1-\\delta)\\right]$, so in the balanced growth path $r_t$ must be constant. But the interest rate is determined from FP:\n",
                "\n",
                "$$\n",
                "\\begin{align*}\n",
                "r_t &= \\alpha K_t^{\\alpha -1}(A_tH_t)^{1-\\alpha}\\\\\n",
                "&=\\alpha\\left(\\frac{K_t}{A_t H_t}\\right)^{\\alpha-1}\\\\\n",
                "&=\\alpha\\tilde{k}_t^{\\alpha-1}\n",
                "\\end{align*}\n",
                "$$\n",
                "\n",
                "Therefore, in the balanced growth path $r_t$ is constant and this implies $K_t$ and $A_t H_t$ grow at the same rate. Since $A_tH_t$ grow at rates exogenously given, $(1+\\gamma)(1+\\eta)$ this is the growth rate of $K_t$. Moreover, redefining the production function as $\\tilde{y}_t:=\\tilde{k}_t^{\\alpha}$, zero growth for $\\tilde{k}_t$ implies $Y_t$ also grows at $(1+\\gamma)(1+\\eta)$ rate.\n",
                "\n",
                "Capital motion can be written as: $K_{t+1}=(1-\\delta)K_t+x_t$ giving result to $x_t/K_t = (1+\\gamma)(1+\\eta)-(1-\\delta)$ and x_t must also grows at rate $(1+\\gamma)(1+\\eta)$. Now we are left to uncover the individual consumption growth rate. Notice the investment is given by:\n",
                "\n",
                "$$\n",
                "\\begin{align*}\n",
                "x_t &= Y_t - N_tc_t-G_t\\\\\n",
                "\\frac{x_t}{Y_t} &= 1-N_tc_t - \\frac{G_t}{Y_t} \n",
                "\\end{align*}\n",
                "$$\n",
                "\n",
                "but since both $x_t$ and $Y_t$ grow at the same rate, their ratio is constant and so should be the term $N_tc_t/Y_t$ which finally implies $c_t$ grows at rate $1+\\gamma$.\n",
                "\n",
                "Hence our results are: capital stock, output and (level of) investment grow at rates $(1+\\gamma)(1+\\eta)$ (technology plus population), while individual consumption grows at technology rate."
            ],
            "metadata": {}
        },
        {
            "cell_type": "markdown",
            "source": [
                "(c) Write down the equivalent stationary system. (You have to transform your variable such that they are stationary in the long-run)"
            ],
            "metadata": {}
        },
        {
            "cell_type": "markdown",
            "source": [
                "We chose the following transformations: \n",
                "\n",
                "$$\n",
                "\\begin{align*}\n",
                "\\tilde{k}_t &:= \\frac{K_t}{A_t H_t}\\\\\n",
                "\\tilde{c}_t &:= \\frac{c_t}{A_t}\\\\\n",
                "\\tilde{w}_t &:= \\frac{w_t}{A_t}\n",
                "\\end{align*}\n",
                "$$\n",
                "\n",
                "then our five equations to solve the system can be rewritten as:\n",
                "\n",
                "$$\n",
                "\\begin{align}\n",
                "\\frac{\\tilde{c}_{t+1}}{\\tilde{c}_t}&=\\frac{\\beta}{1+\\gamma}\\left[(1-\\delta)+(1-\\tau^k)r_{t+1} \\right]\\\\\n",
                "(1-h_{t})&=\\frac{\\theta (1+\\tau^c)}{(1-\\tau^h)}\\frac{\\tilde{c}_t}{\\tilde{w}_t}\\\\\n",
                "g_{\\gamma\\eta}\\tilde{k}_{t+1}&=\\left[(1-\\delta)+(1-\\tau^k)r_t \\right]\\tilde{k}_t+(1-\\tau^h)\\tilde{w}_t -(1+\\tau^c)\\tilde{c}_t/h_t\\\\\n",
                "\\tilde{w}_t &= (1-\\alpha)\\tilde{k}_t^\\alpha\\\\\n",
                "r_t &= \\alpha \\tilde{k}_t^{\\alpha -1}\n",
                "\\end{align}\n",
                "$$\n",
                "where $g_{\\gamma\\eta}:=(1+\\gamma)(1+\\eta)$"
            ],
            "metadata": {}
        },
        {
            "cell_type": "markdown",
            "source": [
                "(d) Now suppose that $\\beta=0.98, \\delta=0.08, \\gamma=0.015, \\alpha=0.4, \\theta=2, \\tau^{c}=0.15$\n",
                "$\\tau^{h}=0.25, \\tau^{k}=0.15 .$ Write down a program that solves the transitional dynamics of the equilibrium system by using one of the methods of solving a system of nonlinear equations (e.g., Newton, Secant or fsolve). Assume that $K_{0}=0.8 K_{S S}$"
            ],
            "metadata": {}
        },
        {
            "cell_type": "markdown",
            "source": [
                "First notice we need to compute $\\tilde{k}_{ss}$ from the above system of equations. Making the appropriate computations, the steady-state effective capital is the solution of the following system:\n",
                "\n",
                "$$\n",
                "\\begin{align}\n",
                "r_{ss}&=\\frac{1}{(1-\\tau^k)}\\left[\\frac{1+\\gamma}{\\beta}-(1-\\delta) \\right]\\qquad\\text{depends only on parameters}\\\\\n",
                "\\tilde{w}_{ss}&=(1-\\alpha)\\left(\\frac{r_{ss}}{\\alpha} \\right)^{-\\alpha/(1-\\alpha)}\\qquad\\text{depends only on parameters}\\\\\n",
                "\\tilde{k}_{ss}&=\\left(\\frac{r_{ss}}{\\alpha}\\right)^{1/(\\alpha - 1)}\\\\\n",
                "\\tilde{c}_{ss}/h_{ss}&=\\frac{\\left[(1-\\delta)-g_{\\gamma\\eta}+(1-\\tau^k)r_{ss}\\right]\\tilde{k}_{ss}+(1-\\tau^h)\\tilde{w}_{ss}}{1+\\tau^c}\\\\\n",
                "h_{ss}&=\\left[\\frac{\\theta(1+\\tau^c)}{(1-\\tau^h)\\tilde{w}_{ss}}\\frac{\\tilde{c}_{ss}}{h_{ss}} \\right]^{-1}\\\\\n",
                "\\end{align}\n",
                "$$"
            ],
            "metadata": {}
        },
        {
            "cell_type": "code",
            "execution_count": 83,
            "source": [
                "\n",
                "class growth_economy():\n",
                "    \n",
                "    def __init__(self, alpha, beta, gamma, delta, theta, eta, tauc, tauh, tauk) -> None:\n",
                "        self.alpha, self.beta, self.gamma, self.delta, self.theta, self.eta, self.tauc, self.tauh, self.tauk = alpha, beta, gamma, delta, theta, eta, tauc, tauh, tauk\n",
                "        self.gyn = (1+self.gamma)*(1+self.eta)\n",
                "        self.eq = None # Steady-state equilibrium values\n",
                "        self.dyn = None # Dynamics results\n",
                "        self.rss = None\n",
                "        self.wss = None\n",
                "        self.hss = None\n",
                "        self.css = None\n",
                "        self.kss = None\n",
                "        \n",
                "    def get_ss(self):\n",
                "        ss = {'hss': self.hss, 'css': self.css, 'kss': self.kss, 'rss': self.rss, 'wss': self.wss}\n",
                "        return ss\n",
                "        \n",
                "    def solve_ss(self) -> None:\n",
                "        self.rss = (1-self.tauk)**(-1)*((1+self.gamma)/self.beta -(1-self.delta))\n",
                "        self.wss = (1-self.alpha)*(self.rss/self.alpha)**(-self.alpha/(1-self.alpha))\n",
                "        self.kss = (self.rss/self.alpha)**(1/(self.alpha - 1))\n",
                "        chss = (1+self.tauc)**(-1)*(((1-self.delta)-self.gyn+(1-self.tauk)*self.rss)*self.kss+(1-self.tauh)*self.wss)\n",
                "        self.hss = (self.theta*(1+self.tauc)*chss/((1-self.tauh)*self.wss)+1)**(-1)\n",
                "        self.css = chss*self.hss\n",
                "        \n",
                "        \n",
                "    def solve_dyn(self, h0, k0, T) -> None:\n",
                "        r0 = self.alpha*(k0)**(self.alpha-1)\n",
                "        w0 = (1-self.alpha)*(k0)**(self.alpha)\n",
                "        c0 = (1-self.tauh)*w0*(1-h0)/(self.theta*(1+self.tauc))\n",
                "        # print(f\"{r0}, {w0}, {c0}\")\n",
                "        r_vec = np.linspace(r0, self.rss, T+2)\n",
                "        w_vec = np.linspace(w0, self.wss, T+2)\n",
                "        h_vec = np.linspace(h0, self.hss, T+2)\n",
                "        c_vec = np.linspace(c0, self.css, T+2)\n",
                "        k_vec = np.linspace(k0, self.kss, T+2)\n",
                "        # Initial guess for solver\n",
                "        x0_vec = np.concatenate((r_vec, w_vec, h_vec, c_vec, k_vec))\n",
                "        # print(f\"{x0_vec.shape}\")\n",
                "        \n",
                "        def obj_fun(x, T):\n",
                "            # print(f\"{x.shape}\\n\")\n",
                "            r = x[:(T+2)]\n",
                "            w = x[(T+2):2*(T+2)]\n",
                "            h = x[2*(T+2):3*(T+2)]\n",
                "            c = x[3*(T+2):4*(T+2)]\n",
                "            k = x[4*(T+2):5*(T+2)]\n",
                "            fr = np.zeros(len(r))\n",
                "            fw = np.zeros(len(w))\n",
                "            fh = np.zeros(len(h))\n",
                "            fc = np.zeros(len(c))\n",
                "            fk = np.zeros(len(k))\n",
                "             \n",
                "            for t in range(1, T+1):\n",
                "                fr[t] = r[t] - self.alpha*(k[t])**(self.alpha - 1)\n",
                "                fw[t] = w[t] - (1-self.alpha)*(k[t])**(self.alpha)\n",
                "                fh[t] = 1 - h[t] - ((self.theta*(1+self.tauc))/(1-self.tauh))*(c[t]/w[t])\n",
                "                fc[t] = c[t] - (self.beta/(1+self.gamma))*((1-self.delta)+(1-self.tauk)*r[t])*c[t-1]\n",
                "                fk[t] = self.gyn*k[t] - (((1-self.delta)+(1-self.tauk)*r[t-1])*k[t-1]+(1-self.tauh)*w[t-1]-(1+self.tauc)*c[t-1]/h[t-1])\n",
                "            \n",
                "            return np.concatenate((fr, fw, fh, fc, fk))\n",
                "        \n",
                "        self.dyn = root(obj_fun, x0_vec, method='hybr', args=(T))\n",
                "        self.dyn.T = T\n",
                "        \n",
                "    def get_dyn(self):\n",
                "        x = self.dyn.x\n",
                "        T = self.dyn.T\n",
                "        r = x[:(T+2)]\n",
                "        w = x[(T+2):2*(T+2)]\n",
                "        h = x[2*(T+2):3*(T+2)]\n",
                "        c = x[3*(T+2):4*(T+2)]\n",
                "        k = x[4*(T+2):5*(T+2)]\n",
                "        dyn = {'r': r, 'w': w, 'h': h, 'c': c, 'k': k}\n",
                "        return dyn\n",
                "        "
            ],
            "outputs": [],
            "metadata": {}
        },
        {
            "cell_type": "code",
            "execution_count": 84,
            "source": [
                "# Parameters\n",
                "param = {'alpha': 0.4, 'beta': 0.98, 'gamma': 0.015, 'delta': 0.08, 'theta': 2, 'eta': 0, 'tauc': 0.15, 'tauh': 0.25, 'tauk': 0.15}\n",
                "g_econ = growth_economy(**param)\n",
                "# Initial guess\n",
                "g_econ.solve_ss()\n",
                "g_econ.get_ss()"
            ],
            "outputs": [
                {
                    "output_type": "execute_result",
                    "data": {
                        "text/plain": [
                            "{'hss': 0.3057629393507256,\n",
                            " 'css': 0.2786466100465991,\n",
                            " 'kss': 6.027722221497173,\n",
                            " 'rss': 0.13613445378151243,\n",
                            " 'wss': 1.2308710082553032}"
                        ]
                    },
                    "metadata": {},
                    "execution_count": 84
                }
            ],
            "metadata": {}
        },
        {
            "cell_type": "code",
            "execution_count": null,
            "source": [
                "h0 = 0.8*g_econ.get_ss()['hss']\n",
                "k0 = 0.8*g_econ.get_ss()['kss']\n",
                "print(f\"{k0}, {h0}\")\n",
                "g_econ.solve_dyn(h0, k0, 50)"
            ],
            "outputs": [],
            "metadata": {}
        },
        {
            "cell_type": "code",
            "execution_count": 71,
            "source": [
                "\n",
                "class growth2():\n",
                "    \n",
                "    def __init__(self, beta, delta, gamma, eta, alpha, theta, tauc, tauh, tauk):\n",
                "        self.beta, self.delta, self.gamma, self.eta, self.alpha, self.theta, self.tauc, self.tauh, self.tauk = \\\n",
                "        beta, delta, gamma, eta, alpha, theta, tauc, tauh, tauk\n",
                "        \n",
                "        self.k0 = None\n",
                "        self.h0 = None\n",
                "        self.gyn = (1+self.gamma)*(1+self.eta)\n",
                "        self.eq = None # Steady-state equilibrium values\n",
                "        self.dyn = None # Dynamics results\n",
                "        self.rss = None\n",
                "        self.wss = None\n",
                "        self.hss = None\n",
                "        self.css = None\n",
                "        self.kss = None\n",
                "        self.yss = None\n",
                "        self.iss = None\n",
                "        self.gss = None\n",
                "\n",
                "    #Parâmetros - Considerndo Steady State:\n",
                "    #Beta = h*\n",
                "    #Delta = k*\n",
                "    #Gamma = c* \n",
                "    #Eta = y* \n",
                "    #Alpha = i*\n",
                "    #Theta = g*\n",
                "    #tauc = Taxes on consumption\n",
                "    #tauh = Taxes on labor income\n",
                "    #tauk = Taxes on capital income\n",
                "    #K0 = Inicial capital\n",
                "    \n",
                "    #y*, c*, k*, i*, g* in units of effective labour (At.Nt)\n",
                "        \n",
                "    # A partir do que calculamos na letra c, vamos definir as equações no steady\n",
                "    #state.\n",
                "    \n",
                "    # Solve for Steady State variables\n",
                "    def solve_ss(self) -> None:\n",
                "        #h*/k*\n",
                "        h_div_k = (((1+self.gamma)/(self.beta) + self.delta - 1)/((1 - self.tauk)*self.alpha))**(1/(1-self.alpha))\n",
                "        #h_ss\n",
                "        h_ss = 1 + (self.theta/((1- self.tauh)*(1-self.alpha)))*((1-self.delta)*(h_div_k)**(self.alpha -1 ) - \\\n",
                "        (1+ self.eta)*(1+self.gamma)*(h_div_k)**(self.alpha-1) + (1 - self.tauk)*self.alpha + (1-self.alpha)*(1-self.tauh)) \n",
                "        h_ss = h_ss**(-1)\n",
                "        #k_ss\n",
                "        k_ss = h_ss/h_div_k \n",
                "        #c_ss\n",
                "        c_ss = ((1- h_ss)*(1-self.tauh)*(1-self.alpha)*(h_div_k)**(-self.alpha))/(self.theta*(1+self.tauc))\n",
                "        #y_ss\n",
                "        y_ss = k_ss**(self.alpha)*h_ss**(1-self.alpha)     \n",
                "        #i_ss\n",
                "        i_ss = k_ss*((1+self.eta)*(1+self.gamma) - (1-self.delta))\n",
                "        #g_ss\n",
                "        g_ss = self.tauc*c_ss + self.tauh*(1-self.alpha)*y_ss + self.tauk*self.alpha*y_ss\n",
                "        # r_ss\n",
                "        self.rss = (1-self.tauk)**(-1)*((1+self.gamma)/self.beta -(1-self.delta))\n",
                "        # wss\n",
                "        self.wss = (1-self.alpha)*(self.rss/self.alpha)**(-self.alpha/(1-self.alpha))\n",
                "        self.hss, self.kss, self.css, self.yss, self.iss, self.gss = h_ss, k_ss, c_ss, y_ss, i_ss, g_ss\n",
                "    \n",
                "    # Return the SS\n",
                "    def get_ss(self):\n",
                "        ss = {'hss': self.hss, 'css': self.css, 'kss': self.kss, 'rss': self.rss, 'wss': self.wss, \n",
                "              'gss': self.gss, 'yss': self.yss, 'iss': self.iss}\n",
                "        return ss\n",
                "    \n",
                "    #Equações de Movimento para valores de k_t, k_t+1 e h_t+1.\n",
                "    def eq_transition(self, k_t, k_t_1, h_t, h_t_1):\n",
                "        output = np.empty(2)\n",
                "        output[0] = ((1-h_t_1)/(1-h_t))*((k_t_1/h_t_1)**(self.alpha))*((k_t/h_t)**(-self.alpha)) \\\n",
                "        - (self.beta/(1+self.gamma))*(1 - self.delta + (1-self.tauk)*self.alpha*(h_t_1/k_t_1)**(1-self.alpha))\n",
                "        output[1] = ((1-h_t)*(1-self.tauh)*(1-self.alpha)/self.theta)*(k_t/h_t)**self.alpha + (1+ self.eta)*(1+ self.gamma)*k_t_1 \\\n",
                "        -(1- self.delta + (1-self.tauk)*self.alpha*(h_t/k_t)**(1-self.alpha))*k_t - (1-self.tauh)*(1-self.alpha)*k_t**(self.alpha)*h_t**(1-self.alpha)\n",
                "        return(output)\n",
                "        \n",
                "    def obj_fun(self, x):\n",
                "        # x is an array of dimension 2*T+2. First T elements correspond to k, the following to h\n",
                "        T = int((len(x)-2)/2)\n",
                "        # k = x[:T]\n",
                "        # print(f\"{k}\")\n",
                "        # h = x[T:2*T+2]\n",
                "        # fk = np.zeros(len(k))\n",
                "        # fh = np.zeros(len(h))\n",
                "        out = np.empty(len(x))\n",
                "        for t in range(T+1):\n",
                "            if t == 0:\n",
                "                trans = self.eq_transition(self.k0, x[t], x[t+T], x[t+T+1])\n",
                "                out[t] = trans[0]\n",
                "                out[t+T+1] = trans[1]\n",
                "                # fk[t] = self.eq_transition(self.k0, k[t], self.h0, h[t])[0]\n",
                "                # fh[t] = self.eq_transition(self.k0, k[t], self.h0, h[t])[1]\n",
                "            elif t == T:\n",
                "                trans = self.eq_transition(x[t-1], self.kss, x[t+T], x[t+T+1])\n",
                "                out[t] = trans[0]\n",
                "                out[t+T+1] = trans[1]\n",
                "                # fk[t] = self.eq_transition(k[t-1], self.kss, h[t-1], self.hss)[0]\n",
                "                # fh[t] = self.eq_transition(k[t-1], self.kss, h[t-1], self.hss)[1]\n",
                "            else:\n",
                "                trans = self.eq_transition(x[t-1], x[t], x[t+T], x[t+T+1])\n",
                "                out[t] = trans[0]\n",
                "                out[t+T+1] = trans[1]\n",
                "                # fk[t] = self.eq_transition(k[t-1], k[t], h[t-1], h[t])[0]\n",
                "                # fh[t] = self.eq_transition(k[t-1], k[t], h[t-1], h[t])[1]\n",
                "        # out is an array of objective values. We will solve then for zeros\n",
                "        return(out)\n",
                "        # return np.concatenate((fk, fh))\n",
                "    \n",
                "    #given paths for capital and hours worked, returns path of consumption per \n",
                "    #units of effective labour\n",
                "    def gen_consumption_path(self, k,h):\n",
                "        return ((1-h)*(1-self.tauh)*(1-self.alpha)*(k/h)**self.alpha)/(self.theta*(1+self.tauc))\n",
                "    \n",
                "    #given paths for capital and hours worked, returns path of output per units \n",
                "    #of effective labour\n",
                "    def gen_output_path(self, k, h):\n",
                "        return k**(self.alpha)*h**(1-self.alpha)\n",
                "    \n",
                "    #given path for capital, returns path of investment per units of effective \n",
                "    #labour. Last period investment \n",
                "    #is set to steady state value\n",
                "    def gen_investment_path(self, k):\n",
                "        i = k[1:len(k)]*(1+self.eta)*(1+self.gamma) - (1-self.delta)*k[0:len(k)-1] \n",
                "        i_ss = self.iss\n",
                "        i = np.concatenate((i,[i_ss]))\n",
                "        return i\n",
                "    \n",
                "    #given path for capital and hours worked, returns path of government \n",
                "    #spending per units of effective labour. \n",
                "    def gen_government_path(self, k_path, h_path):\n",
                "        return self.tauc*self.gen_consumption_path(k_path, h_path) + self.tauh*(1-self.alpha)*self.gen_output_path(k_path, h_path) \\\n",
                "        + self.tauk*self.alpha*self.gen_output_path(k_path, h_path)\n",
                "    \n",
                "    #solves model for T periods, where T+1 is steady state and t=0 is staring period\n",
                "    #initial guess for k is a linear interpolation from k_0 to k_{steady\\_state}\n",
                "    #initial guess for h is constant at steady state\n",
                "    #returns paths of the following variables, in the following order: h, k, c, y, i\n",
                "    def solve_dyn(self, k0, T) -> None:\n",
                "        self.solve_ss()\n",
                "        # k_ss = self.kss\n",
                "        # h_ss = self.hss\n",
                "        self.k0 = k0\n",
                "        # self.h0 = self.hss\n",
                "        guess_k = np.linspace(self.k0, self.kss, T+2)[1:-1] # Only the middle T guesses\n",
                "        guess_h = np.repeat(self.hss, T+2)\n",
                "        guess = np.concatenate((guess_k, guess_h))\n",
                "        \n",
                "        self.dyn = root(self.obj_fun, guess, method = 'hybr')\n",
                "        \n",
                "        k_path = np.concatenate(([self.k0], self.dyn.x[0:T], [self.kss]))\n",
                "        h_path = self.dyn.x[T:]\n",
                "        c_path = self.gen_consumption_path(k_path, h_path)\n",
                "        y_path = self.gen_output_path(k_path, h_path)\n",
                "        i_path = self.gen_investment_path(k_path)\n",
                "        g_path = self.gen_government_path(k_path, h_path)\n",
                "        # return [h_path,k_path,c_path, y_path, i_path, g_path]\n",
                "        self.dyn.paths = {'kt': k_path, 'ht': h_path, 'ct': c_path, 'yt': y_path, 'it': i_path, 'gt': g_path}\n",
                "    \n",
                "    def get_dyn(self):\n",
                "        return self.dyn.paths"
            ],
            "outputs": [],
            "metadata": {}
        },
        {
            "cell_type": "code",
            "execution_count": 72,
            "source": [
                "# Parameters\n",
                "param = {'alpha': 0.4, 'beta': 0.98, 'gamma': 0.015, 'delta': 0.08, 'theta': 2, 'eta': 0, 'tauc': 0.15, 'tauh': 0.25, 'tauk': 0.15}\n",
                "econ2 = growth2(**param)\n",
                "econ2.solve_ss()\n",
                "kss = econ2.get_ss()['kss']\n",
                "econ2.solve_dyn(0.8*kss, 50)\n",
                "paths = econ2.get_dyn()"
            ],
            "outputs": [],
            "metadata": {}
        },
        {
            "cell_type": "code",
            "execution_count": 48,
            "source": [
                "fig, ax = plt.subplots(nrows=2, ncols=2, sharex=True, figsize=(10, 10))\n",
                "ax[0,0].plot(paths['ct'])\n",
                "ax[0,0].set_title('$c_t$')\n",
                "ax[0,1].plot(paths['it'])\n",
                "ax[0,1].set_title('$i_t$')\n",
                "ax[1,0].plot(paths['ht'])\n",
                "ax[1,0].set_title('$h_t$')\n",
                "ax[1,1].plot(paths['yt'])\n",
                "ax[1,1].set_title('$y_t$')"
            ],
            "outputs": [
                {
                    "output_type": "execute_result",
                    "data": {
                        "text/plain": [
                            "Text(0.5, 1.0, '$y_t$')"
                        ]
                    },
                    "metadata": {},
                    "execution_count": 48
                },
                {
                    "output_type": "display_data",
                    "data": {
                        "text/plain": [
                            "<Figure size 720x720 with 4 Axes>"
                        ],
                        "image/svg+xml": "<?xml version=\"1.0\" encoding=\"utf-8\" standalone=\"no\"?>\n<!DOCTYPE svg PUBLIC \"-//W3C//DTD SVG 1.1//EN\"\n  \"http://www.w3.org/Graphics/SVG/1.1/DTD/svg11.dtd\">\n<svg height=\"589.79625pt\" version=\"1.1\" viewBox=\"0 0 608.028125 589.79625\" width=\"608.028125pt\" xmlns=\"http://www.w3.org/2000/svg\" xmlns:xlink=\"http://www.w3.org/1999/xlink\">\n <metadata>\n  <rdf:RDF xmlns:cc=\"http://creativecommons.org/ns#\" xmlns:dc=\"http://purl.org/dc/elements/1.1/\" xmlns:rdf=\"http://www.w3.org/1999/02/22-rdf-syntax-ns#\">\n   <cc:Work>\n    <dc:type rdf:resource=\"http://purl.org/dc/dcmitype/StillImage\"/>\n    <dc:date>2021-08-25T18:14:52.504246</dc:date>\n    <dc:format>image/svg+xml</dc:format>\n    <dc:creator>\n     <cc:Agent>\n      <dc:title>Matplotlib v3.4.2, https://matplotlib.org/</dc:title>\n     </cc:Agent>\n    </dc:creator>\n   </cc:Work>\n  </rdf:RDF>\n </metadata>\n <defs>\n  <style type=\"text/css\">*{stroke-linecap:butt;stroke-linejoin:round;}</style>\n </defs>\n <g id=\"figure_1\">\n  <g id=\"patch_1\">\n   <path d=\"M 0 589.79625 \nL 608.028125 589.79625 \nL 608.028125 0 \nL 0 0 \nz\n\" style=\"fill:none;\"/>\n  </g>\n  <g id=\"axes_1\">\n   <g id=\"patch_2\">\n    <path d=\"M 42.828125 269.409034 \nL 296.464489 269.409034 \nL 296.464489 22.318125 \nL 42.828125 22.318125 \nz\n\" style=\"fill:#ffffff;\"/>\n   </g>\n   <g id=\"matplotlib.axis_1\">\n    <g id=\"xtick_1\">\n     <g id=\"line2d_1\">\n      <defs>\n       <path d=\"M 0 0 \nL 0 3.5 \n\" id=\"me0a39c9ecf\" style=\"stroke:#000000;stroke-width:0.8;\"/>\n      </defs>\n      <g>\n       <use style=\"stroke:#000000;stroke-width:0.8;\" x=\"54.357051\" xlink:href=\"#me0a39c9ecf\" y=\"269.409034\"/>\n      </g>\n     </g>\n    </g>\n    <g id=\"xtick_2\">\n     <g id=\"line2d_2\">\n      <g>\n       <use style=\"stroke:#000000;stroke-width:0.8;\" x=\"99.568524\" xlink:href=\"#me0a39c9ecf\" y=\"269.409034\"/>\n      </g>\n     </g>\n    </g>\n    <g id=\"xtick_3\">\n     <g id=\"line2d_3\">\n      <g>\n       <use style=\"stroke:#000000;stroke-width:0.8;\" x=\"144.779997\" xlink:href=\"#me0a39c9ecf\" y=\"269.409034\"/>\n      </g>\n     </g>\n    </g>\n    <g id=\"xtick_4\">\n     <g id=\"line2d_4\">\n      <g>\n       <use style=\"stroke:#000000;stroke-width:0.8;\" x=\"189.99147\" xlink:href=\"#me0a39c9ecf\" y=\"269.409034\"/>\n      </g>\n     </g>\n    </g>\n    <g id=\"xtick_5\">\n     <g id=\"line2d_5\">\n      <g>\n       <use style=\"stroke:#000000;stroke-width:0.8;\" x=\"235.202943\" xlink:href=\"#me0a39c9ecf\" y=\"269.409034\"/>\n      </g>\n     </g>\n    </g>\n    <g id=\"xtick_6\">\n     <g id=\"line2d_6\">\n      <g>\n       <use style=\"stroke:#000000;stroke-width:0.8;\" x=\"280.414416\" xlink:href=\"#me0a39c9ecf\" y=\"269.409034\"/>\n      </g>\n     </g>\n    </g>\n   </g>\n   <g id=\"matplotlib.axis_2\">\n    <g id=\"ytick_1\">\n     <g id=\"line2d_7\">\n      <defs>\n       <path d=\"M 0 0 \nL -3.5 0 \n\" id=\"m13e0a02be8\" style=\"stroke:#000000;stroke-width:0.8;\"/>\n      </defs>\n      <g>\n       <use style=\"stroke:#000000;stroke-width:0.8;\" x=\"42.828125\" xlink:href=\"#m13e0a02be8\" y=\"257.472874\"/>\n      </g>\n     </g>\n     <g id=\"text_1\">\n      <!-- 0.245 -->\n      <g transform=\"translate(7.2 261.272093)scale(0.1 -0.1)\">\n       <defs>\n        <path d=\"M 2034 4250 \nQ 1547 4250 1301 3770 \nQ 1056 3291 1056 2328 \nQ 1056 1369 1301 889 \nQ 1547 409 2034 409 \nQ 2525 409 2770 889 \nQ 3016 1369 3016 2328 \nQ 3016 3291 2770 3770 \nQ 2525 4250 2034 4250 \nz\nM 2034 4750 \nQ 2819 4750 3233 4129 \nQ 3647 3509 3647 2328 \nQ 3647 1150 3233 529 \nQ 2819 -91 2034 -91 \nQ 1250 -91 836 529 \nQ 422 1150 422 2328 \nQ 422 3509 836 4129 \nQ 1250 4750 2034 4750 \nz\n\" id=\"DejaVuSans-30\" transform=\"scale(0.015625)\"/>\n        <path d=\"M 684 794 \nL 1344 794 \nL 1344 0 \nL 684 0 \nL 684 794 \nz\n\" id=\"DejaVuSans-2e\" transform=\"scale(0.015625)\"/>\n        <path d=\"M 1228 531 \nL 3431 531 \nL 3431 0 \nL 469 0 \nL 469 531 \nQ 828 903 1448 1529 \nQ 2069 2156 2228 2338 \nQ 2531 2678 2651 2914 \nQ 2772 3150 2772 3378 \nQ 2772 3750 2511 3984 \nQ 2250 4219 1831 4219 \nQ 1534 4219 1204 4116 \nQ 875 4013 500 3803 \nL 500 4441 \nQ 881 4594 1212 4672 \nQ 1544 4750 1819 4750 \nQ 2544 4750 2975 4387 \nQ 3406 4025 3406 3419 \nQ 3406 3131 3298 2873 \nQ 3191 2616 2906 2266 \nQ 2828 2175 2409 1742 \nQ 1991 1309 1228 531 \nz\n\" id=\"DejaVuSans-32\" transform=\"scale(0.015625)\"/>\n        <path d=\"M 2419 4116 \nL 825 1625 \nL 2419 1625 \nL 2419 4116 \nz\nM 2253 4666 \nL 3047 4666 \nL 3047 1625 \nL 3713 1625 \nL 3713 1100 \nL 3047 1100 \nL 3047 0 \nL 2419 0 \nL 2419 1100 \nL 313 1100 \nL 313 1709 \nL 2253 4666 \nz\n\" id=\"DejaVuSans-34\" transform=\"scale(0.015625)\"/>\n        <path d=\"M 691 4666 \nL 3169 4666 \nL 3169 4134 \nL 1269 4134 \nL 1269 2991 \nQ 1406 3038 1543 3061 \nQ 1681 3084 1819 3084 \nQ 2600 3084 3056 2656 \nQ 3513 2228 3513 1497 \nQ 3513 744 3044 326 \nQ 2575 -91 1722 -91 \nQ 1428 -91 1123 -41 \nQ 819 9 494 109 \nL 494 744 \nQ 775 591 1075 516 \nQ 1375 441 1709 441 \nQ 2250 441 2565 725 \nQ 2881 1009 2881 1497 \nQ 2881 1984 2565 2268 \nQ 2250 2553 1709 2553 \nQ 1456 2553 1204 2497 \nQ 953 2441 691 2322 \nL 691 4666 \nz\n\" id=\"DejaVuSans-35\" transform=\"scale(0.015625)\"/>\n       </defs>\n       <use xlink:href=\"#DejaVuSans-30\"/>\n       <use x=\"63.623047\" xlink:href=\"#DejaVuSans-2e\"/>\n       <use x=\"95.410156\" xlink:href=\"#DejaVuSans-32\"/>\n       <use x=\"159.033203\" xlink:href=\"#DejaVuSans-34\"/>\n       <use x=\"222.65625\" xlink:href=\"#DejaVuSans-35\"/>\n      </g>\n     </g>\n    </g>\n    <g id=\"ytick_2\">\n     <g id=\"line2d_8\">\n      <g>\n       <use style=\"stroke:#000000;stroke-width:0.8;\" x=\"42.828125\" xlink:href=\"#m13e0a02be8\" y=\"224.14278\"/>\n      </g>\n     </g>\n     <g id=\"text_2\">\n      <!-- 0.250 -->\n      <g transform=\"translate(7.2 227.941999)scale(0.1 -0.1)\">\n       <use xlink:href=\"#DejaVuSans-30\"/>\n       <use x=\"63.623047\" xlink:href=\"#DejaVuSans-2e\"/>\n       <use x=\"95.410156\" xlink:href=\"#DejaVuSans-32\"/>\n       <use x=\"159.033203\" xlink:href=\"#DejaVuSans-35\"/>\n       <use x=\"222.65625\" xlink:href=\"#DejaVuSans-30\"/>\n      </g>\n     </g>\n    </g>\n    <g id=\"ytick_3\">\n     <g id=\"line2d_9\">\n      <g>\n       <use style=\"stroke:#000000;stroke-width:0.8;\" x=\"42.828125\" xlink:href=\"#m13e0a02be8\" y=\"190.812686\"/>\n      </g>\n     </g>\n     <g id=\"text_3\">\n      <!-- 0.255 -->\n      <g transform=\"translate(7.2 194.611905)scale(0.1 -0.1)\">\n       <use xlink:href=\"#DejaVuSans-30\"/>\n       <use x=\"63.623047\" xlink:href=\"#DejaVuSans-2e\"/>\n       <use x=\"95.410156\" xlink:href=\"#DejaVuSans-32\"/>\n       <use x=\"159.033203\" xlink:href=\"#DejaVuSans-35\"/>\n       <use x=\"222.65625\" xlink:href=\"#DejaVuSans-35\"/>\n      </g>\n     </g>\n    </g>\n    <g id=\"ytick_4\">\n     <g id=\"line2d_10\">\n      <g>\n       <use style=\"stroke:#000000;stroke-width:0.8;\" x=\"42.828125\" xlink:href=\"#m13e0a02be8\" y=\"157.482592\"/>\n      </g>\n     </g>\n     <g id=\"text_4\">\n      <!-- 0.260 -->\n      <g transform=\"translate(7.2 161.281811)scale(0.1 -0.1)\">\n       <defs>\n        <path d=\"M 2113 2584 \nQ 1688 2584 1439 2293 \nQ 1191 2003 1191 1497 \nQ 1191 994 1439 701 \nQ 1688 409 2113 409 \nQ 2538 409 2786 701 \nQ 3034 994 3034 1497 \nQ 3034 2003 2786 2293 \nQ 2538 2584 2113 2584 \nz\nM 3366 4563 \nL 3366 3988 \nQ 3128 4100 2886 4159 \nQ 2644 4219 2406 4219 \nQ 1781 4219 1451 3797 \nQ 1122 3375 1075 2522 \nQ 1259 2794 1537 2939 \nQ 1816 3084 2150 3084 \nQ 2853 3084 3261 2657 \nQ 3669 2231 3669 1497 \nQ 3669 778 3244 343 \nQ 2819 -91 2113 -91 \nQ 1303 -91 875 529 \nQ 447 1150 447 2328 \nQ 447 3434 972 4092 \nQ 1497 4750 2381 4750 \nQ 2619 4750 2861 4703 \nQ 3103 4656 3366 4563 \nz\n\" id=\"DejaVuSans-36\" transform=\"scale(0.015625)\"/>\n       </defs>\n       <use xlink:href=\"#DejaVuSans-30\"/>\n       <use x=\"63.623047\" xlink:href=\"#DejaVuSans-2e\"/>\n       <use x=\"95.410156\" xlink:href=\"#DejaVuSans-32\"/>\n       <use x=\"159.033203\" xlink:href=\"#DejaVuSans-36\"/>\n       <use x=\"222.65625\" xlink:href=\"#DejaVuSans-30\"/>\n      </g>\n     </g>\n    </g>\n    <g id=\"ytick_5\">\n     <g id=\"line2d_11\">\n      <g>\n       <use style=\"stroke:#000000;stroke-width:0.8;\" x=\"42.828125\" xlink:href=\"#m13e0a02be8\" y=\"124.152498\"/>\n      </g>\n     </g>\n     <g id=\"text_5\">\n      <!-- 0.265 -->\n      <g transform=\"translate(7.2 127.951717)scale(0.1 -0.1)\">\n       <use xlink:href=\"#DejaVuSans-30\"/>\n       <use x=\"63.623047\" xlink:href=\"#DejaVuSans-2e\"/>\n       <use x=\"95.410156\" xlink:href=\"#DejaVuSans-32\"/>\n       <use x=\"159.033203\" xlink:href=\"#DejaVuSans-36\"/>\n       <use x=\"222.65625\" xlink:href=\"#DejaVuSans-35\"/>\n      </g>\n     </g>\n    </g>\n    <g id=\"ytick_6\">\n     <g id=\"line2d_12\">\n      <g>\n       <use style=\"stroke:#000000;stroke-width:0.8;\" x=\"42.828125\" xlink:href=\"#m13e0a02be8\" y=\"90.822404\"/>\n      </g>\n     </g>\n     <g id=\"text_6\">\n      <!-- 0.270 -->\n      <g transform=\"translate(7.2 94.621623)scale(0.1 -0.1)\">\n       <defs>\n        <path d=\"M 525 4666 \nL 3525 4666 \nL 3525 4397 \nL 1831 0 \nL 1172 0 \nL 2766 4134 \nL 525 4134 \nL 525 4666 \nz\n\" id=\"DejaVuSans-37\" transform=\"scale(0.015625)\"/>\n       </defs>\n       <use xlink:href=\"#DejaVuSans-30\"/>\n       <use x=\"63.623047\" xlink:href=\"#DejaVuSans-2e\"/>\n       <use x=\"95.410156\" xlink:href=\"#DejaVuSans-32\"/>\n       <use x=\"159.033203\" xlink:href=\"#DejaVuSans-37\"/>\n       <use x=\"222.65625\" xlink:href=\"#DejaVuSans-30\"/>\n      </g>\n     </g>\n    </g>\n    <g id=\"ytick_7\">\n     <g id=\"line2d_13\">\n      <g>\n       <use style=\"stroke:#000000;stroke-width:0.8;\" x=\"42.828125\" xlink:href=\"#m13e0a02be8\" y=\"57.49231\"/>\n      </g>\n     </g>\n     <g id=\"text_7\">\n      <!-- 0.275 -->\n      <g transform=\"translate(7.2 61.291529)scale(0.1 -0.1)\">\n       <use xlink:href=\"#DejaVuSans-30\"/>\n       <use x=\"63.623047\" xlink:href=\"#DejaVuSans-2e\"/>\n       <use x=\"95.410156\" xlink:href=\"#DejaVuSans-32\"/>\n       <use x=\"159.033203\" xlink:href=\"#DejaVuSans-37\"/>\n       <use x=\"222.65625\" xlink:href=\"#DejaVuSans-35\"/>\n      </g>\n     </g>\n    </g>\n    <g id=\"ytick_8\">\n     <g id=\"line2d_14\">\n      <g>\n       <use style=\"stroke:#000000;stroke-width:0.8;\" x=\"42.828125\" xlink:href=\"#m13e0a02be8\" y=\"24.162216\"/>\n      </g>\n     </g>\n     <g id=\"text_8\">\n      <!-- 0.280 -->\n      <g transform=\"translate(7.2 27.961435)scale(0.1 -0.1)\">\n       <defs>\n        <path d=\"M 2034 2216 \nQ 1584 2216 1326 1975 \nQ 1069 1734 1069 1313 \nQ 1069 891 1326 650 \nQ 1584 409 2034 409 \nQ 2484 409 2743 651 \nQ 3003 894 3003 1313 \nQ 3003 1734 2745 1975 \nQ 2488 2216 2034 2216 \nz\nM 1403 2484 \nQ 997 2584 770 2862 \nQ 544 3141 544 3541 \nQ 544 4100 942 4425 \nQ 1341 4750 2034 4750 \nQ 2731 4750 3128 4425 \nQ 3525 4100 3525 3541 \nQ 3525 3141 3298 2862 \nQ 3072 2584 2669 2484 \nQ 3125 2378 3379 2068 \nQ 3634 1759 3634 1313 \nQ 3634 634 3220 271 \nQ 2806 -91 2034 -91 \nQ 1263 -91 848 271 \nQ 434 634 434 1313 \nQ 434 1759 690 2068 \nQ 947 2378 1403 2484 \nz\nM 1172 3481 \nQ 1172 3119 1398 2916 \nQ 1625 2713 2034 2713 \nQ 2441 2713 2670 2916 \nQ 2900 3119 2900 3481 \nQ 2900 3844 2670 4047 \nQ 2441 4250 2034 4250 \nQ 1625 4250 1398 4047 \nQ 1172 3844 1172 3481 \nz\n\" id=\"DejaVuSans-38\" transform=\"scale(0.015625)\"/>\n       </defs>\n       <use xlink:href=\"#DejaVuSans-30\"/>\n       <use x=\"63.623047\" xlink:href=\"#DejaVuSans-2e\"/>\n       <use x=\"95.410156\" xlink:href=\"#DejaVuSans-32\"/>\n       <use x=\"159.033203\" xlink:href=\"#DejaVuSans-38\"/>\n       <use x=\"222.65625\" xlink:href=\"#DejaVuSans-30\"/>\n      </g>\n     </g>\n    </g>\n   </g>\n   <g id=\"line2d_15\">\n    <path clip-path=\"url(#pbd2b9131d9)\" d=\"M 54.357051 258.177629 \nL 58.878198 230.59947 \nL 63.399345 206.397434 \nL 67.920493 185.159485 \nL 72.44164 166.523474 \nL 76.962787 150.171231 \nL 81.483934 135.823311 \nL 86.005082 123.23434 \nL 90.526229 112.188894 \nL 95.047376 102.497874 \nL 99.568524 93.995308 \nL 104.089671 86.53553 \nL 108.610818 79.990707 \nL 113.131966 74.248663 \nL 117.653113 69.210965 \nL 122.17426 64.791241 \nL 126.695407 60.913706 \nL 131.216555 57.511863 \nL 135.737702 54.527372 \nL 140.258849 51.909043 \nL 144.779997 49.611967 \nL 149.301144 47.59674 \nL 153.822291 45.828793 \nL 158.343439 44.277799 \nL 162.864586 42.91715 \nL 167.385733 41.723502 \nL 171.90688 40.676379 \nL 176.428028 39.757816 \nL 180.949175 38.952053 \nL 185.470322 38.245268 \nL 189.99147 37.625335 \nL 194.512617 37.081618 \nL 199.033764 36.604789 \nL 203.554912 36.18667 \nL 208.076059 35.820087 \nL 212.597206 35.498752 \nL 217.118353 35.217155 \nL 221.639501 34.970466 \nL 226.160648 34.754457 \nL 230.681795 34.565423 \nL 235.202943 34.400125 \nL 239.72409 34.255733 \nL 244.245237 34.129773 \nL 248.766385 34.020091 \nL 253.287532 33.924812 \nL 257.808679 33.842309 \nL 262.329827 33.771176 \nL 266.850974 33.710204 \nL 271.372121 33.658357 \nL 275.893268 33.614762 \nL 280.414416 33.578686 \nL 284.935563 33.54953 \n\" style=\"fill:none;stroke:#1f77b4;stroke-linecap:square;stroke-width:1.5;\"/>\n   </g>\n   <g id=\"patch_3\">\n    <path d=\"M 42.828125 269.409034 \nL 42.828125 22.318125 \n\" style=\"fill:none;stroke:#000000;stroke-linecap:square;stroke-linejoin:miter;stroke-width:0.8;\"/>\n   </g>\n   <g id=\"patch_4\">\n    <path d=\"M 296.464489 269.409034 \nL 296.464489 22.318125 \n\" style=\"fill:none;stroke:#000000;stroke-linecap:square;stroke-linejoin:miter;stroke-width:0.8;\"/>\n   </g>\n   <g id=\"patch_5\">\n    <path d=\"M 42.828125 269.409034 \nL 296.464489 269.409034 \n\" style=\"fill:none;stroke:#000000;stroke-linecap:square;stroke-linejoin:miter;stroke-width:0.8;\"/>\n   </g>\n   <g id=\"patch_6\">\n    <path d=\"M 42.828125 22.318125 \nL 296.464489 22.318125 \n\" style=\"fill:none;stroke:#000000;stroke-linecap:square;stroke-linejoin:miter;stroke-width:0.8;\"/>\n   </g>\n   <g id=\"text_9\">\n    <!-- $c_t$ -->\n    <g transform=\"translate(164.486307 16.318125)scale(0.12 -0.12)\">\n     <defs>\n      <path d=\"M 3431 3366 \nL 3316 2797 \nQ 3109 2947 2876 3022 \nQ 2644 3097 2394 3097 \nQ 2119 3097 1870 3000 \nQ 1622 2903 1453 2725 \nQ 1184 2453 1037 2087 \nQ 891 1722 891 1331 \nQ 891 859 1127 628 \nQ 1363 397 1844 397 \nQ 2081 397 2348 469 \nQ 2616 541 2906 684 \nL 2797 116 \nQ 2547 13 2283 -39 \nQ 2019 -91 1741 -91 \nQ 1044 -91 669 257 \nQ 294 606 294 1253 \nQ 294 1797 489 2255 \nQ 684 2713 1069 3078 \nQ 1331 3328 1684 3456 \nQ 2038 3584 2456 3584 \nQ 2700 3584 2940 3529 \nQ 3181 3475 3431 3366 \nz\n\" id=\"DejaVuSans-Oblique-63\" transform=\"scale(0.015625)\"/>\n      <path d=\"M 2706 3500 \nL 2619 3053 \nL 1472 3053 \nL 1100 1153 \nQ 1081 1047 1072 975 \nQ 1063 903 1063 863 \nQ 1063 663 1183 572 \nQ 1303 481 1569 481 \nL 2150 481 \nL 2053 0 \nL 1503 0 \nQ 991 0 739 200 \nQ 488 400 488 806 \nQ 488 878 497 964 \nQ 506 1050 525 1153 \nL 897 3053 \nL 409 3053 \nL 500 3500 \nL 978 3500 \nL 1172 4494 \nL 1747 4494 \nL 1556 3500 \nL 2706 3500 \nz\n\" id=\"DejaVuSans-Oblique-74\" transform=\"scale(0.015625)\"/>\n     </defs>\n     <use xlink:href=\"#DejaVuSans-Oblique-63\"/>\n     <use transform=\"translate(54.980469 -16.40625)scale(0.7)\" xlink:href=\"#DejaVuSans-Oblique-74\"/>\n    </g>\n   </g>\n  </g>\n  <g id=\"axes_2\">\n   <g id=\"patch_7\">\n    <path d=\"M 347.191761 269.409034 \nL 600.828125 269.409034 \nL 600.828125 22.318125 \nL 347.191761 22.318125 \nz\n\" style=\"fill:#ffffff;\"/>\n   </g>\n   <g id=\"matplotlib.axis_3\">\n    <g id=\"xtick_7\">\n     <g id=\"line2d_16\">\n      <g>\n       <use style=\"stroke:#000000;stroke-width:0.8;\" x=\"358.720687\" xlink:href=\"#me0a39c9ecf\" y=\"269.409034\"/>\n      </g>\n     </g>\n    </g>\n    <g id=\"xtick_8\">\n     <g id=\"line2d_17\">\n      <g>\n       <use style=\"stroke:#000000;stroke-width:0.8;\" x=\"403.93216\" xlink:href=\"#me0a39c9ecf\" y=\"269.409034\"/>\n      </g>\n     </g>\n    </g>\n    <g id=\"xtick_9\">\n     <g id=\"line2d_18\">\n      <g>\n       <use style=\"stroke:#000000;stroke-width:0.8;\" x=\"449.143633\" xlink:href=\"#me0a39c9ecf\" y=\"269.409034\"/>\n      </g>\n     </g>\n    </g>\n    <g id=\"xtick_10\">\n     <g id=\"line2d_19\">\n      <g>\n       <use style=\"stroke:#000000;stroke-width:0.8;\" x=\"494.355106\" xlink:href=\"#me0a39c9ecf\" y=\"269.409034\"/>\n      </g>\n     </g>\n    </g>\n    <g id=\"xtick_11\">\n     <g id=\"line2d_20\">\n      <g>\n       <use style=\"stroke:#000000;stroke-width:0.8;\" x=\"539.566579\" xlink:href=\"#me0a39c9ecf\" y=\"269.409034\"/>\n      </g>\n     </g>\n    </g>\n    <g id=\"xtick_12\">\n     <g id=\"line2d_21\">\n      <g>\n       <use style=\"stroke:#000000;stroke-width:0.8;\" x=\"584.778052\" xlink:href=\"#me0a39c9ecf\" y=\"269.409034\"/>\n      </g>\n     </g>\n    </g>\n   </g>\n   <g id=\"matplotlib.axis_4\">\n    <g id=\"ytick_9\">\n     <g id=\"line2d_22\">\n      <g>\n       <use style=\"stroke:#000000;stroke-width:0.8;\" x=\"347.191761\" xlink:href=\"#m13e0a02be8\" y=\"236.314489\"/>\n      </g>\n     </g>\n     <g id=\"text_10\">\n      <!-- 0.176 -->\n      <g transform=\"translate(311.563636 240.113708)scale(0.1 -0.1)\">\n       <defs>\n        <path d=\"M 794 531 \nL 1825 531 \nL 1825 4091 \nL 703 3866 \nL 703 4441 \nL 1819 4666 \nL 2450 4666 \nL 2450 531 \nL 3481 531 \nL 3481 0 \nL 794 0 \nL 794 531 \nz\n\" id=\"DejaVuSans-31\" transform=\"scale(0.015625)\"/>\n       </defs>\n       <use xlink:href=\"#DejaVuSans-30\"/>\n       <use x=\"63.623047\" xlink:href=\"#DejaVuSans-2e\"/>\n       <use x=\"95.410156\" xlink:href=\"#DejaVuSans-31\"/>\n       <use x=\"159.033203\" xlink:href=\"#DejaVuSans-37\"/>\n       <use x=\"222.65625\" xlink:href=\"#DejaVuSans-36\"/>\n      </g>\n     </g>\n    </g>\n    <g id=\"ytick_10\">\n     <g id=\"line2d_23\">\n      <g>\n       <use style=\"stroke:#000000;stroke-width:0.8;\" x=\"347.191761\" xlink:href=\"#m13e0a02be8\" y=\"188.256446\"/>\n      </g>\n     </g>\n     <g id=\"text_11\">\n      <!-- 0.178 -->\n      <g transform=\"translate(311.563636 192.055665)scale(0.1 -0.1)\">\n       <use xlink:href=\"#DejaVuSans-30\"/>\n       <use x=\"63.623047\" xlink:href=\"#DejaVuSans-2e\"/>\n       <use x=\"95.410156\" xlink:href=\"#DejaVuSans-31\"/>\n       <use x=\"159.033203\" xlink:href=\"#DejaVuSans-37\"/>\n       <use x=\"222.65625\" xlink:href=\"#DejaVuSans-38\"/>\n      </g>\n     </g>\n    </g>\n    <g id=\"ytick_11\">\n     <g id=\"line2d_24\">\n      <g>\n       <use style=\"stroke:#000000;stroke-width:0.8;\" x=\"347.191761\" xlink:href=\"#m13e0a02be8\" y=\"140.198403\"/>\n      </g>\n     </g>\n     <g id=\"text_12\">\n      <!-- 0.180 -->\n      <g transform=\"translate(311.563636 143.997622)scale(0.1 -0.1)\">\n       <use xlink:href=\"#DejaVuSans-30\"/>\n       <use x=\"63.623047\" xlink:href=\"#DejaVuSans-2e\"/>\n       <use x=\"95.410156\" xlink:href=\"#DejaVuSans-31\"/>\n       <use x=\"159.033203\" xlink:href=\"#DejaVuSans-38\"/>\n       <use x=\"222.65625\" xlink:href=\"#DejaVuSans-30\"/>\n      </g>\n     </g>\n    </g>\n    <g id=\"ytick_12\">\n     <g id=\"line2d_25\">\n      <g>\n       <use style=\"stroke:#000000;stroke-width:0.8;\" x=\"347.191761\" xlink:href=\"#m13e0a02be8\" y=\"92.14036\"/>\n      </g>\n     </g>\n     <g id=\"text_13\">\n      <!-- 0.182 -->\n      <g transform=\"translate(311.563636 95.939579)scale(0.1 -0.1)\">\n       <use xlink:href=\"#DejaVuSans-30\"/>\n       <use x=\"63.623047\" xlink:href=\"#DejaVuSans-2e\"/>\n       <use x=\"95.410156\" xlink:href=\"#DejaVuSans-31\"/>\n       <use x=\"159.033203\" xlink:href=\"#DejaVuSans-38\"/>\n       <use x=\"222.65625\" xlink:href=\"#DejaVuSans-32\"/>\n      </g>\n     </g>\n    </g>\n    <g id=\"ytick_13\">\n     <g id=\"line2d_26\">\n      <g>\n       <use style=\"stroke:#000000;stroke-width:0.8;\" x=\"347.191761\" xlink:href=\"#m13e0a02be8\" y=\"44.082317\"/>\n      </g>\n     </g>\n     <g id=\"text_14\">\n      <!-- 0.184 -->\n      <g transform=\"translate(311.563636 47.881536)scale(0.1 -0.1)\">\n       <use xlink:href=\"#DejaVuSans-30\"/>\n       <use x=\"63.623047\" xlink:href=\"#DejaVuSans-2e\"/>\n       <use x=\"95.410156\" xlink:href=\"#DejaVuSans-31\"/>\n       <use x=\"159.033203\" xlink:href=\"#DejaVuSans-38\"/>\n       <use x=\"222.65625\" xlink:href=\"#DejaVuSans-34\"/>\n      </g>\n     </g>\n    </g>\n   </g>\n   <g id=\"line2d_27\">\n    <path clip-path=\"url(#p0cc9ae1f03)\" d=\"M 358.720687 33.54953 \nL 363.241834 55.787474 \nL 367.762982 76.587336 \nL 372.284129 95.80635 \nL 376.805276 113.40032 \nL 381.326423 129.390238 \nL 385.847571 143.838822 \nL 390.368718 156.834092 \nL 394.889865 168.477942 \nL 399.411013 178.878279 \nL 403.93216 188.143709 \nL 408.453307 196.380033 \nL 412.974455 203.68803 \nL 417.495602 210.162146 \nL 422.016749 215.889819 \nL 426.537897 220.951241 \nL 431.059044 225.419414 \nL 435.580191 229.3604 \nL 440.101338 232.833691 \nL 444.622486 235.892646 \nL 449.143633 238.584966 \nL 453.66478 240.953171 \nL 458.185928 243.035069 \nL 462.707075 244.864207 \nL 467.228222 246.470294 \nL 471.74937 247.879595 \nL 476.270517 249.11529 \nL 480.791664 250.197805 \nL 485.312811 251.145109 \nL 489.833959 251.972978 \nL 494.355106 252.695239 \nL 498.876253 253.323981 \nL 503.397401 253.869743 \nL 507.918548 254.341678 \nL 512.439695 254.747701 \nL 516.960843 255.094617 \nL 521.48199 255.388223 \nL 526.003137 255.633409 \nL 530.524284 255.834231 \nL 535.045432 255.993977 \nL 539.566579 256.11522 \nL 544.087726 256.199856 \nL 548.608874 256.249135 \nL 553.130021 256.263671 \nL 557.651168 256.243458 \nL 562.172316 256.187854 \nL 566.693463 256.095572 \nL 571.21461 255.964646 \nL 575.735757 255.792393 \nL 580.256905 255.575357 \nL 584.778052 255.309241 \nL 589.299199 258.177629 \n\" style=\"fill:none;stroke:#1f77b4;stroke-linecap:square;stroke-width:1.5;\"/>\n   </g>\n   <g id=\"patch_8\">\n    <path d=\"M 347.191761 269.409034 \nL 347.191761 22.318125 \n\" style=\"fill:none;stroke:#000000;stroke-linecap:square;stroke-linejoin:miter;stroke-width:0.8;\"/>\n   </g>\n   <g id=\"patch_9\">\n    <path d=\"M 600.828125 269.409034 \nL 600.828125 22.318125 \n\" style=\"fill:none;stroke:#000000;stroke-linecap:square;stroke-linejoin:miter;stroke-width:0.8;\"/>\n   </g>\n   <g id=\"patch_10\">\n    <path d=\"M 347.191761 269.409034 \nL 600.828125 269.409034 \n\" style=\"fill:none;stroke:#000000;stroke-linecap:square;stroke-linejoin:miter;stroke-width:0.8;\"/>\n   </g>\n   <g id=\"patch_11\">\n    <path d=\"M 347.191761 22.318125 \nL 600.828125 22.318125 \n\" style=\"fill:none;stroke:#000000;stroke-linecap:square;stroke-linejoin:miter;stroke-width:0.8;\"/>\n   </g>\n   <g id=\"text_15\">\n    <!-- $i_t$ -->\n    <g transform=\"translate(470.529943 16.318125)scale(0.12 -0.12)\">\n     <defs>\n      <path d=\"M 1172 4863 \nL 1747 4863 \nL 1606 4134 \nL 1031 4134 \nL 1172 4863 \nz\nM 909 3500 \nL 1484 3500 \nL 800 0 \nL 225 0 \nL 909 3500 \nz\n\" id=\"DejaVuSans-Oblique-69\" transform=\"scale(0.015625)\"/>\n     </defs>\n     <use transform=\"translate(0 0.015625)\" xlink:href=\"#DejaVuSans-Oblique-69\"/>\n     <use transform=\"translate(27.783203 -16.390625)scale(0.7)\" xlink:href=\"#DejaVuSans-Oblique-74\"/>\n    </g>\n   </g>\n  </g>\n  <g id=\"axes_3\">\n   <g id=\"patch_12\">\n    <path d=\"M 42.828125 565.918125 \nL 296.464489 565.918125 \nL 296.464489 318.827216 \nL 42.828125 318.827216 \nz\n\" style=\"fill:#ffffff;\"/>\n   </g>\n   <g id=\"matplotlib.axis_5\">\n    <g id=\"xtick_13\">\n     <g id=\"line2d_28\">\n      <g>\n       <use style=\"stroke:#000000;stroke-width:0.8;\" x=\"54.357051\" xlink:href=\"#me0a39c9ecf\" y=\"565.918125\"/>\n      </g>\n     </g>\n     <g id=\"text_16\">\n      <!-- 0 -->\n      <g transform=\"translate(51.175801 580.516562)scale(0.1 -0.1)\">\n       <use xlink:href=\"#DejaVuSans-30\"/>\n      </g>\n     </g>\n    </g>\n    <g id=\"xtick_14\">\n     <g id=\"line2d_29\">\n      <g>\n       <use style=\"stroke:#000000;stroke-width:0.8;\" x=\"99.568524\" xlink:href=\"#me0a39c9ecf\" y=\"565.918125\"/>\n      </g>\n     </g>\n     <g id=\"text_17\">\n      <!-- 10 -->\n      <g transform=\"translate(93.206024 580.516562)scale(0.1 -0.1)\">\n       <use xlink:href=\"#DejaVuSans-31\"/>\n       <use x=\"63.623047\" xlink:href=\"#DejaVuSans-30\"/>\n      </g>\n     </g>\n    </g>\n    <g id=\"xtick_15\">\n     <g id=\"line2d_30\">\n      <g>\n       <use style=\"stroke:#000000;stroke-width:0.8;\" x=\"144.779997\" xlink:href=\"#me0a39c9ecf\" y=\"565.918125\"/>\n      </g>\n     </g>\n     <g id=\"text_18\">\n      <!-- 20 -->\n      <g transform=\"translate(138.417497 580.516562)scale(0.1 -0.1)\">\n       <use xlink:href=\"#DejaVuSans-32\"/>\n       <use x=\"63.623047\" xlink:href=\"#DejaVuSans-30\"/>\n      </g>\n     </g>\n    </g>\n    <g id=\"xtick_16\">\n     <g id=\"line2d_31\">\n      <g>\n       <use style=\"stroke:#000000;stroke-width:0.8;\" x=\"189.99147\" xlink:href=\"#me0a39c9ecf\" y=\"565.918125\"/>\n      </g>\n     </g>\n     <g id=\"text_19\">\n      <!-- 30 -->\n      <g transform=\"translate(183.62897 580.516562)scale(0.1 -0.1)\">\n       <defs>\n        <path d=\"M 2597 2516 \nQ 3050 2419 3304 2112 \nQ 3559 1806 3559 1356 \nQ 3559 666 3084 287 \nQ 2609 -91 1734 -91 \nQ 1441 -91 1130 -33 \nQ 819 25 488 141 \nL 488 750 \nQ 750 597 1062 519 \nQ 1375 441 1716 441 \nQ 2309 441 2620 675 \nQ 2931 909 2931 1356 \nQ 2931 1769 2642 2001 \nQ 2353 2234 1838 2234 \nL 1294 2234 \nL 1294 2753 \nL 1863 2753 \nQ 2328 2753 2575 2939 \nQ 2822 3125 2822 3475 \nQ 2822 3834 2567 4026 \nQ 2313 4219 1838 4219 \nQ 1578 4219 1281 4162 \nQ 984 4106 628 3988 \nL 628 4550 \nQ 988 4650 1302 4700 \nQ 1616 4750 1894 4750 \nQ 2613 4750 3031 4423 \nQ 3450 4097 3450 3541 \nQ 3450 3153 3228 2886 \nQ 3006 2619 2597 2516 \nz\n\" id=\"DejaVuSans-33\" transform=\"scale(0.015625)\"/>\n       </defs>\n       <use xlink:href=\"#DejaVuSans-33\"/>\n       <use x=\"63.623047\" xlink:href=\"#DejaVuSans-30\"/>\n      </g>\n     </g>\n    </g>\n    <g id=\"xtick_17\">\n     <g id=\"line2d_32\">\n      <g>\n       <use style=\"stroke:#000000;stroke-width:0.8;\" x=\"235.202943\" xlink:href=\"#me0a39c9ecf\" y=\"565.918125\"/>\n      </g>\n     </g>\n     <g id=\"text_20\">\n      <!-- 40 -->\n      <g transform=\"translate(228.840443 580.516562)scale(0.1 -0.1)\">\n       <use xlink:href=\"#DejaVuSans-34\"/>\n       <use x=\"63.623047\" xlink:href=\"#DejaVuSans-30\"/>\n      </g>\n     </g>\n    </g>\n    <g id=\"xtick_18\">\n     <g id=\"line2d_33\">\n      <g>\n       <use style=\"stroke:#000000;stroke-width:0.8;\" x=\"280.414416\" xlink:href=\"#me0a39c9ecf\" y=\"565.918125\"/>\n      </g>\n     </g>\n     <g id=\"text_21\">\n      <!-- 50 -->\n      <g transform=\"translate(274.051916 580.516562)scale(0.1 -0.1)\">\n       <use xlink:href=\"#DejaVuSans-35\"/>\n       <use x=\"63.623047\" xlink:href=\"#DejaVuSans-30\"/>\n      </g>\n     </g>\n    </g>\n   </g>\n   <g id=\"matplotlib.axis_6\">\n    <g id=\"ytick_14\">\n     <g id=\"line2d_34\">\n      <g>\n       <use style=\"stroke:#000000;stroke-width:0.8;\" x=\"42.828125\" xlink:href=\"#m13e0a02be8\" y=\"551.958616\"/>\n      </g>\n     </g>\n     <g id=\"text_22\">\n      <!-- 0.306 -->\n      <g transform=\"translate(7.2 555.757835)scale(0.1 -0.1)\">\n       <use xlink:href=\"#DejaVuSans-30\"/>\n       <use x=\"63.623047\" xlink:href=\"#DejaVuSans-2e\"/>\n       <use x=\"95.410156\" xlink:href=\"#DejaVuSans-33\"/>\n       <use x=\"159.033203\" xlink:href=\"#DejaVuSans-30\"/>\n       <use x=\"222.65625\" xlink:href=\"#DejaVuSans-36\"/>\n      </g>\n     </g>\n    </g>\n    <g id=\"ytick_15\">\n     <g id=\"line2d_35\">\n      <g>\n       <use style=\"stroke:#000000;stroke-width:0.8;\" x=\"42.828125\" xlink:href=\"#m13e0a02be8\" y=\"521.018458\"/>\n      </g>\n     </g>\n     <g id=\"text_23\">\n      <!-- 0.308 -->\n      <g transform=\"translate(7.2 524.817677)scale(0.1 -0.1)\">\n       <use xlink:href=\"#DejaVuSans-30\"/>\n       <use x=\"63.623047\" xlink:href=\"#DejaVuSans-2e\"/>\n       <use x=\"95.410156\" xlink:href=\"#DejaVuSans-33\"/>\n       <use x=\"159.033203\" xlink:href=\"#DejaVuSans-30\"/>\n       <use x=\"222.65625\" xlink:href=\"#DejaVuSans-38\"/>\n      </g>\n     </g>\n    </g>\n    <g id=\"ytick_16\">\n     <g id=\"line2d_36\">\n      <g>\n       <use style=\"stroke:#000000;stroke-width:0.8;\" x=\"42.828125\" xlink:href=\"#m13e0a02be8\" y=\"490.0783\"/>\n      </g>\n     </g>\n     <g id=\"text_24\">\n      <!-- 0.310 -->\n      <g transform=\"translate(7.2 493.877519)scale(0.1 -0.1)\">\n       <use xlink:href=\"#DejaVuSans-30\"/>\n       <use x=\"63.623047\" xlink:href=\"#DejaVuSans-2e\"/>\n       <use x=\"95.410156\" xlink:href=\"#DejaVuSans-33\"/>\n       <use x=\"159.033203\" xlink:href=\"#DejaVuSans-31\"/>\n       <use x=\"222.65625\" xlink:href=\"#DejaVuSans-30\"/>\n      </g>\n     </g>\n    </g>\n    <g id=\"ytick_17\">\n     <g id=\"line2d_37\">\n      <g>\n       <use style=\"stroke:#000000;stroke-width:0.8;\" x=\"42.828125\" xlink:href=\"#m13e0a02be8\" y=\"459.138143\"/>\n      </g>\n     </g>\n     <g id=\"text_25\">\n      <!-- 0.312 -->\n      <g transform=\"translate(7.2 462.937361)scale(0.1 -0.1)\">\n       <use xlink:href=\"#DejaVuSans-30\"/>\n       <use x=\"63.623047\" xlink:href=\"#DejaVuSans-2e\"/>\n       <use x=\"95.410156\" xlink:href=\"#DejaVuSans-33\"/>\n       <use x=\"159.033203\" xlink:href=\"#DejaVuSans-31\"/>\n       <use x=\"222.65625\" xlink:href=\"#DejaVuSans-32\"/>\n      </g>\n     </g>\n    </g>\n    <g id=\"ytick_18\">\n     <g id=\"line2d_38\">\n      <g>\n       <use style=\"stroke:#000000;stroke-width:0.8;\" x=\"42.828125\" xlink:href=\"#m13e0a02be8\" y=\"428.197985\"/>\n      </g>\n     </g>\n     <g id=\"text_26\">\n      <!-- 0.314 -->\n      <g transform=\"translate(7.2 431.997204)scale(0.1 -0.1)\">\n       <use xlink:href=\"#DejaVuSans-30\"/>\n       <use x=\"63.623047\" xlink:href=\"#DejaVuSans-2e\"/>\n       <use x=\"95.410156\" xlink:href=\"#DejaVuSans-33\"/>\n       <use x=\"159.033203\" xlink:href=\"#DejaVuSans-31\"/>\n       <use x=\"222.65625\" xlink:href=\"#DejaVuSans-34\"/>\n      </g>\n     </g>\n    </g>\n    <g id=\"ytick_19\">\n     <g id=\"line2d_39\">\n      <g>\n       <use style=\"stroke:#000000;stroke-width:0.8;\" x=\"42.828125\" xlink:href=\"#m13e0a02be8\" y=\"397.257827\"/>\n      </g>\n     </g>\n     <g id=\"text_27\">\n      <!-- 0.316 -->\n      <g transform=\"translate(7.2 401.057046)scale(0.1 -0.1)\">\n       <use xlink:href=\"#DejaVuSans-30\"/>\n       <use x=\"63.623047\" xlink:href=\"#DejaVuSans-2e\"/>\n       <use x=\"95.410156\" xlink:href=\"#DejaVuSans-33\"/>\n       <use x=\"159.033203\" xlink:href=\"#DejaVuSans-31\"/>\n       <use x=\"222.65625\" xlink:href=\"#DejaVuSans-36\"/>\n      </g>\n     </g>\n    </g>\n    <g id=\"ytick_20\">\n     <g id=\"line2d_40\">\n      <g>\n       <use style=\"stroke:#000000;stroke-width:0.8;\" x=\"42.828125\" xlink:href=\"#m13e0a02be8\" y=\"366.317669\"/>\n      </g>\n     </g>\n     <g id=\"text_28\">\n      <!-- 0.318 -->\n      <g transform=\"translate(7.2 370.116888)scale(0.1 -0.1)\">\n       <use xlink:href=\"#DejaVuSans-30\"/>\n       <use x=\"63.623047\" xlink:href=\"#DejaVuSans-2e\"/>\n       <use x=\"95.410156\" xlink:href=\"#DejaVuSans-33\"/>\n       <use x=\"159.033203\" xlink:href=\"#DejaVuSans-31\"/>\n       <use x=\"222.65625\" xlink:href=\"#DejaVuSans-38\"/>\n      </g>\n     </g>\n    </g>\n    <g id=\"ytick_21\">\n     <g id=\"line2d_41\">\n      <g>\n       <use style=\"stroke:#000000;stroke-width:0.8;\" x=\"42.828125\" xlink:href=\"#m13e0a02be8\" y=\"335.377511\"/>\n      </g>\n     </g>\n     <g id=\"text_29\">\n      <!-- 0.320 -->\n      <g transform=\"translate(7.2 339.17673)scale(0.1 -0.1)\">\n       <use xlink:href=\"#DejaVuSans-30\"/>\n       <use x=\"63.623047\" xlink:href=\"#DejaVuSans-2e\"/>\n       <use x=\"95.410156\" xlink:href=\"#DejaVuSans-33\"/>\n       <use x=\"159.033203\" xlink:href=\"#DejaVuSans-32\"/>\n       <use x=\"222.65625\" xlink:href=\"#DejaVuSans-30\"/>\n      </g>\n     </g>\n    </g>\n   </g>\n   <g id=\"line2d_42\">\n    <path clip-path=\"url(#paad06d2661)\" d=\"M 54.357051 330.058621 \nL 58.878198 358.857846 \nL 63.399345 383.857128 \nL 67.920493 405.586519 \nL 72.44164 424.495542 \nL 76.962787 440.966895 \nL 81.483934 455.327509 \nL 86.005082 467.85754 \nL 90.526229 478.797722 \nL 95.047376 488.355419 \nL 99.568524 496.70964 \nL 104.089671 504.015215 \nL 108.610818 510.406282 \nL 113.131966 515.999235 \nL 117.653113 520.895198 \nL 122.17426 525.182132 \nL 126.695407 528.936627 \nL 131.216555 532.225432 \nL 135.737702 535.106765 \nL 140.258849 537.631435 \nL 144.779997 539.843814 \nL 149.301144 541.782671 \nL 153.822291 543.481894 \nL 158.343439 544.971113 \nL 162.864586 546.276245 \nL 167.385733 547.419963 \nL 171.90688 548.422102 \nL 176.428028 549.300018 \nL 180.949175 550.068897 \nL 185.470322 550.74202 \nL 189.99147 551.331004 \nL 194.512617 551.846002 \nL 199.033764 552.29588 \nL 203.554912 552.688378 \nL 208.076059 553.030239 \nL 212.597206 553.327328 \nL 217.118353 553.584734 \nL 221.639501 553.806858 \nL 226.160648 553.997489 \nL 230.681795 554.15987 \nL 235.202943 554.296749 \nL 239.72409 554.410431 \nL 244.245237 554.502814 \nL 248.766385 554.575423 \nL 253.287532 554.629432 \nL 257.808679 554.665685 \nL 262.329827 554.684709 \nL 266.850974 554.68672 \nL 271.372121 554.671627 \nL 275.893268 554.639024 \nL 280.414416 554.588186 \nL 284.935563 554.518048 \n\" style=\"fill:none;stroke:#1f77b4;stroke-linecap:square;stroke-width:1.5;\"/>\n   </g>\n   <g id=\"patch_13\">\n    <path d=\"M 42.828125 565.918125 \nL 42.828125 318.827216 \n\" style=\"fill:none;stroke:#000000;stroke-linecap:square;stroke-linejoin:miter;stroke-width:0.8;\"/>\n   </g>\n   <g id=\"patch_14\">\n    <path d=\"M 296.464489 565.918125 \nL 296.464489 318.827216 \n\" style=\"fill:none;stroke:#000000;stroke-linecap:square;stroke-linejoin:miter;stroke-width:0.8;\"/>\n   </g>\n   <g id=\"patch_15\">\n    <path d=\"M 42.828125 565.918125 \nL 296.464489 565.918125 \n\" style=\"fill:none;stroke:#000000;stroke-linecap:square;stroke-linejoin:miter;stroke-width:0.8;\"/>\n   </g>\n   <g id=\"patch_16\">\n    <path d=\"M 42.828125 318.827216 \nL 296.464489 318.827216 \n\" style=\"fill:none;stroke:#000000;stroke-linecap:square;stroke-linejoin:miter;stroke-width:0.8;\"/>\n   </g>\n   <g id=\"text_30\">\n    <!-- $h_t$ -->\n    <g transform=\"translate(164.006307 312.827216)scale(0.12 -0.12)\">\n     <defs>\n      <path d=\"M 3566 2113 \nL 3156 0 \nL 2578 0 \nL 2988 2091 \nQ 3016 2238 3031 2350 \nQ 3047 2463 3047 2528 \nQ 3047 2791 2881 2937 \nQ 2716 3084 2419 3084 \nQ 1956 3084 1617 2771 \nQ 1278 2459 1178 1941 \nL 800 0 \nL 225 0 \nL 1172 4863 \nL 1747 4863 \nL 1375 2950 \nQ 1594 3244 1934 3414 \nQ 2275 3584 2650 3584 \nQ 3113 3584 3367 3334 \nQ 3622 3084 3622 2631 \nQ 3622 2519 3608 2391 \nQ 3594 2263 3566 2113 \nz\n\" id=\"DejaVuSans-Oblique-68\" transform=\"scale(0.015625)\"/>\n     </defs>\n     <use transform=\"translate(0 0.015625)\" xlink:href=\"#DejaVuSans-Oblique-68\"/>\n     <use transform=\"translate(63.378906 -16.390625)scale(0.7)\" xlink:href=\"#DejaVuSans-Oblique-74\"/>\n    </g>\n   </g>\n  </g>\n  <g id=\"axes_4\">\n   <g id=\"patch_17\">\n    <path d=\"M 347.191761 565.918125 \nL 600.828125 565.918125 \nL 600.828125 318.827216 \nL 347.191761 318.827216 \nz\n\" style=\"fill:#ffffff;\"/>\n   </g>\n   <g id=\"matplotlib.axis_7\">\n    <g id=\"xtick_19\">\n     <g id=\"line2d_43\">\n      <g>\n       <use style=\"stroke:#000000;stroke-width:0.8;\" x=\"358.720687\" xlink:href=\"#me0a39c9ecf\" y=\"565.918125\"/>\n      </g>\n     </g>\n     <g id=\"text_31\">\n      <!-- 0 -->\n      <g transform=\"translate(355.539437 580.516562)scale(0.1 -0.1)\">\n       <use xlink:href=\"#DejaVuSans-30\"/>\n      </g>\n     </g>\n    </g>\n    <g id=\"xtick_20\">\n     <g id=\"line2d_44\">\n      <g>\n       <use style=\"stroke:#000000;stroke-width:0.8;\" x=\"403.93216\" xlink:href=\"#me0a39c9ecf\" y=\"565.918125\"/>\n      </g>\n     </g>\n     <g id=\"text_32\">\n      <!-- 10 -->\n      <g transform=\"translate(397.56966 580.516562)scale(0.1 -0.1)\">\n       <use xlink:href=\"#DejaVuSans-31\"/>\n       <use x=\"63.623047\" xlink:href=\"#DejaVuSans-30\"/>\n      </g>\n     </g>\n    </g>\n    <g id=\"xtick_21\">\n     <g id=\"line2d_45\">\n      <g>\n       <use style=\"stroke:#000000;stroke-width:0.8;\" x=\"449.143633\" xlink:href=\"#me0a39c9ecf\" y=\"565.918125\"/>\n      </g>\n     </g>\n     <g id=\"text_33\">\n      <!-- 20 -->\n      <g transform=\"translate(442.781133 580.516562)scale(0.1 -0.1)\">\n       <use xlink:href=\"#DejaVuSans-32\"/>\n       <use x=\"63.623047\" xlink:href=\"#DejaVuSans-30\"/>\n      </g>\n     </g>\n    </g>\n    <g id=\"xtick_22\">\n     <g id=\"line2d_46\">\n      <g>\n       <use style=\"stroke:#000000;stroke-width:0.8;\" x=\"494.355106\" xlink:href=\"#me0a39c9ecf\" y=\"565.918125\"/>\n      </g>\n     </g>\n     <g id=\"text_34\">\n      <!-- 30 -->\n      <g transform=\"translate(487.992606 580.516562)scale(0.1 -0.1)\">\n       <use xlink:href=\"#DejaVuSans-33\"/>\n       <use x=\"63.623047\" xlink:href=\"#DejaVuSans-30\"/>\n      </g>\n     </g>\n    </g>\n    <g id=\"xtick_23\">\n     <g id=\"line2d_47\">\n      <g>\n       <use style=\"stroke:#000000;stroke-width:0.8;\" x=\"539.566579\" xlink:href=\"#me0a39c9ecf\" y=\"565.918125\"/>\n      </g>\n     </g>\n     <g id=\"text_35\">\n      <!-- 40 -->\n      <g transform=\"translate(533.204079 580.516562)scale(0.1 -0.1)\">\n       <use xlink:href=\"#DejaVuSans-34\"/>\n       <use x=\"63.623047\" xlink:href=\"#DejaVuSans-30\"/>\n      </g>\n     </g>\n    </g>\n    <g id=\"xtick_24\">\n     <g id=\"line2d_48\">\n      <g>\n       <use style=\"stroke:#000000;stroke-width:0.8;\" x=\"584.778052\" xlink:href=\"#me0a39c9ecf\" y=\"565.918125\"/>\n      </g>\n     </g>\n     <g id=\"text_36\">\n      <!-- 50 -->\n      <g transform=\"translate(578.415552 580.516562)scale(0.1 -0.1)\">\n       <use xlink:href=\"#DejaVuSans-35\"/>\n       <use x=\"63.623047\" xlink:href=\"#DejaVuSans-30\"/>\n      </g>\n     </g>\n    </g>\n   </g>\n   <g id=\"matplotlib.axis_8\">\n    <g id=\"ytick_22\">\n     <g id=\"line2d_49\">\n      <g>\n       <use style=\"stroke:#000000;stroke-width:0.8;\" x=\"347.191761\" xlink:href=\"#m13e0a02be8\" y=\"554.433882\"/>\n      </g>\n     </g>\n     <g id=\"text_37\">\n      <!-- 0.590 -->\n      <g transform=\"translate(311.563636 558.233101)scale(0.1 -0.1)\">\n       <defs>\n        <path d=\"M 703 97 \nL 703 672 \nQ 941 559 1184 500 \nQ 1428 441 1663 441 \nQ 2288 441 2617 861 \nQ 2947 1281 2994 2138 \nQ 2813 1869 2534 1725 \nQ 2256 1581 1919 1581 \nQ 1219 1581 811 2004 \nQ 403 2428 403 3163 \nQ 403 3881 828 4315 \nQ 1253 4750 1959 4750 \nQ 2769 4750 3195 4129 \nQ 3622 3509 3622 2328 \nQ 3622 1225 3098 567 \nQ 2575 -91 1691 -91 \nQ 1453 -91 1209 -44 \nQ 966 3 703 97 \nz\nM 1959 2075 \nQ 2384 2075 2632 2365 \nQ 2881 2656 2881 3163 \nQ 2881 3666 2632 3958 \nQ 2384 4250 1959 4250 \nQ 1534 4250 1286 3958 \nQ 1038 3666 1038 3163 \nQ 1038 2656 1286 2365 \nQ 1534 2075 1959 2075 \nz\n\" id=\"DejaVuSans-39\" transform=\"scale(0.015625)\"/>\n       </defs>\n       <use xlink:href=\"#DejaVuSans-30\"/>\n       <use x=\"63.623047\" xlink:href=\"#DejaVuSans-2e\"/>\n       <use x=\"95.410156\" xlink:href=\"#DejaVuSans-35\"/>\n       <use x=\"159.033203\" xlink:href=\"#DejaVuSans-39\"/>\n       <use x=\"222.65625\" xlink:href=\"#DejaVuSans-30\"/>\n      </g>\n     </g>\n    </g>\n    <g id=\"ytick_23\">\n     <g id=\"line2d_50\">\n      <g>\n       <use style=\"stroke:#000000;stroke-width:0.8;\" x=\"347.191761\" xlink:href=\"#m13e0a02be8\" y=\"524.39385\"/>\n      </g>\n     </g>\n     <g id=\"text_38\">\n      <!-- 0.595 -->\n      <g transform=\"translate(311.563636 528.193069)scale(0.1 -0.1)\">\n       <use xlink:href=\"#DejaVuSans-30\"/>\n       <use x=\"63.623047\" xlink:href=\"#DejaVuSans-2e\"/>\n       <use x=\"95.410156\" xlink:href=\"#DejaVuSans-35\"/>\n       <use x=\"159.033203\" xlink:href=\"#DejaVuSans-39\"/>\n       <use x=\"222.65625\" xlink:href=\"#DejaVuSans-35\"/>\n      </g>\n     </g>\n    </g>\n    <g id=\"ytick_24\">\n     <g id=\"line2d_51\">\n      <g>\n       <use style=\"stroke:#000000;stroke-width:0.8;\" x=\"347.191761\" xlink:href=\"#m13e0a02be8\" y=\"494.353818\"/>\n      </g>\n     </g>\n     <g id=\"text_39\">\n      <!-- 0.600 -->\n      <g transform=\"translate(311.563636 498.153037)scale(0.1 -0.1)\">\n       <use xlink:href=\"#DejaVuSans-30\"/>\n       <use x=\"63.623047\" xlink:href=\"#DejaVuSans-2e\"/>\n       <use x=\"95.410156\" xlink:href=\"#DejaVuSans-36\"/>\n       <use x=\"159.033203\" xlink:href=\"#DejaVuSans-30\"/>\n       <use x=\"222.65625\" xlink:href=\"#DejaVuSans-30\"/>\n      </g>\n     </g>\n    </g>\n    <g id=\"ytick_25\">\n     <g id=\"line2d_52\">\n      <g>\n       <use style=\"stroke:#000000;stroke-width:0.8;\" x=\"347.191761\" xlink:href=\"#m13e0a02be8\" y=\"464.313786\"/>\n      </g>\n     </g>\n     <g id=\"text_40\">\n      <!-- 0.605 -->\n      <g transform=\"translate(311.563636 468.113005)scale(0.1 -0.1)\">\n       <use xlink:href=\"#DejaVuSans-30\"/>\n       <use x=\"63.623047\" xlink:href=\"#DejaVuSans-2e\"/>\n       <use x=\"95.410156\" xlink:href=\"#DejaVuSans-36\"/>\n       <use x=\"159.033203\" xlink:href=\"#DejaVuSans-30\"/>\n       <use x=\"222.65625\" xlink:href=\"#DejaVuSans-35\"/>\n      </g>\n     </g>\n    </g>\n    <g id=\"ytick_26\">\n     <g id=\"line2d_53\">\n      <g>\n       <use style=\"stroke:#000000;stroke-width:0.8;\" x=\"347.191761\" xlink:href=\"#m13e0a02be8\" y=\"434.273754\"/>\n      </g>\n     </g>\n     <g id=\"text_41\">\n      <!-- 0.610 -->\n      <g transform=\"translate(311.563636 438.072973)scale(0.1 -0.1)\">\n       <use xlink:href=\"#DejaVuSans-30\"/>\n       <use x=\"63.623047\" xlink:href=\"#DejaVuSans-2e\"/>\n       <use x=\"95.410156\" xlink:href=\"#DejaVuSans-36\"/>\n       <use x=\"159.033203\" xlink:href=\"#DejaVuSans-31\"/>\n       <use x=\"222.65625\" xlink:href=\"#DejaVuSans-30\"/>\n      </g>\n     </g>\n    </g>\n    <g id=\"ytick_27\">\n     <g id=\"line2d_54\">\n      <g>\n       <use style=\"stroke:#000000;stroke-width:0.8;\" x=\"347.191761\" xlink:href=\"#m13e0a02be8\" y=\"404.233723\"/>\n      </g>\n     </g>\n     <g id=\"text_42\">\n      <!-- 0.615 -->\n      <g transform=\"translate(311.563636 408.032941)scale(0.1 -0.1)\">\n       <use xlink:href=\"#DejaVuSans-30\"/>\n       <use x=\"63.623047\" xlink:href=\"#DejaVuSans-2e\"/>\n       <use x=\"95.410156\" xlink:href=\"#DejaVuSans-36\"/>\n       <use x=\"159.033203\" xlink:href=\"#DejaVuSans-31\"/>\n       <use x=\"222.65625\" xlink:href=\"#DejaVuSans-35\"/>\n      </g>\n     </g>\n    </g>\n    <g id=\"ytick_28\">\n     <g id=\"line2d_55\">\n      <g>\n       <use style=\"stroke:#000000;stroke-width:0.8;\" x=\"347.191761\" xlink:href=\"#m13e0a02be8\" y=\"374.193691\"/>\n      </g>\n     </g>\n     <g id=\"text_43\">\n      <!-- 0.620 -->\n      <g transform=\"translate(311.563636 377.99291)scale(0.1 -0.1)\">\n       <use xlink:href=\"#DejaVuSans-30\"/>\n       <use x=\"63.623047\" xlink:href=\"#DejaVuSans-2e\"/>\n       <use x=\"95.410156\" xlink:href=\"#DejaVuSans-36\"/>\n       <use x=\"159.033203\" xlink:href=\"#DejaVuSans-32\"/>\n       <use x=\"222.65625\" xlink:href=\"#DejaVuSans-30\"/>\n      </g>\n     </g>\n    </g>\n    <g id=\"ytick_29\">\n     <g id=\"line2d_56\">\n      <g>\n       <use style=\"stroke:#000000;stroke-width:0.8;\" x=\"347.191761\" xlink:href=\"#m13e0a02be8\" y=\"344.153659\"/>\n      </g>\n     </g>\n     <g id=\"text_44\">\n      <!-- 0.625 -->\n      <g transform=\"translate(311.563636 347.952878)scale(0.1 -0.1)\">\n       <use xlink:href=\"#DejaVuSans-30\"/>\n       <use x=\"63.623047\" xlink:href=\"#DejaVuSans-2e\"/>\n       <use x=\"95.410156\" xlink:href=\"#DejaVuSans-36\"/>\n       <use x=\"159.033203\" xlink:href=\"#DejaVuSans-32\"/>\n       <use x=\"222.65625\" xlink:href=\"#DejaVuSans-35\"/>\n      </g>\n     </g>\n    </g>\n   </g>\n   <g id=\"line2d_57\">\n    <path clip-path=\"url(#pf9176db47c)\" d=\"M 358.720687 554.68672 \nL 363.241834 525.542315 \nL 367.762982 500.372246 \nL 372.284129 478.590735 \nL 376.805276 459.708653 \nL 381.326423 443.315205 \nL 385.847571 429.06361 \nL 390.368718 416.659792 \nL 394.889865 405.853364 \nL 399.411013 396.430382 \nL 403.93216 388.20746 \nL 408.453307 381.026971 \nL 412.974455 374.753095 \nL 417.495602 369.268548 \nL 422.016749 364.471858 \nL 426.537897 360.275086 \nL 431.059044 356.601906 \nL 435.580191 353.385984 \nL 440.101338 350.569604 \nL 444.622486 348.102496 \nL 449.143633 345.940833 \nL 453.66478 344.046376 \nL 458.185928 342.385737 \nL 462.707075 340.929742 \nL 467.228222 339.652886 \nL 471.74937 338.532855 \nL 476.270517 337.550119 \nL 480.791664 336.687572 \nL 485.312811 335.930227 \nL 489.833959 335.26494 \nL 494.355106 334.680179 \nL 498.876253 334.165814 \nL 503.397401 333.712945 \nL 507.918548 333.313736 \nL 512.439695 332.961283 \nL 516.960843 332.649489 \nL 521.48199 332.372958 \nL 526.003137 332.126902 \nL 530.524284 331.907056 \nL 535.045432 331.709602 \nL 539.566579 331.531104 \nL 544.087726 331.368448 \nL 548.608874 331.218785 \nL 553.130021 331.079482 \nL 557.651168 330.948078 \nL 562.172316 330.822236 \nL 566.693463 330.699703 \nL 571.21461 330.578269 \nL 575.735757 330.455729 \nL 580.256905 330.329841 \nL 584.778052 330.198286 \nL 589.299199 330.058621 \n\" style=\"fill:none;stroke:#1f77b4;stroke-linecap:square;stroke-width:1.5;\"/>\n   </g>\n   <g id=\"patch_18\">\n    <path d=\"M 347.191761 565.918125 \nL 347.191761 318.827216 \n\" style=\"fill:none;stroke:#000000;stroke-linecap:square;stroke-linejoin:miter;stroke-width:0.8;\"/>\n   </g>\n   <g id=\"patch_19\">\n    <path d=\"M 600.828125 565.918125 \nL 600.828125 318.827216 \n\" style=\"fill:none;stroke:#000000;stroke-linecap:square;stroke-linejoin:miter;stroke-width:0.8;\"/>\n   </g>\n   <g id=\"patch_20\">\n    <path d=\"M 347.191761 565.918125 \nL 600.828125 565.918125 \n\" style=\"fill:none;stroke:#000000;stroke-linecap:square;stroke-linejoin:miter;stroke-width:0.8;\"/>\n   </g>\n   <g id=\"patch_21\">\n    <path d=\"M 347.191761 318.827216 \nL 600.828125 318.827216 \n\" style=\"fill:none;stroke:#000000;stroke-linecap:square;stroke-linejoin:miter;stroke-width:0.8;\"/>\n   </g>\n   <g id=\"text_45\">\n    <!-- $y_t$ -->\n    <g transform=\"translate(468.609943 312.827216)scale(0.12 -0.12)\">\n     <defs>\n      <path d=\"M 1588 -325 \nQ 1188 -997 936 -1164 \nQ 684 -1331 294 -1331 \nL -159 -1331 \nL -63 -850 \nL 269 -850 \nQ 509 -850 678 -719 \nQ 847 -588 1056 -206 \nL 1234 128 \nL 459 3500 \nL 1069 3500 \nL 1650 819 \nL 3256 3500 \nL 3859 3500 \nL 1588 -325 \nz\n\" id=\"DejaVuSans-Oblique-79\" transform=\"scale(0.015625)\"/>\n     </defs>\n     <use transform=\"translate(0 0.3125)\" xlink:href=\"#DejaVuSans-Oblique-79\"/>\n     <use transform=\"translate(59.179688 -16.09375)scale(0.7)\" xlink:href=\"#DejaVuSans-Oblique-74\"/>\n    </g>\n   </g>\n  </g>\n </g>\n <defs>\n  <clipPath id=\"pbd2b9131d9\">\n   <rect height=\"247.090909\" width=\"253.636364\" x=\"42.828125\" y=\"22.318125\"/>\n  </clipPath>\n  <clipPath id=\"p0cc9ae1f03\">\n   <rect height=\"247.090909\" width=\"253.636364\" x=\"347.191761\" y=\"22.318125\"/>\n  </clipPath>\n  <clipPath id=\"paad06d2661\">\n   <rect height=\"247.090909\" width=\"253.636364\" x=\"42.828125\" y=\"318.827216\"/>\n  </clipPath>\n  <clipPath id=\"pf9176db47c\">\n   <rect height=\"247.090909\" width=\"253.636364\" x=\"347.191761\" y=\"318.827216\"/>\n  </clipPath>\n </defs>\n</svg>\n",
                        "image/png": "[encoded data removed]"
                    },
                    "metadata": {
                        "needs_background": "light"
                    }
                }
            ],
            "metadata": {}
        },
        {
            "cell_type": "markdown",
            "source": [
                "(e) Plot the dynamics of per capita, consumption, investment, labor and output per capita."
            ],
            "metadata": {}
        },
        {
            "cell_type": "code",
            "execution_count": 79,
            "source": [
                "t = np.linspace(0, 51, 52)\n",
                "A = 1*(1+econ2.gamma)**t\n",
                "pc = dict()\n",
                "for key in paths:\n",
                "    pc[key] = paths[key]*A\n",
                "\n",
                "fig, ax = plt.subplots(nrows=2, ncols=2, sharex=True, figsize=(10, 10))\n",
                "ax[0,0].plot(pc['ct'])\n",
                "ax[0,0].set_title('$c_t$')\n",
                "ax[0,1].plot(pc['it'])\n",
                "ax[0,1].set_title('$i_t$')\n",
                "ax[1,0].plot(pc['ht'])\n",
                "ax[1,0].set_title('$h_t$')\n",
                "ax[1,1].plot(pc['yt'])\n",
                "ax[1,1].set_title('$y_t$')"
            ],
            "outputs": [
                {
                    "output_type": "execute_result",
                    "data": {
                        "text/plain": [
                            "Text(0.5, 1.0, '$y_t$')"
                        ]
                    },
                    "metadata": {},
                    "execution_count": 79
                },
                {
                    "output_type": "display_data",
                    "data": {
                        "text/plain": [
                            "<Figure size 720x720 with 4 Axes>"
                        ],
                        "image/svg+xml": "<?xml version=\"1.0\" encoding=\"utf-8\" standalone=\"no\"?>\n<!DOCTYPE svg PUBLIC \"-//W3C//DTD SVG 1.1//EN\"\n  \"http://www.w3.org/Graphics/SVG/1.1/DTD/svg11.dtd\">\n<svg height=\"589.79625pt\" version=\"1.1\" viewBox=\"0 0 601.665625 589.79625\" width=\"601.665625pt\" xmlns=\"http://www.w3.org/2000/svg\" xmlns:xlink=\"http://www.w3.org/1999/xlink\">\n <metadata>\n  <rdf:RDF xmlns:cc=\"http://creativecommons.org/ns#\" xmlns:dc=\"http://purl.org/dc/elements/1.1/\" xmlns:rdf=\"http://www.w3.org/1999/02/22-rdf-syntax-ns#\">\n   <cc:Work>\n    <dc:type rdf:resource=\"http://purl.org/dc/dcmitype/StillImage\"/>\n    <dc:date>2021-08-25T18:47:05.701751</dc:date>\n    <dc:format>image/svg+xml</dc:format>\n    <dc:creator>\n     <cc:Agent>\n      <dc:title>Matplotlib v3.4.2, https://matplotlib.org/</dc:title>\n     </cc:Agent>\n    </dc:creator>\n   </cc:Work>\n  </rdf:RDF>\n </metadata>\n <defs>\n  <style type=\"text/css\">*{stroke-linecap:butt;stroke-linejoin:round;}</style>\n </defs>\n <g id=\"figure_1\">\n  <g id=\"patch_1\">\n   <path d=\"M 0 589.79625 \nL 601.665625 589.79625 \nL 601.665625 0 \nL 0 0 \nz\n\" style=\"fill:none;\"/>\n  </g>\n  <g id=\"axes_1\">\n   <g id=\"patch_2\">\n    <path d=\"M 36.465625 269.409034 \nL 290.101989 269.409034 \nL 290.101989 22.318125 \nL 36.465625 22.318125 \nz\n\" style=\"fill:#ffffff;\"/>\n   </g>\n   <g id=\"matplotlib.axis_1\">\n    <g id=\"xtick_1\">\n     <g id=\"line2d_1\">\n      <defs>\n       <path d=\"M 0 0 \nL 0 3.5 \n\" id=\"meb63546d3b\" style=\"stroke:#000000;stroke-width:0.8;\"/>\n      </defs>\n      <g>\n       <use style=\"stroke:#000000;stroke-width:0.8;\" x=\"47.994551\" xlink:href=\"#meb63546d3b\" y=\"269.409034\"/>\n      </g>\n     </g>\n    </g>\n    <g id=\"xtick_2\">\n     <g id=\"line2d_2\">\n      <g>\n       <use style=\"stroke:#000000;stroke-width:0.8;\" x=\"93.206024\" xlink:href=\"#meb63546d3b\" y=\"269.409034\"/>\n      </g>\n     </g>\n    </g>\n    <g id=\"xtick_3\">\n     <g id=\"line2d_3\">\n      <g>\n       <use style=\"stroke:#000000;stroke-width:0.8;\" x=\"138.417497\" xlink:href=\"#meb63546d3b\" y=\"269.409034\"/>\n      </g>\n     </g>\n    </g>\n    <g id=\"xtick_4\">\n     <g id=\"line2d_4\">\n      <g>\n       <use style=\"stroke:#000000;stroke-width:0.8;\" x=\"183.62897\" xlink:href=\"#meb63546d3b\" y=\"269.409034\"/>\n      </g>\n     </g>\n    </g>\n    <g id=\"xtick_5\">\n     <g id=\"line2d_5\">\n      <g>\n       <use style=\"stroke:#000000;stroke-width:0.8;\" x=\"228.840443\" xlink:href=\"#meb63546d3b\" y=\"269.409034\"/>\n      </g>\n     </g>\n    </g>\n    <g id=\"xtick_6\">\n     <g id=\"line2d_6\">\n      <g>\n       <use style=\"stroke:#000000;stroke-width:0.8;\" x=\"274.051916\" xlink:href=\"#meb63546d3b\" y=\"269.409034\"/>\n      </g>\n     </g>\n    </g>\n   </g>\n   <g id=\"matplotlib.axis_2\">\n    <g id=\"ytick_1\">\n     <g id=\"line2d_7\">\n      <defs>\n       <path d=\"M 0 0 \nL -3.5 0 \n\" id=\"mda107108fd\" style=\"stroke:#000000;stroke-width:0.8;\"/>\n      </defs>\n      <g>\n       <use style=\"stroke:#000000;stroke-width:0.8;\" x=\"36.465625\" xlink:href=\"#mda107108fd\" y=\"254.904605\"/>\n      </g>\n     </g>\n     <g id=\"text_1\">\n      <!-- 0.25 -->\n      <g transform=\"translate(7.2 258.703823)scale(0.1 -0.1)\">\n       <defs>\n        <path d=\"M 2034 4250 \nQ 1547 4250 1301 3770 \nQ 1056 3291 1056 2328 \nQ 1056 1369 1301 889 \nQ 1547 409 2034 409 \nQ 2525 409 2770 889 \nQ 3016 1369 3016 2328 \nQ 3016 3291 2770 3770 \nQ 2525 4250 2034 4250 \nz\nM 2034 4750 \nQ 2819 4750 3233 4129 \nQ 3647 3509 3647 2328 \nQ 3647 1150 3233 529 \nQ 2819 -91 2034 -91 \nQ 1250 -91 836 529 \nQ 422 1150 422 2328 \nQ 422 3509 836 4129 \nQ 1250 4750 2034 4750 \nz\n\" id=\"DejaVuSans-30\" transform=\"scale(0.015625)\"/>\n        <path d=\"M 684 794 \nL 1344 794 \nL 1344 0 \nL 684 0 \nL 684 794 \nz\n\" id=\"DejaVuSans-2e\" transform=\"scale(0.015625)\"/>\n        <path d=\"M 1228 531 \nL 3431 531 \nL 3431 0 \nL 469 0 \nL 469 531 \nQ 828 903 1448 1529 \nQ 2069 2156 2228 2338 \nQ 2531 2678 2651 2914 \nQ 2772 3150 2772 3378 \nQ 2772 3750 2511 3984 \nQ 2250 4219 1831 4219 \nQ 1534 4219 1204 4116 \nQ 875 4013 500 3803 \nL 500 4441 \nQ 881 4594 1212 4672 \nQ 1544 4750 1819 4750 \nQ 2544 4750 2975 4387 \nQ 3406 4025 3406 3419 \nQ 3406 3131 3298 2873 \nQ 3191 2616 2906 2266 \nQ 2828 2175 2409 1742 \nQ 1991 1309 1228 531 \nz\n\" id=\"DejaVuSans-32\" transform=\"scale(0.015625)\"/>\n        <path d=\"M 691 4666 \nL 3169 4666 \nL 3169 4134 \nL 1269 4134 \nL 1269 2991 \nQ 1406 3038 1543 3061 \nQ 1681 3084 1819 3084 \nQ 2600 3084 3056 2656 \nQ 3513 2228 3513 1497 \nQ 3513 744 3044 326 \nQ 2575 -91 1722 -91 \nQ 1428 -91 1123 -41 \nQ 819 9 494 109 \nL 494 744 \nQ 775 591 1075 516 \nQ 1375 441 1709 441 \nQ 2250 441 2565 725 \nQ 2881 1009 2881 1497 \nQ 2881 1984 2565 2268 \nQ 2250 2553 1709 2553 \nQ 1456 2553 1204 2497 \nQ 953 2441 691 2322 \nL 691 4666 \nz\n\" id=\"DejaVuSans-35\" transform=\"scale(0.015625)\"/>\n       </defs>\n       <use xlink:href=\"#DejaVuSans-30\"/>\n       <use x=\"63.623047\" xlink:href=\"#DejaVuSans-2e\"/>\n       <use x=\"95.410156\" xlink:href=\"#DejaVuSans-32\"/>\n       <use x=\"159.033203\" xlink:href=\"#DejaVuSans-35\"/>\n      </g>\n     </g>\n    </g>\n    <g id=\"ytick_2\">\n     <g id=\"line2d_8\">\n      <g>\n       <use style=\"stroke:#000000;stroke-width:0.8;\" x=\"36.465625\" xlink:href=\"#mda107108fd\" y=\"222.852101\"/>\n      </g>\n     </g>\n     <g id=\"text_2\">\n      <!-- 0.30 -->\n      <g transform=\"translate(7.2 226.651319)scale(0.1 -0.1)\">\n       <defs>\n        <path d=\"M 2597 2516 \nQ 3050 2419 3304 2112 \nQ 3559 1806 3559 1356 \nQ 3559 666 3084 287 \nQ 2609 -91 1734 -91 \nQ 1441 -91 1130 -33 \nQ 819 25 488 141 \nL 488 750 \nQ 750 597 1062 519 \nQ 1375 441 1716 441 \nQ 2309 441 2620 675 \nQ 2931 909 2931 1356 \nQ 2931 1769 2642 2001 \nQ 2353 2234 1838 2234 \nL 1294 2234 \nL 1294 2753 \nL 1863 2753 \nQ 2328 2753 2575 2939 \nQ 2822 3125 2822 3475 \nQ 2822 3834 2567 4026 \nQ 2313 4219 1838 4219 \nQ 1578 4219 1281 4162 \nQ 984 4106 628 3988 \nL 628 4550 \nQ 988 4650 1302 4700 \nQ 1616 4750 1894 4750 \nQ 2613 4750 3031 4423 \nQ 3450 4097 3450 3541 \nQ 3450 3153 3228 2886 \nQ 3006 2619 2597 2516 \nz\n\" id=\"DejaVuSans-33\" transform=\"scale(0.015625)\"/>\n       </defs>\n       <use xlink:href=\"#DejaVuSans-30\"/>\n       <use x=\"63.623047\" xlink:href=\"#DejaVuSans-2e\"/>\n       <use x=\"95.410156\" xlink:href=\"#DejaVuSans-33\"/>\n       <use x=\"159.033203\" xlink:href=\"#DejaVuSans-30\"/>\n      </g>\n     </g>\n    </g>\n    <g id=\"ytick_3\">\n     <g id=\"line2d_9\">\n      <g>\n       <use style=\"stroke:#000000;stroke-width:0.8;\" x=\"36.465625\" xlink:href=\"#mda107108fd\" y=\"190.799597\"/>\n      </g>\n     </g>\n     <g id=\"text_3\">\n      <!-- 0.35 -->\n      <g transform=\"translate(7.2 194.598815)scale(0.1 -0.1)\">\n       <use xlink:href=\"#DejaVuSans-30\"/>\n       <use x=\"63.623047\" xlink:href=\"#DejaVuSans-2e\"/>\n       <use x=\"95.410156\" xlink:href=\"#DejaVuSans-33\"/>\n       <use x=\"159.033203\" xlink:href=\"#DejaVuSans-35\"/>\n      </g>\n     </g>\n    </g>\n    <g id=\"ytick_4\">\n     <g id=\"line2d_10\">\n      <g>\n       <use style=\"stroke:#000000;stroke-width:0.8;\" x=\"36.465625\" xlink:href=\"#mda107108fd\" y=\"158.747093\"/>\n      </g>\n     </g>\n     <g id=\"text_4\">\n      <!-- 0.40 -->\n      <g transform=\"translate(7.2 162.546311)scale(0.1 -0.1)\">\n       <defs>\n        <path d=\"M 2419 4116 \nL 825 1625 \nL 2419 1625 \nL 2419 4116 \nz\nM 2253 4666 \nL 3047 4666 \nL 3047 1625 \nL 3713 1625 \nL 3713 1100 \nL 3047 1100 \nL 3047 0 \nL 2419 0 \nL 2419 1100 \nL 313 1100 \nL 313 1709 \nL 2253 4666 \nz\n\" id=\"DejaVuSans-34\" transform=\"scale(0.015625)\"/>\n       </defs>\n       <use xlink:href=\"#DejaVuSans-30\"/>\n       <use x=\"63.623047\" xlink:href=\"#DejaVuSans-2e\"/>\n       <use x=\"95.410156\" xlink:href=\"#DejaVuSans-34\"/>\n       <use x=\"159.033203\" xlink:href=\"#DejaVuSans-30\"/>\n      </g>\n     </g>\n    </g>\n    <g id=\"ytick_5\">\n     <g id=\"line2d_11\">\n      <g>\n       <use style=\"stroke:#000000;stroke-width:0.8;\" x=\"36.465625\" xlink:href=\"#mda107108fd\" y=\"126.694589\"/>\n      </g>\n     </g>\n     <g id=\"text_5\">\n      <!-- 0.45 -->\n      <g transform=\"translate(7.2 130.493807)scale(0.1 -0.1)\">\n       <use xlink:href=\"#DejaVuSans-30\"/>\n       <use x=\"63.623047\" xlink:href=\"#DejaVuSans-2e\"/>\n       <use x=\"95.410156\" xlink:href=\"#DejaVuSans-34\"/>\n       <use x=\"159.033203\" xlink:href=\"#DejaVuSans-35\"/>\n      </g>\n     </g>\n    </g>\n    <g id=\"ytick_6\">\n     <g id=\"line2d_12\">\n      <g>\n       <use style=\"stroke:#000000;stroke-width:0.8;\" x=\"36.465625\" xlink:href=\"#mda107108fd\" y=\"94.642085\"/>\n      </g>\n     </g>\n     <g id=\"text_6\">\n      <!-- 0.50 -->\n      <g transform=\"translate(7.2 98.441303)scale(0.1 -0.1)\">\n       <use xlink:href=\"#DejaVuSans-30\"/>\n       <use x=\"63.623047\" xlink:href=\"#DejaVuSans-2e\"/>\n       <use x=\"95.410156\" xlink:href=\"#DejaVuSans-35\"/>\n       <use x=\"159.033203\" xlink:href=\"#DejaVuSans-30\"/>\n      </g>\n     </g>\n    </g>\n    <g id=\"ytick_7\">\n     <g id=\"line2d_13\">\n      <g>\n       <use style=\"stroke:#000000;stroke-width:0.8;\" x=\"36.465625\" xlink:href=\"#mda107108fd\" y=\"62.589581\"/>\n      </g>\n     </g>\n     <g id=\"text_7\">\n      <!-- 0.55 -->\n      <g transform=\"translate(7.2 66.388799)scale(0.1 -0.1)\">\n       <use xlink:href=\"#DejaVuSans-30\"/>\n       <use x=\"63.623047\" xlink:href=\"#DejaVuSans-2e\"/>\n       <use x=\"95.410156\" xlink:href=\"#DejaVuSans-35\"/>\n       <use x=\"159.033203\" xlink:href=\"#DejaVuSans-35\"/>\n      </g>\n     </g>\n    </g>\n    <g id=\"ytick_8\">\n     <g id=\"line2d_14\">\n      <g>\n       <use style=\"stroke:#000000;stroke-width:0.8;\" x=\"36.465625\" xlink:href=\"#mda107108fd\" y=\"30.537077\"/>\n      </g>\n     </g>\n     <g id=\"text_8\">\n      <!-- 0.60 -->\n      <g transform=\"translate(7.2 34.336295)scale(0.1 -0.1)\">\n       <defs>\n        <path d=\"M 2113 2584 \nQ 1688 2584 1439 2293 \nQ 1191 2003 1191 1497 \nQ 1191 994 1439 701 \nQ 1688 409 2113 409 \nQ 2538 409 2786 701 \nQ 3034 994 3034 1497 \nQ 3034 2003 2786 2293 \nQ 2538 2584 2113 2584 \nz\nM 3366 4563 \nL 3366 3988 \nQ 3128 4100 2886 4159 \nQ 2644 4219 2406 4219 \nQ 1781 4219 1451 3797 \nQ 1122 3375 1075 2522 \nQ 1259 2794 1537 2939 \nQ 1816 3084 2150 3084 \nQ 2853 3084 3261 2657 \nQ 3669 2231 3669 1497 \nQ 3669 778 3244 343 \nQ 2819 -91 2113 -91 \nQ 1303 -91 875 529 \nQ 447 1150 447 2328 \nQ 447 3434 972 4092 \nQ 1497 4750 2381 4750 \nQ 2619 4750 2861 4703 \nQ 3103 4656 3366 4563 \nz\n\" id=\"DejaVuSans-36\" transform=\"scale(0.015625)\"/>\n       </defs>\n       <use xlink:href=\"#DejaVuSans-30\"/>\n       <use x=\"63.623047\" xlink:href=\"#DejaVuSans-2e\"/>\n       <use x=\"95.410156\" xlink:href=\"#DejaVuSans-36\"/>\n       <use x=\"159.033203\" xlink:href=\"#DejaVuSans-30\"/>\n      </g>\n     </g>\n    </g>\n   </g>\n   <g id=\"line2d_15\">\n    <path clip-path=\"url(#pe1cb5260c1)\" d=\"M 47.994551 258.177629 \nL 52.515698 253.1309 \nL 57.036845 248.302576 \nL 61.557993 243.663928 \nL 66.07914 239.18924 \nL 70.600287 234.855496 \nL 75.121434 230.642094 \nL 79.642582 226.530594 \nL 84.163729 222.504479 \nL 88.684876 218.548952 \nL 93.206024 214.650745 \nL 97.727171 210.797959 \nL 102.248318 206.979905 \nL 106.769466 203.18698 \nL 111.290613 199.410542 \nL 115.81176 195.642806 \nL 120.332907 191.876749 \nL 124.854055 188.106024 \nL 129.375202 184.324889 \nL 133.896349 180.528134 \nL 138.417497 176.711025 \nL 142.938644 172.869251 \nL 147.459791 168.998872 \nL 151.980939 165.096283 \nL 156.502086 161.158171 \nL 161.023233 157.181483 \nL 165.54438 153.163399 \nL 170.065528 149.101299 \nL 174.586675 144.992746 \nL 179.107822 140.835459 \nL 183.62897 136.627298 \nL 188.150117 132.366245 \nL 192.671264 128.05039 \nL 197.192412 123.677918 \nL 201.713559 119.247095 \nL 206.234706 114.756259 \nL 210.755853 110.203812 \nL 215.277001 105.588208 \nL 219.798148 100.907947 \nL 224.319295 96.16157 \nL 228.840443 91.347651 \nL 233.36159 86.464792 \nL 237.882737 81.51162 \nL 242.403885 76.486779 \nL 246.925032 71.388933 \nL 251.446179 66.216755 \nL 255.967327 60.968931 \nL 260.488474 55.644153 \nL 265.009621 50.24112 \nL 269.530768 44.758534 \nL 274.051916 39.195102 \nL 278.573063 33.54953 \n\" style=\"fill:none;stroke:#1f77b4;stroke-linecap:square;stroke-width:1.5;\"/>\n   </g>\n   <g id=\"patch_3\">\n    <path d=\"M 36.465625 269.409034 \nL 36.465625 22.318125 \n\" style=\"fill:none;stroke:#000000;stroke-linecap:square;stroke-linejoin:miter;stroke-width:0.8;\"/>\n   </g>\n   <g id=\"patch_4\">\n    <path d=\"M 290.101989 269.409034 \nL 290.101989 22.318125 \n\" style=\"fill:none;stroke:#000000;stroke-linecap:square;stroke-linejoin:miter;stroke-width:0.8;\"/>\n   </g>\n   <g id=\"patch_5\">\n    <path d=\"M 36.465625 269.409034 \nL 290.101989 269.409034 \n\" style=\"fill:none;stroke:#000000;stroke-linecap:square;stroke-linejoin:miter;stroke-width:0.8;\"/>\n   </g>\n   <g id=\"patch_6\">\n    <path d=\"M 36.465625 22.318125 \nL 290.101989 22.318125 \n\" style=\"fill:none;stroke:#000000;stroke-linecap:square;stroke-linejoin:miter;stroke-width:0.8;\"/>\n   </g>\n   <g id=\"text_9\">\n    <!-- $c_t$ -->\n    <g transform=\"translate(158.123807 16.318125)scale(0.12 -0.12)\">\n     <defs>\n      <path d=\"M 3431 3366 \nL 3316 2797 \nQ 3109 2947 2876 3022 \nQ 2644 3097 2394 3097 \nQ 2119 3097 1870 3000 \nQ 1622 2903 1453 2725 \nQ 1184 2453 1037 2087 \nQ 891 1722 891 1331 \nQ 891 859 1127 628 \nQ 1363 397 1844 397 \nQ 2081 397 2348 469 \nQ 2616 541 2906 684 \nL 2797 116 \nQ 2547 13 2283 -39 \nQ 2019 -91 1741 -91 \nQ 1044 -91 669 257 \nQ 294 606 294 1253 \nQ 294 1797 489 2255 \nQ 684 2713 1069 3078 \nQ 1331 3328 1684 3456 \nQ 2038 3584 2456 3584 \nQ 2700 3584 2940 3529 \nQ 3181 3475 3431 3366 \nz\n\" id=\"DejaVuSans-Oblique-63\" transform=\"scale(0.015625)\"/>\n      <path d=\"M 2706 3500 \nL 2619 3053 \nL 1472 3053 \nL 1100 1153 \nQ 1081 1047 1072 975 \nQ 1063 903 1063 863 \nQ 1063 663 1183 572 \nQ 1303 481 1569 481 \nL 2150 481 \nL 2053 0 \nL 1503 0 \nQ 991 0 739 200 \nQ 488 400 488 806 \nQ 488 878 497 964 \nQ 506 1050 525 1153 \nL 897 3053 \nL 409 3053 \nL 500 3500 \nL 978 3500 \nL 1172 4494 \nL 1747 4494 \nL 1556 3500 \nL 2706 3500 \nz\n\" id=\"DejaVuSans-Oblique-74\" transform=\"scale(0.015625)\"/>\n     </defs>\n     <use xlink:href=\"#DejaVuSans-Oblique-63\"/>\n     <use transform=\"translate(54.980469 -16.40625)scale(0.7)\" xlink:href=\"#DejaVuSans-Oblique-74\"/>\n    </g>\n   </g>\n  </g>\n  <g id=\"axes_2\">\n   <g id=\"patch_7\">\n    <path d=\"M 340.829261 269.409034 \nL 594.465625 269.409034 \nL 594.465625 22.318125 \nL 340.829261 22.318125 \nz\n\" style=\"fill:#ffffff;\"/>\n   </g>\n   <g id=\"matplotlib.axis_3\">\n    <g id=\"xtick_7\">\n     <g id=\"line2d_16\">\n      <g>\n       <use style=\"stroke:#000000;stroke-width:0.8;\" x=\"352.358187\" xlink:href=\"#meb63546d3b\" y=\"269.409034\"/>\n      </g>\n     </g>\n    </g>\n    <g id=\"xtick_8\">\n     <g id=\"line2d_17\">\n      <g>\n       <use style=\"stroke:#000000;stroke-width:0.8;\" x=\"397.56966\" xlink:href=\"#meb63546d3b\" y=\"269.409034\"/>\n      </g>\n     </g>\n    </g>\n    <g id=\"xtick_9\">\n     <g id=\"line2d_18\">\n      <g>\n       <use style=\"stroke:#000000;stroke-width:0.8;\" x=\"442.781133\" xlink:href=\"#meb63546d3b\" y=\"269.409034\"/>\n      </g>\n     </g>\n    </g>\n    <g id=\"xtick_10\">\n     <g id=\"line2d_19\">\n      <g>\n       <use style=\"stroke:#000000;stroke-width:0.8;\" x=\"487.992606\" xlink:href=\"#meb63546d3b\" y=\"269.409034\"/>\n      </g>\n     </g>\n    </g>\n    <g id=\"xtick_11\">\n     <g id=\"line2d_20\">\n      <g>\n       <use style=\"stroke:#000000;stroke-width:0.8;\" x=\"533.204079\" xlink:href=\"#meb63546d3b\" y=\"269.409034\"/>\n      </g>\n     </g>\n    </g>\n    <g id=\"xtick_12\">\n     <g id=\"line2d_21\">\n      <g>\n       <use style=\"stroke:#000000;stroke-width:0.8;\" x=\"578.415552\" xlink:href=\"#meb63546d3b\" y=\"269.409034\"/>\n      </g>\n     </g>\n    </g>\n   </g>\n   <g id=\"matplotlib.axis_4\">\n    <g id=\"ytick_9\">\n     <g id=\"line2d_22\">\n      <g>\n       <use style=\"stroke:#000000;stroke-width:0.8;\" x=\"340.829261\" xlink:href=\"#mda107108fd\" y=\"269.353899\"/>\n      </g>\n     </g>\n     <g id=\"text_10\">\n      <!-- 0.175 -->\n      <g transform=\"translate(305.201136 273.153118)scale(0.1 -0.1)\">\n       <defs>\n        <path d=\"M 794 531 \nL 1825 531 \nL 1825 4091 \nL 703 3866 \nL 703 4441 \nL 1819 4666 \nL 2450 4666 \nL 2450 531 \nL 3481 531 \nL 3481 0 \nL 794 0 \nL 794 531 \nz\n\" id=\"DejaVuSans-31\" transform=\"scale(0.015625)\"/>\n        <path d=\"M 525 4666 \nL 3525 4666 \nL 3525 4397 \nL 1831 0 \nL 1172 0 \nL 2766 4134 \nL 525 4134 \nL 525 4666 \nz\n\" id=\"DejaVuSans-37\" transform=\"scale(0.015625)\"/>\n       </defs>\n       <use xlink:href=\"#DejaVuSans-30\"/>\n       <use x=\"63.623047\" xlink:href=\"#DejaVuSans-2e\"/>\n       <use x=\"95.410156\" xlink:href=\"#DejaVuSans-31\"/>\n       <use x=\"159.033203\" xlink:href=\"#DejaVuSans-37\"/>\n       <use x=\"222.65625\" xlink:href=\"#DejaVuSans-35\"/>\n      </g>\n     </g>\n    </g>\n    <g id=\"ytick_10\">\n     <g id=\"line2d_23\">\n      <g>\n       <use style=\"stroke:#000000;stroke-width:0.8;\" x=\"340.829261\" xlink:href=\"#mda107108fd\" y=\"239.750509\"/>\n      </g>\n     </g>\n     <g id=\"text_11\">\n      <!-- 0.200 -->\n      <g transform=\"translate(305.201136 243.549728)scale(0.1 -0.1)\">\n       <use xlink:href=\"#DejaVuSans-30\"/>\n       <use x=\"63.623047\" xlink:href=\"#DejaVuSans-2e\"/>\n       <use x=\"95.410156\" xlink:href=\"#DejaVuSans-32\"/>\n       <use x=\"159.033203\" xlink:href=\"#DejaVuSans-30\"/>\n       <use x=\"222.65625\" xlink:href=\"#DejaVuSans-30\"/>\n      </g>\n     </g>\n    </g>\n    <g id=\"ytick_11\">\n     <g id=\"line2d_24\">\n      <g>\n       <use style=\"stroke:#000000;stroke-width:0.8;\" x=\"340.829261\" xlink:href=\"#mda107108fd\" y=\"210.147119\"/>\n      </g>\n     </g>\n     <g id=\"text_12\">\n      <!-- 0.225 -->\n      <g transform=\"translate(305.201136 213.946338)scale(0.1 -0.1)\">\n       <use xlink:href=\"#DejaVuSans-30\"/>\n       <use x=\"63.623047\" xlink:href=\"#DejaVuSans-2e\"/>\n       <use x=\"95.410156\" xlink:href=\"#DejaVuSans-32\"/>\n       <use x=\"159.033203\" xlink:href=\"#DejaVuSans-32\"/>\n       <use x=\"222.65625\" xlink:href=\"#DejaVuSans-35\"/>\n      </g>\n     </g>\n    </g>\n    <g id=\"ytick_12\">\n     <g id=\"line2d_25\">\n      <g>\n       <use style=\"stroke:#000000;stroke-width:0.8;\" x=\"340.829261\" xlink:href=\"#mda107108fd\" y=\"180.543729\"/>\n      </g>\n     </g>\n     <g id=\"text_13\">\n      <!-- 0.250 -->\n      <g transform=\"translate(305.201136 184.342948)scale(0.1 -0.1)\">\n       <use xlink:href=\"#DejaVuSans-30\"/>\n       <use x=\"63.623047\" xlink:href=\"#DejaVuSans-2e\"/>\n       <use x=\"95.410156\" xlink:href=\"#DejaVuSans-32\"/>\n       <use x=\"159.033203\" xlink:href=\"#DejaVuSans-35\"/>\n       <use x=\"222.65625\" xlink:href=\"#DejaVuSans-30\"/>\n      </g>\n     </g>\n    </g>\n    <g id=\"ytick_13\">\n     <g id=\"line2d_26\">\n      <g>\n       <use style=\"stroke:#000000;stroke-width:0.8;\" x=\"340.829261\" xlink:href=\"#mda107108fd\" y=\"150.940339\"/>\n      </g>\n     </g>\n     <g id=\"text_14\">\n      <!-- 0.275 -->\n      <g transform=\"translate(305.201136 154.739558)scale(0.1 -0.1)\">\n       <use xlink:href=\"#DejaVuSans-30\"/>\n       <use x=\"63.623047\" xlink:href=\"#DejaVuSans-2e\"/>\n       <use x=\"95.410156\" xlink:href=\"#DejaVuSans-32\"/>\n       <use x=\"159.033203\" xlink:href=\"#DejaVuSans-37\"/>\n       <use x=\"222.65625\" xlink:href=\"#DejaVuSans-35\"/>\n      </g>\n     </g>\n    </g>\n    <g id=\"ytick_14\">\n     <g id=\"line2d_27\">\n      <g>\n       <use style=\"stroke:#000000;stroke-width:0.8;\" x=\"340.829261\" xlink:href=\"#mda107108fd\" y=\"121.336949\"/>\n      </g>\n     </g>\n     <g id=\"text_15\">\n      <!-- 0.300 -->\n      <g transform=\"translate(305.201136 125.136168)scale(0.1 -0.1)\">\n       <use xlink:href=\"#DejaVuSans-30\"/>\n       <use x=\"63.623047\" xlink:href=\"#DejaVuSans-2e\"/>\n       <use x=\"95.410156\" xlink:href=\"#DejaVuSans-33\"/>\n       <use x=\"159.033203\" xlink:href=\"#DejaVuSans-30\"/>\n       <use x=\"222.65625\" xlink:href=\"#DejaVuSans-30\"/>\n      </g>\n     </g>\n    </g>\n    <g id=\"ytick_15\">\n     <g id=\"line2d_28\">\n      <g>\n       <use style=\"stroke:#000000;stroke-width:0.8;\" x=\"340.829261\" xlink:href=\"#mda107108fd\" y=\"91.73356\"/>\n      </g>\n     </g>\n     <g id=\"text_16\">\n      <!-- 0.325 -->\n      <g transform=\"translate(305.201136 95.532778)scale(0.1 -0.1)\">\n       <use xlink:href=\"#DejaVuSans-30\"/>\n       <use x=\"63.623047\" xlink:href=\"#DejaVuSans-2e\"/>\n       <use x=\"95.410156\" xlink:href=\"#DejaVuSans-33\"/>\n       <use x=\"159.033203\" xlink:href=\"#DejaVuSans-32\"/>\n       <use x=\"222.65625\" xlink:href=\"#DejaVuSans-35\"/>\n      </g>\n     </g>\n    </g>\n    <g id=\"ytick_16\">\n     <g id=\"line2d_29\">\n      <g>\n       <use style=\"stroke:#000000;stroke-width:0.8;\" x=\"340.829261\" xlink:href=\"#mda107108fd\" y=\"62.13017\"/>\n      </g>\n     </g>\n     <g id=\"text_17\">\n      <!-- 0.350 -->\n      <g transform=\"translate(305.201136 65.929388)scale(0.1 -0.1)\">\n       <use xlink:href=\"#DejaVuSans-30\"/>\n       <use x=\"63.623047\" xlink:href=\"#DejaVuSans-2e\"/>\n       <use x=\"95.410156\" xlink:href=\"#DejaVuSans-33\"/>\n       <use x=\"159.033203\" xlink:href=\"#DejaVuSans-35\"/>\n       <use x=\"222.65625\" xlink:href=\"#DejaVuSans-30\"/>\n      </g>\n     </g>\n    </g>\n    <g id=\"ytick_17\">\n     <g id=\"line2d_30\">\n      <g>\n       <use style=\"stroke:#000000;stroke-width:0.8;\" x=\"340.829261\" xlink:href=\"#mda107108fd\" y=\"32.52678\"/>\n      </g>\n     </g>\n     <g id=\"text_18\">\n      <!-- 0.375 -->\n      <g transform=\"translate(305.201136 36.325999)scale(0.1 -0.1)\">\n       <use xlink:href=\"#DejaVuSans-30\"/>\n       <use x=\"63.623047\" xlink:href=\"#DejaVuSans-2e\"/>\n       <use x=\"95.410156\" xlink:href=\"#DejaVuSans-33\"/>\n       <use x=\"159.033203\" xlink:href=\"#DejaVuSans-37\"/>\n       <use x=\"222.65625\" xlink:href=\"#DejaVuSans-35\"/>\n      </g>\n     </g>\n    </g>\n   </g>\n   <g id=\"line2d_31\">\n    <path clip-path=\"url(#p9b71c24a21)\" d=\"M 352.358187 258.177629 \nL 356.879334 256.01394 \nL 361.400482 253.76147 \nL 365.921629 251.409591 \nL 370.442776 248.952294 \nL 374.963923 246.386785 \nL 379.485071 243.712473 \nL 384.006218 240.930239 \nL 388.527365 238.041912 \nL 393.048513 235.049889 \nL 397.56966 231.95687 \nL 402.090807 228.765666 \nL 406.611955 225.479068 \nL 411.133102 222.099762 \nL 415.654249 218.630265 \nL 420.175397 215.072892 \nL 424.696544 211.429738 \nL 429.217691 207.702665 \nL 433.738838 203.893307 \nL 438.259986 200.003072 \nL 442.781133 196.033148 \nL 447.30228 191.984522 \nL 451.823428 187.857982 \nL 456.344575 183.654137 \nL 460.865722 179.373425 \nL 465.38687 175.01613 \nL 469.908017 170.582387 \nL 474.429164 166.072199 \nL 478.950311 161.485446 \nL 483.471459 156.821889 \nL 487.992606 152.081187 \nL 492.513753 147.262898 \nL 497.034901 142.366486 \nL 501.556048 137.391332 \nL 506.077195 132.336731 \nL 510.598343 127.201905 \nL 515.11949 121.985998 \nL 519.640637 116.688085 \nL 524.161784 111.307167 \nL 528.682932 105.842179 \nL 533.204079 100.291986 \nL 537.725226 94.655381 \nL 542.246374 88.931085 \nL 546.767521 83.117746 \nL 551.288668 77.21393 \nL 555.809816 71.21812 \nL 560.330963 65.128707 \nL 564.85211 58.943983 \nL 569.373257 52.662133 \nL 573.894405 46.281216 \nL 578.415552 39.799162 \nL 582.936699 33.54953 \n\" style=\"fill:none;stroke:#1f77b4;stroke-linecap:square;stroke-width:1.5;\"/>\n   </g>\n   <g id=\"patch_8\">\n    <path d=\"M 340.829261 269.409034 \nL 340.829261 22.318125 \n\" style=\"fill:none;stroke:#000000;stroke-linecap:square;stroke-linejoin:miter;stroke-width:0.8;\"/>\n   </g>\n   <g id=\"patch_9\">\n    <path d=\"M 594.465625 269.409034 \nL 594.465625 22.318125 \n\" style=\"fill:none;stroke:#000000;stroke-linecap:square;stroke-linejoin:miter;stroke-width:0.8;\"/>\n   </g>\n   <g id=\"patch_10\">\n    <path d=\"M 340.829261 269.409034 \nL 594.465625 269.409034 \n\" style=\"fill:none;stroke:#000000;stroke-linecap:square;stroke-linejoin:miter;stroke-width:0.8;\"/>\n   </g>\n   <g id=\"patch_11\">\n    <path d=\"M 340.829261 22.318125 \nL 594.465625 22.318125 \n\" style=\"fill:none;stroke:#000000;stroke-linecap:square;stroke-linejoin:miter;stroke-width:0.8;\"/>\n   </g>\n   <g id=\"text_19\">\n    <!-- $i_t$ -->\n    <g transform=\"translate(464.167443 16.318125)scale(0.12 -0.12)\">\n     <defs>\n      <path d=\"M 1172 4863 \nL 1747 4863 \nL 1606 4134 \nL 1031 4134 \nL 1172 4863 \nz\nM 909 3500 \nL 1484 3500 \nL 800 0 \nL 225 0 \nL 909 3500 \nz\n\" id=\"DejaVuSans-Oblique-69\" transform=\"scale(0.015625)\"/>\n     </defs>\n     <use transform=\"translate(0 0.015625)\" xlink:href=\"#DejaVuSans-Oblique-69\"/>\n     <use transform=\"translate(27.783203 -16.390625)scale(0.7)\" xlink:href=\"#DejaVuSans-Oblique-74\"/>\n    </g>\n   </g>\n  </g>\n  <g id=\"axes_3\">\n   <g id=\"patch_12\">\n    <path d=\"M 36.465625 565.918125 \nL 290.101989 565.918125 \nL 290.101989 318.827216 \nL 36.465625 318.827216 \nz\n\" style=\"fill:#ffffff;\"/>\n   </g>\n   <g id=\"matplotlib.axis_5\">\n    <g id=\"xtick_13\">\n     <g id=\"line2d_32\">\n      <g>\n       <use style=\"stroke:#000000;stroke-width:0.8;\" x=\"47.994551\" xlink:href=\"#meb63546d3b\" y=\"565.918125\"/>\n      </g>\n     </g>\n     <g id=\"text_20\">\n      <!-- 0 -->\n      <g transform=\"translate(44.813301 580.516562)scale(0.1 -0.1)\">\n       <use xlink:href=\"#DejaVuSans-30\"/>\n      </g>\n     </g>\n    </g>\n    <g id=\"xtick_14\">\n     <g id=\"line2d_33\">\n      <g>\n       <use style=\"stroke:#000000;stroke-width:0.8;\" x=\"93.206024\" xlink:href=\"#meb63546d3b\" y=\"565.918125\"/>\n      </g>\n     </g>\n     <g id=\"text_21\">\n      <!-- 10 -->\n      <g transform=\"translate(86.843524 580.516562)scale(0.1 -0.1)\">\n       <use xlink:href=\"#DejaVuSans-31\"/>\n       <use x=\"63.623047\" xlink:href=\"#DejaVuSans-30\"/>\n      </g>\n     </g>\n    </g>\n    <g id=\"xtick_15\">\n     <g id=\"line2d_34\">\n      <g>\n       <use style=\"stroke:#000000;stroke-width:0.8;\" x=\"138.417497\" xlink:href=\"#meb63546d3b\" y=\"565.918125\"/>\n      </g>\n     </g>\n     <g id=\"text_22\">\n      <!-- 20 -->\n      <g transform=\"translate(132.054997 580.516562)scale(0.1 -0.1)\">\n       <use xlink:href=\"#DejaVuSans-32\"/>\n       <use x=\"63.623047\" xlink:href=\"#DejaVuSans-30\"/>\n      </g>\n     </g>\n    </g>\n    <g id=\"xtick_16\">\n     <g id=\"line2d_35\">\n      <g>\n       <use style=\"stroke:#000000;stroke-width:0.8;\" x=\"183.62897\" xlink:href=\"#meb63546d3b\" y=\"565.918125\"/>\n      </g>\n     </g>\n     <g id=\"text_23\">\n      <!-- 30 -->\n      <g transform=\"translate(177.26647 580.516562)scale(0.1 -0.1)\">\n       <use xlink:href=\"#DejaVuSans-33\"/>\n       <use x=\"63.623047\" xlink:href=\"#DejaVuSans-30\"/>\n      </g>\n     </g>\n    </g>\n    <g id=\"xtick_17\">\n     <g id=\"line2d_36\">\n      <g>\n       <use style=\"stroke:#000000;stroke-width:0.8;\" x=\"228.840443\" xlink:href=\"#meb63546d3b\" y=\"565.918125\"/>\n      </g>\n     </g>\n     <g id=\"text_24\">\n      <!-- 40 -->\n      <g transform=\"translate(222.477943 580.516562)scale(0.1 -0.1)\">\n       <use xlink:href=\"#DejaVuSans-34\"/>\n       <use x=\"63.623047\" xlink:href=\"#DejaVuSans-30\"/>\n      </g>\n     </g>\n    </g>\n    <g id=\"xtick_18\">\n     <g id=\"line2d_37\">\n      <g>\n       <use style=\"stroke:#000000;stroke-width:0.8;\" x=\"274.051916\" xlink:href=\"#meb63546d3b\" y=\"565.918125\"/>\n      </g>\n     </g>\n     <g id=\"text_25\">\n      <!-- 50 -->\n      <g transform=\"translate(267.689416 580.516562)scale(0.1 -0.1)\">\n       <use xlink:href=\"#DejaVuSans-35\"/>\n       <use x=\"63.623047\" xlink:href=\"#DejaVuSans-30\"/>\n      </g>\n     </g>\n    </g>\n   </g>\n   <g id=\"matplotlib.axis_6\">\n    <g id=\"ytick_18\">\n     <g id=\"line2d_38\">\n      <g>\n       <use style=\"stroke:#000000;stroke-width:0.8;\" x=\"36.465625\" xlink:href=\"#mda107108fd\" y=\"534.692081\"/>\n      </g>\n     </g>\n     <g id=\"text_26\">\n      <!-- 0.35 -->\n      <g transform=\"translate(7.2 538.4913)scale(0.1 -0.1)\">\n       <use xlink:href=\"#DejaVuSans-30\"/>\n       <use x=\"63.623047\" xlink:href=\"#DejaVuSans-2e\"/>\n       <use x=\"95.410156\" xlink:href=\"#DejaVuSans-33\"/>\n       <use x=\"159.033203\" xlink:href=\"#DejaVuSans-35\"/>\n      </g>\n     </g>\n    </g>\n    <g id=\"ytick_19\">\n     <g id=\"line2d_39\">\n      <g>\n       <use style=\"stroke:#000000;stroke-width:0.8;\" x=\"36.465625\" xlink:href=\"#mda107108fd\" y=\"500.981338\"/>\n      </g>\n     </g>\n     <g id=\"text_27\">\n      <!-- 0.40 -->\n      <g transform=\"translate(7.2 504.780557)scale(0.1 -0.1)\">\n       <use xlink:href=\"#DejaVuSans-30\"/>\n       <use x=\"63.623047\" xlink:href=\"#DejaVuSans-2e\"/>\n       <use x=\"95.410156\" xlink:href=\"#DejaVuSans-34\"/>\n       <use x=\"159.033203\" xlink:href=\"#DejaVuSans-30\"/>\n      </g>\n     </g>\n    </g>\n    <g id=\"ytick_20\">\n     <g id=\"line2d_40\">\n      <g>\n       <use style=\"stroke:#000000;stroke-width:0.8;\" x=\"36.465625\" xlink:href=\"#mda107108fd\" y=\"467.270595\"/>\n      </g>\n     </g>\n     <g id=\"text_28\">\n      <!-- 0.45 -->\n      <g transform=\"translate(7.2 471.069814)scale(0.1 -0.1)\">\n       <use xlink:href=\"#DejaVuSans-30\"/>\n       <use x=\"63.623047\" xlink:href=\"#DejaVuSans-2e\"/>\n       <use x=\"95.410156\" xlink:href=\"#DejaVuSans-34\"/>\n       <use x=\"159.033203\" xlink:href=\"#DejaVuSans-35\"/>\n      </g>\n     </g>\n    </g>\n    <g id=\"ytick_21\">\n     <g id=\"line2d_41\">\n      <g>\n       <use style=\"stroke:#000000;stroke-width:0.8;\" x=\"36.465625\" xlink:href=\"#mda107108fd\" y=\"433.559852\"/>\n      </g>\n     </g>\n     <g id=\"text_29\">\n      <!-- 0.50 -->\n      <g transform=\"translate(7.2 437.359071)scale(0.1 -0.1)\">\n       <use xlink:href=\"#DejaVuSans-30\"/>\n       <use x=\"63.623047\" xlink:href=\"#DejaVuSans-2e\"/>\n       <use x=\"95.410156\" xlink:href=\"#DejaVuSans-35\"/>\n       <use x=\"159.033203\" xlink:href=\"#DejaVuSans-30\"/>\n      </g>\n     </g>\n    </g>\n    <g id=\"ytick_22\">\n     <g id=\"line2d_42\">\n      <g>\n       <use style=\"stroke:#000000;stroke-width:0.8;\" x=\"36.465625\" xlink:href=\"#mda107108fd\" y=\"399.849109\"/>\n      </g>\n     </g>\n     <g id=\"text_30\">\n      <!-- 0.55 -->\n      <g transform=\"translate(7.2 403.648328)scale(0.1 -0.1)\">\n       <use xlink:href=\"#DejaVuSans-30\"/>\n       <use x=\"63.623047\" xlink:href=\"#DejaVuSans-2e\"/>\n       <use x=\"95.410156\" xlink:href=\"#DejaVuSans-35\"/>\n       <use x=\"159.033203\" xlink:href=\"#DejaVuSans-35\"/>\n      </g>\n     </g>\n    </g>\n    <g id=\"ytick_23\">\n     <g id=\"line2d_43\">\n      <g>\n       <use style=\"stroke:#000000;stroke-width:0.8;\" x=\"36.465625\" xlink:href=\"#mda107108fd\" y=\"366.138366\"/>\n      </g>\n     </g>\n     <g id=\"text_31\">\n      <!-- 0.60 -->\n      <g transform=\"translate(7.2 369.937584)scale(0.1 -0.1)\">\n       <use xlink:href=\"#DejaVuSans-30\"/>\n       <use x=\"63.623047\" xlink:href=\"#DejaVuSans-2e\"/>\n       <use x=\"95.410156\" xlink:href=\"#DejaVuSans-36\"/>\n       <use x=\"159.033203\" xlink:href=\"#DejaVuSans-30\"/>\n      </g>\n     </g>\n    </g>\n    <g id=\"ytick_24\">\n     <g id=\"line2d_44\">\n      <g>\n       <use style=\"stroke:#000000;stroke-width:0.8;\" x=\"36.465625\" xlink:href=\"#mda107108fd\" y=\"332.427623\"/>\n      </g>\n     </g>\n     <g id=\"text_32\">\n      <!-- 0.65 -->\n      <g transform=\"translate(7.2 336.226841)scale(0.1 -0.1)\">\n       <use xlink:href=\"#DejaVuSans-30\"/>\n       <use x=\"63.623047\" xlink:href=\"#DejaVuSans-2e\"/>\n       <use x=\"95.410156\" xlink:href=\"#DejaVuSans-36\"/>\n       <use x=\"159.033203\" xlink:href=\"#DejaVuSans-35\"/>\n      </g>\n     </g>\n    </g>\n   </g>\n   <g id=\"line2d_45\">\n    <path clip-path=\"url(#p5c8a0dbd72)\" d=\"M 47.994551 554.68672 \nL 52.515698 552.720962 \nL 57.036845 550.574213 \nL 61.557993 548.263082 \nL 66.07914 545.801679 \nL 70.600287 543.202026 \nL 75.121434 540.474392 \nL 79.642582 537.627565 \nL 84.163729 534.669073 \nL 88.684876 531.605371 \nL 93.206024 528.441986 \nL 97.727171 525.183654 \nL 102.248318 521.834421 \nL 106.769466 518.397733 \nL 111.290613 514.876516 \nL 115.81176 511.273239 \nL 120.332907 507.589969 \nL 124.854055 503.828424 \nL 129.375202 499.990009 \nL 133.896349 496.075854 \nL 138.417497 492.086846 \nL 142.938644 488.023655 \nL 147.459791 483.886757 \nL 151.980939 479.676457 \nL 156.502086 475.392904 \nL 161.023233 471.036112 \nL 165.54438 466.605965 \nL 170.065528 462.102238 \nL 174.586675 457.524603 \nL 179.107822 452.87264 \nL 183.62897 448.145843 \nL 188.150117 443.34363 \nL 192.671264 438.465348 \nL 197.192412 433.510278 \nL 201.713559 428.47764 \nL 206.234706 423.366598 \nL 210.755853 418.176261 \nL 215.277001 412.90569 \nL 219.798148 407.553895 \nL 224.319295 402.119842 \nL 228.840443 396.602451 \nL 233.36159 391.000601 \nL 237.882737 385.313125 \nL 242.403885 379.538816 \nL 246.925032 373.67642 \nL 251.446179 367.724645 \nL 255.967327 361.68215 \nL 260.488474 355.54755 \nL 265.009621 349.319409 \nL 269.530768 342.996244 \nL 274.051916 336.576514 \nL 278.573063 330.058621 \n\" style=\"fill:none;stroke:#1f77b4;stroke-linecap:square;stroke-width:1.5;\"/>\n   </g>\n   <g id=\"patch_13\">\n    <path d=\"M 36.465625 565.918125 \nL 36.465625 318.827216 \n\" style=\"fill:none;stroke:#000000;stroke-linecap:square;stroke-linejoin:miter;stroke-width:0.8;\"/>\n   </g>\n   <g id=\"patch_14\">\n    <path d=\"M 290.101989 565.918125 \nL 290.101989 318.827216 \n\" style=\"fill:none;stroke:#000000;stroke-linecap:square;stroke-linejoin:miter;stroke-width:0.8;\"/>\n   </g>\n   <g id=\"patch_15\">\n    <path d=\"M 36.465625 565.918125 \nL 290.101989 565.918125 \n\" style=\"fill:none;stroke:#000000;stroke-linecap:square;stroke-linejoin:miter;stroke-width:0.8;\"/>\n   </g>\n   <g id=\"patch_16\">\n    <path d=\"M 36.465625 318.827216 \nL 290.101989 318.827216 \n\" style=\"fill:none;stroke:#000000;stroke-linecap:square;stroke-linejoin:miter;stroke-width:0.8;\"/>\n   </g>\n   <g id=\"text_33\">\n    <!-- $h_t$ -->\n    <g transform=\"translate(157.643807 312.827216)scale(0.12 -0.12)\">\n     <defs>\n      <path d=\"M 3566 2113 \nL 3156 0 \nL 2578 0 \nL 2988 2091 \nQ 3016 2238 3031 2350 \nQ 3047 2463 3047 2528 \nQ 3047 2791 2881 2937 \nQ 2716 3084 2419 3084 \nQ 1956 3084 1617 2771 \nQ 1278 2459 1178 1941 \nL 800 0 \nL 225 0 \nL 1172 4863 \nL 1747 4863 \nL 1375 2950 \nQ 1594 3244 1934 3414 \nQ 2275 3584 2650 3584 \nQ 3113 3584 3367 3334 \nQ 3622 3084 3622 2631 \nQ 3622 2519 3608 2391 \nQ 3594 2263 3566 2113 \nz\n\" id=\"DejaVuSans-Oblique-68\" transform=\"scale(0.015625)\"/>\n     </defs>\n     <use transform=\"translate(0 0.015625)\" xlink:href=\"#DejaVuSans-Oblique-68\"/>\n     <use transform=\"translate(63.378906 -16.390625)scale(0.7)\" xlink:href=\"#DejaVuSans-Oblique-74\"/>\n    </g>\n   </g>\n  </g>\n  <g id=\"axes_4\">\n   <g id=\"patch_17\">\n    <path d=\"M 340.829261 565.918125 \nL 594.465625 565.918125 \nL 594.465625 318.827216 \nL 340.829261 318.827216 \nz\n\" style=\"fill:#ffffff;\"/>\n   </g>\n   <g id=\"matplotlib.axis_7\">\n    <g id=\"xtick_19\">\n     <g id=\"line2d_46\">\n      <g>\n       <use style=\"stroke:#000000;stroke-width:0.8;\" x=\"352.358187\" xlink:href=\"#meb63546d3b\" y=\"565.918125\"/>\n      </g>\n     </g>\n     <g id=\"text_34\">\n      <!-- 0 -->\n      <g transform=\"translate(349.176937 580.516562)scale(0.1 -0.1)\">\n       <use xlink:href=\"#DejaVuSans-30\"/>\n      </g>\n     </g>\n    </g>\n    <g id=\"xtick_20\">\n     <g id=\"line2d_47\">\n      <g>\n       <use style=\"stroke:#000000;stroke-width:0.8;\" x=\"397.56966\" xlink:href=\"#meb63546d3b\" y=\"565.918125\"/>\n      </g>\n     </g>\n     <g id=\"text_35\">\n      <!-- 10 -->\n      <g transform=\"translate(391.20716 580.516562)scale(0.1 -0.1)\">\n       <use xlink:href=\"#DejaVuSans-31\"/>\n       <use x=\"63.623047\" xlink:href=\"#DejaVuSans-30\"/>\n      </g>\n     </g>\n    </g>\n    <g id=\"xtick_21\">\n     <g id=\"line2d_48\">\n      <g>\n       <use style=\"stroke:#000000;stroke-width:0.8;\" x=\"442.781133\" xlink:href=\"#meb63546d3b\" y=\"565.918125\"/>\n      </g>\n     </g>\n     <g id=\"text_36\">\n      <!-- 20 -->\n      <g transform=\"translate(436.418633 580.516562)scale(0.1 -0.1)\">\n       <use xlink:href=\"#DejaVuSans-32\"/>\n       <use x=\"63.623047\" xlink:href=\"#DejaVuSans-30\"/>\n      </g>\n     </g>\n    </g>\n    <g id=\"xtick_22\">\n     <g id=\"line2d_49\">\n      <g>\n       <use style=\"stroke:#000000;stroke-width:0.8;\" x=\"487.992606\" xlink:href=\"#meb63546d3b\" y=\"565.918125\"/>\n      </g>\n     </g>\n     <g id=\"text_37\">\n      <!-- 30 -->\n      <g transform=\"translate(481.630106 580.516562)scale(0.1 -0.1)\">\n       <use xlink:href=\"#DejaVuSans-33\"/>\n       <use x=\"63.623047\" xlink:href=\"#DejaVuSans-30\"/>\n      </g>\n     </g>\n    </g>\n    <g id=\"xtick_23\">\n     <g id=\"line2d_50\">\n      <g>\n       <use style=\"stroke:#000000;stroke-width:0.8;\" x=\"533.204079\" xlink:href=\"#meb63546d3b\" y=\"565.918125\"/>\n      </g>\n     </g>\n     <g id=\"text_38\">\n      <!-- 40 -->\n      <g transform=\"translate(526.841579 580.516562)scale(0.1 -0.1)\">\n       <use xlink:href=\"#DejaVuSans-34\"/>\n       <use x=\"63.623047\" xlink:href=\"#DejaVuSans-30\"/>\n      </g>\n     </g>\n    </g>\n    <g id=\"xtick_24\">\n     <g id=\"line2d_51\">\n      <g>\n       <use style=\"stroke:#000000;stroke-width:0.8;\" x=\"578.415552\" xlink:href=\"#meb63546d3b\" y=\"565.918125\"/>\n      </g>\n     </g>\n     <g id=\"text_39\">\n      <!-- 50 -->\n      <g transform=\"translate(572.053052 580.516562)scale(0.1 -0.1)\">\n       <use xlink:href=\"#DejaVuSans-35\"/>\n       <use x=\"63.623047\" xlink:href=\"#DejaVuSans-30\"/>\n      </g>\n     </g>\n    </g>\n   </g>\n   <g id=\"matplotlib.axis_8\">\n    <g id=\"ytick_25\">\n     <g id=\"line2d_52\">\n      <g>\n       <use style=\"stroke:#000000;stroke-width:0.8;\" x=\"340.829261\" xlink:href=\"#mda107108fd\" y=\"551.681352\"/>\n      </g>\n     </g>\n     <g id=\"text_40\">\n      <!-- 0.6 -->\n      <g transform=\"translate(317.926136 555.480571)scale(0.1 -0.1)\">\n       <use xlink:href=\"#DejaVuSans-30\"/>\n       <use x=\"63.623047\" xlink:href=\"#DejaVuSans-2e\"/>\n       <use x=\"95.410156\" xlink:href=\"#DejaVuSans-36\"/>\n      </g>\n     </g>\n    </g>\n    <g id=\"ytick_26\">\n     <g id=\"line2d_53\">\n      <g>\n       <use style=\"stroke:#000000;stroke-width:0.8;\" x=\"340.829261\" xlink:href=\"#mda107108fd\" y=\"521.753617\"/>\n      </g>\n     </g>\n     <g id=\"text_41\">\n      <!-- 0.7 -->\n      <g transform=\"translate(317.926136 525.552835)scale(0.1 -0.1)\">\n       <use xlink:href=\"#DejaVuSans-30\"/>\n       <use x=\"63.623047\" xlink:href=\"#DejaVuSans-2e\"/>\n       <use x=\"95.410156\" xlink:href=\"#DejaVuSans-37\"/>\n      </g>\n     </g>\n    </g>\n    <g id=\"ytick_27\">\n     <g id=\"line2d_54\">\n      <g>\n       <use style=\"stroke:#000000;stroke-width:0.8;\" x=\"340.829261\" xlink:href=\"#mda107108fd\" y=\"491.825881\"/>\n      </g>\n     </g>\n     <g id=\"text_42\">\n      <!-- 0.8 -->\n      <g transform=\"translate(317.926136 495.6251)scale(0.1 -0.1)\">\n       <defs>\n        <path d=\"M 2034 2216 \nQ 1584 2216 1326 1975 \nQ 1069 1734 1069 1313 \nQ 1069 891 1326 650 \nQ 1584 409 2034 409 \nQ 2484 409 2743 651 \nQ 3003 894 3003 1313 \nQ 3003 1734 2745 1975 \nQ 2488 2216 2034 2216 \nz\nM 1403 2484 \nQ 997 2584 770 2862 \nQ 544 3141 544 3541 \nQ 544 4100 942 4425 \nQ 1341 4750 2034 4750 \nQ 2731 4750 3128 4425 \nQ 3525 4100 3525 3541 \nQ 3525 3141 3298 2862 \nQ 3072 2584 2669 2484 \nQ 3125 2378 3379 2068 \nQ 3634 1759 3634 1313 \nQ 3634 634 3220 271 \nQ 2806 -91 2034 -91 \nQ 1263 -91 848 271 \nQ 434 634 434 1313 \nQ 434 1759 690 2068 \nQ 947 2378 1403 2484 \nz\nM 1172 3481 \nQ 1172 3119 1398 2916 \nQ 1625 2713 2034 2713 \nQ 2441 2713 2670 2916 \nQ 2900 3119 2900 3481 \nQ 2900 3844 2670 4047 \nQ 2441 4250 2034 4250 \nQ 1625 4250 1398 4047 \nQ 1172 3844 1172 3481 \nz\n\" id=\"DejaVuSans-38\" transform=\"scale(0.015625)\"/>\n       </defs>\n       <use xlink:href=\"#DejaVuSans-30\"/>\n       <use x=\"63.623047\" xlink:href=\"#DejaVuSans-2e\"/>\n       <use x=\"95.410156\" xlink:href=\"#DejaVuSans-38\"/>\n      </g>\n     </g>\n    </g>\n    <g id=\"ytick_28\">\n     <g id=\"line2d_55\">\n      <g>\n       <use style=\"stroke:#000000;stroke-width:0.8;\" x=\"340.829261\" xlink:href=\"#mda107108fd\" y=\"461.898146\"/>\n      </g>\n     </g>\n     <g id=\"text_43\">\n      <!-- 0.9 -->\n      <g transform=\"translate(317.926136 465.697365)scale(0.1 -0.1)\">\n       <defs>\n        <path d=\"M 703 97 \nL 703 672 \nQ 941 559 1184 500 \nQ 1428 441 1663 441 \nQ 2288 441 2617 861 \nQ 2947 1281 2994 2138 \nQ 2813 1869 2534 1725 \nQ 2256 1581 1919 1581 \nQ 1219 1581 811 2004 \nQ 403 2428 403 3163 \nQ 403 3881 828 4315 \nQ 1253 4750 1959 4750 \nQ 2769 4750 3195 4129 \nQ 3622 3509 3622 2328 \nQ 3622 1225 3098 567 \nQ 2575 -91 1691 -91 \nQ 1453 -91 1209 -44 \nQ 966 3 703 97 \nz\nM 1959 2075 \nQ 2384 2075 2632 2365 \nQ 2881 2656 2881 3163 \nQ 2881 3666 2632 3958 \nQ 2384 4250 1959 4250 \nQ 1534 4250 1286 3958 \nQ 1038 3666 1038 3163 \nQ 1038 2656 1286 2365 \nQ 1534 2075 1959 2075 \nz\n\" id=\"DejaVuSans-39\" transform=\"scale(0.015625)\"/>\n       </defs>\n       <use xlink:href=\"#DejaVuSans-30\"/>\n       <use x=\"63.623047\" xlink:href=\"#DejaVuSans-2e\"/>\n       <use x=\"95.410156\" xlink:href=\"#DejaVuSans-39\"/>\n      </g>\n     </g>\n    </g>\n    <g id=\"ytick_29\">\n     <g id=\"line2d_56\">\n      <g>\n       <use style=\"stroke:#000000;stroke-width:0.8;\" x=\"340.829261\" xlink:href=\"#mda107108fd\" y=\"431.970411\"/>\n      </g>\n     </g>\n     <g id=\"text_44\">\n      <!-- 1.0 -->\n      <g transform=\"translate(317.926136 435.769629)scale(0.1 -0.1)\">\n       <use xlink:href=\"#DejaVuSans-31\"/>\n       <use x=\"63.623047\" xlink:href=\"#DejaVuSans-2e\"/>\n       <use x=\"95.410156\" xlink:href=\"#DejaVuSans-30\"/>\n      </g>\n     </g>\n    </g>\n    <g id=\"ytick_30\">\n     <g id=\"line2d_57\">\n      <g>\n       <use style=\"stroke:#000000;stroke-width:0.8;\" x=\"340.829261\" xlink:href=\"#mda107108fd\" y=\"402.042675\"/>\n      </g>\n     </g>\n     <g id=\"text_45\">\n      <!-- 1.1 -->\n      <g transform=\"translate(317.926136 405.841894)scale(0.1 -0.1)\">\n       <use xlink:href=\"#DejaVuSans-31\"/>\n       <use x=\"63.623047\" xlink:href=\"#DejaVuSans-2e\"/>\n       <use x=\"95.410156\" xlink:href=\"#DejaVuSans-31\"/>\n      </g>\n     </g>\n    </g>\n    <g id=\"ytick_31\">\n     <g id=\"line2d_58\">\n      <g>\n       <use style=\"stroke:#000000;stroke-width:0.8;\" x=\"340.829261\" xlink:href=\"#mda107108fd\" y=\"372.11494\"/>\n      </g>\n     </g>\n     <g id=\"text_46\">\n      <!-- 1.2 -->\n      <g transform=\"translate(317.926136 375.914159)scale(0.1 -0.1)\">\n       <use xlink:href=\"#DejaVuSans-31\"/>\n       <use x=\"63.623047\" xlink:href=\"#DejaVuSans-2e\"/>\n       <use x=\"95.410156\" xlink:href=\"#DejaVuSans-32\"/>\n      </g>\n     </g>\n    </g>\n    <g id=\"ytick_32\">\n     <g id=\"line2d_59\">\n      <g>\n       <use style=\"stroke:#000000;stroke-width:0.8;\" x=\"340.829261\" xlink:href=\"#mda107108fd\" y=\"342.187205\"/>\n      </g>\n     </g>\n     <g id=\"text_47\">\n      <!-- 1.3 -->\n      <g transform=\"translate(317.926136 345.986424)scale(0.1 -0.1)\">\n       <use xlink:href=\"#DejaVuSans-31\"/>\n       <use x=\"63.623047\" xlink:href=\"#DejaVuSans-2e\"/>\n       <use x=\"95.410156\" xlink:href=\"#DejaVuSans-33\"/>\n      </g>\n     </g>\n    </g>\n   </g>\n   <g id=\"line2d_60\">\n    <path clip-path=\"url(#p72eb8b7a52)\" d=\"M 352.358187 554.68672 \nL 356.879334 550.564755 \nL 361.400482 546.562815 \nL 365.921629 542.657975 \nL 370.442776 538.830836 \nL 374.963923 535.064863 \nL 379.485071 531.345867 \nL 384.006218 527.661596 \nL 388.527365 524.001411 \nL 393.048513 520.356022 \nL 397.56966 516.717278 \nL 402.090807 513.077989 \nL 406.611955 509.431787 \nL 411.133102 505.773002 \nL 415.654249 502.096567 \nL 420.175397 498.397933 \nL 424.696544 494.672996 \nL 429.217691 490.91804 \nL 433.738838 487.129684 \nL 438.259986 483.304838 \nL 442.781133 479.440666 \nL 447.30228 475.534552 \nL 451.823428 471.584073 \nL 456.344575 467.586971 \nL 460.865722 463.541137 \nL 465.38687 459.444586 \nL 469.908017 455.295445 \nL 474.429164 451.091934 \nL 478.950311 446.832358 \nL 483.471459 442.515092 \nL 487.992606 438.138572 \nL 492.513753 433.701284 \nL 497.034901 429.201759 \nL 501.556048 424.638566 \nL 506.077195 420.010302 \nL 510.598343 415.315587 \nL 515.11949 410.553061 \nL 519.640637 405.721378 \nL 524.161784 400.819199 \nL 528.682932 395.845192 \nL 533.204079 390.798024 \nL 537.725226 385.676359 \nL 542.246374 380.478856 \nL 546.767521 375.204159 \nL 551.288668 369.850903 \nL 555.809816 364.4177 \nL 560.330963 358.903142 \nL 564.85211 353.305794 \nL 569.373257 347.624191 \nL 573.894405 341.856831 \nL 578.415552 336.002171 \nL 582.936699 330.058621 \n\" style=\"fill:none;stroke:#1f77b4;stroke-linecap:square;stroke-width:1.5;\"/>\n   </g>\n   <g id=\"patch_18\">\n    <path d=\"M 340.829261 565.918125 \nL 340.829261 318.827216 \n\" style=\"fill:none;stroke:#000000;stroke-linecap:square;stroke-linejoin:miter;stroke-width:0.8;\"/>\n   </g>\n   <g id=\"patch_19\">\n    <path d=\"M 594.465625 565.918125 \nL 594.465625 318.827216 \n\" style=\"fill:none;stroke:#000000;stroke-linecap:square;stroke-linejoin:miter;stroke-width:0.8;\"/>\n   </g>\n   <g id=\"patch_20\">\n    <path d=\"M 340.829261 565.918125 \nL 594.465625 565.918125 \n\" style=\"fill:none;stroke:#000000;stroke-linecap:square;stroke-linejoin:miter;stroke-width:0.8;\"/>\n   </g>\n   <g id=\"patch_21\">\n    <path d=\"M 340.829261 318.827216 \nL 594.465625 318.827216 \n\" style=\"fill:none;stroke:#000000;stroke-linecap:square;stroke-linejoin:miter;stroke-width:0.8;\"/>\n   </g>\n   <g id=\"text_48\">\n    <!-- $y_t$ -->\n    <g transform=\"translate(462.247443 312.827216)scale(0.12 -0.12)\">\n     <defs>\n      <path d=\"M 1588 -325 \nQ 1188 -997 936 -1164 \nQ 684 -1331 294 -1331 \nL -159 -1331 \nL -63 -850 \nL 269 -850 \nQ 509 -850 678 -719 \nQ 847 -588 1056 -206 \nL 1234 128 \nL 459 3500 \nL 1069 3500 \nL 1650 819 \nL 3256 3500 \nL 3859 3500 \nL 1588 -325 \nz\n\" id=\"DejaVuSans-Oblique-79\" transform=\"scale(0.015625)\"/>\n     </defs>\n     <use transform=\"translate(0 0.3125)\" xlink:href=\"#DejaVuSans-Oblique-79\"/>\n     <use transform=\"translate(59.179688 -16.09375)scale(0.7)\" xlink:href=\"#DejaVuSans-Oblique-74\"/>\n    </g>\n   </g>\n  </g>\n </g>\n <defs>\n  <clipPath id=\"pe1cb5260c1\">\n   <rect height=\"247.090909\" width=\"253.636364\" x=\"36.465625\" y=\"22.318125\"/>\n  </clipPath>\n  <clipPath id=\"p9b71c24a21\">\n   <rect height=\"247.090909\" width=\"253.636364\" x=\"340.829261\" y=\"22.318125\"/>\n  </clipPath>\n  <clipPath id=\"p5c8a0dbd72\">\n   <rect height=\"247.090909\" width=\"253.636364\" x=\"36.465625\" y=\"318.827216\"/>\n  </clipPath>\n  <clipPath id=\"p72eb8b7a52\">\n   <rect height=\"247.090909\" width=\"253.636364\" x=\"340.829261\" y=\"318.827216\"/>\n  </clipPath>\n </defs>\n</svg>\n",
                        "image/png": "[encoded data removed]"
                    },
                    "metadata": {
                        "needs_background": "light"
                    }
                }
            ],
            "metadata": {}
        },
        {
            "cell_type": "markdown",
            "source": [
                "(f) Now let's study the following tax reform: Suppose that the government reduces the tax on capital income from $0.15$ to $0.10$ and the government increases the $\\operatorname{tax}$ on labor income in order to finance the same level of spending (i.e. in the long run the tax reform is revenue neutral). Write a program to implement this tax reform. Assume that prior the reform the initial capital stock is in the steady-state. Show the dynamics and analyze this reform. Use economic arguments to interpret your results."
            ],
            "metadata": {}
        },
        {
            "cell_type": "markdown",
            "source": [
                "(g) Calculate the long run welfare implications of this tax reform in terms of consumption:\n",
                "$$\n",
                "\\left[\\ln \\left((1+\\omega) c^{\\text {new }}\\right)+\\gamma \\ln \\left(l^{\\text {new }}\\right)\\right]-\\left[\\ln \\left(c^{\\text {old }}\\right)+\\gamma \\ln \\left(l^{\\text {old }}\\right)\\right]\n",
                "$$\n",
                "$\\omega$ is the percentage of consumption that the household must be compensated (or pay) to accept this tax reform. How about the transitional dynamics? (Related to this exercise see Cavalcanti (2008). \"Tributos sobre a Folha ou sobre o Faturamento? Efeitos Quantitativos Para o Brasil\" RBE.)"
            ],
            "metadata": {}
        },
        {
            "cell_type": "markdown",
            "source": [],
            "metadata": {}
        }
    ],
    "metadata": {
        "orig_nbformat": 4,
        "language_info": {
            "name": "python",
            "version": "3.9.6",
            "mimetype": "text/x-python",
            "codemirror_mode": {
                "name": "ipython",
                "version": 3
            },
            "pygments_lexer": "ipython3",
            "nbconvert_exporter": "python",
            "file_extension": ".py"
        },
        "kernelspec": {
            "name": "python3",
            "display_name": "Python 3.9.6 64-bit ('macro3': conda)"
        },
        "interpreter": {
            "hash": "5269626eba0645a58271900a4a4adb7b95cd8d0957f8ef63693b10e38aacf359"
        }
    },
    "nbformat": 4,
    "nbformat_minor": 2
}